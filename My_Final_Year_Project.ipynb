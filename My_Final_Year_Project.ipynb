{
  "cells": [
    {
      "cell_type": "markdown",
      "metadata": {
        "id": "view-in-github",
        "colab_type": "text"
      },
      "source": [
        "<a href=\"https://colab.research.google.com/github/youcine/My_Graduation_Project/blob/main/My_Final_Year_Project.ipynb\" target=\"_parent\"><img src=\"https://colab.research.google.com/assets/colab-badge.svg\" alt=\"Open In Colab\"/></a>"
      ]
    },
    {
      "cell_type": "code",
      "execution_count": null,
      "metadata": {
        "colab": {
          "base_uri": "https://localhost:8080/"
        },
        "id": "0k8w_8RMQD6J",
        "outputId": "755b2024-0d5d-4440-9c83-342a841ff68f"
      },
      "outputs": [
        {
          "output_type": "stream",
          "name": "stdout",
          "text": [
            "Mounted at /content/drive\n"
          ]
        }
      ],
      "source": [
        "from google.colab import drive\n",
        "drive.mount('/content/drive')"
      ]
    },
    {
      "cell_type": "code",
      "execution_count": null,
      "metadata": {
        "colab": {
          "base_uri": "https://localhost:8080/",
          "height": 206
        },
        "id": "Mv5waM9mQbxL",
        "outputId": "24c58421-4a03-4a9f-b18b-9f664b0d4edd"
      },
      "outputs": [
        {
          "output_type": "execute_result",
          "data": {
            "text/plain": [
              "    pH  Temperature    Amx       Time  Adsorbent  Adsorption\n",
              "0  4.0         25.0  100.0   5.204221     1000.0   41.347476\n",
              "1  4.0         25.0  100.0  10.578249     1000.0   46.389702\n",
              "2  4.0         25.0  100.0  15.581654     1000.0   52.481777\n",
              "3  4.0         25.0  100.0  30.545542     1000.0   54.877204\n",
              "4  4.0         25.0  100.0  45.463103     1000.0   56.326290"
            ],
            "text/html": [
              "\n",
              "  <div id=\"df-8744b38c-2911-42b5-8015-c2f3cd002055\">\n",
              "    <div class=\"colab-df-container\">\n",
              "      <div>\n",
              "<style scoped>\n",
              "    .dataframe tbody tr th:only-of-type {\n",
              "        vertical-align: middle;\n",
              "    }\n",
              "\n",
              "    .dataframe tbody tr th {\n",
              "        vertical-align: top;\n",
              "    }\n",
              "\n",
              "    .dataframe thead th {\n",
              "        text-align: right;\n",
              "    }\n",
              "</style>\n",
              "<table border=\"1\" class=\"dataframe\">\n",
              "  <thead>\n",
              "    <tr style=\"text-align: right;\">\n",
              "      <th></th>\n",
              "      <th>pH</th>\n",
              "      <th>Temperature</th>\n",
              "      <th>Amx</th>\n",
              "      <th>Time</th>\n",
              "      <th>Adsorbent</th>\n",
              "      <th>Adsorption</th>\n",
              "    </tr>\n",
              "  </thead>\n",
              "  <tbody>\n",
              "    <tr>\n",
              "      <th>0</th>\n",
              "      <td>4.0</td>\n",
              "      <td>25.0</td>\n",
              "      <td>100.0</td>\n",
              "      <td>5.204221</td>\n",
              "      <td>1000.0</td>\n",
              "      <td>41.347476</td>\n",
              "    </tr>\n",
              "    <tr>\n",
              "      <th>1</th>\n",
              "      <td>4.0</td>\n",
              "      <td>25.0</td>\n",
              "      <td>100.0</td>\n",
              "      <td>10.578249</td>\n",
              "      <td>1000.0</td>\n",
              "      <td>46.389702</td>\n",
              "    </tr>\n",
              "    <tr>\n",
              "      <th>2</th>\n",
              "      <td>4.0</td>\n",
              "      <td>25.0</td>\n",
              "      <td>100.0</td>\n",
              "      <td>15.581654</td>\n",
              "      <td>1000.0</td>\n",
              "      <td>52.481777</td>\n",
              "    </tr>\n",
              "    <tr>\n",
              "      <th>3</th>\n",
              "      <td>4.0</td>\n",
              "      <td>25.0</td>\n",
              "      <td>100.0</td>\n",
              "      <td>30.545542</td>\n",
              "      <td>1000.0</td>\n",
              "      <td>54.877204</td>\n",
              "    </tr>\n",
              "    <tr>\n",
              "      <th>4</th>\n",
              "      <td>4.0</td>\n",
              "      <td>25.0</td>\n",
              "      <td>100.0</td>\n",
              "      <td>45.463103</td>\n",
              "      <td>1000.0</td>\n",
              "      <td>56.326290</td>\n",
              "    </tr>\n",
              "  </tbody>\n",
              "</table>\n",
              "</div>\n",
              "      <button class=\"colab-df-convert\" onclick=\"convertToInteractive('df-8744b38c-2911-42b5-8015-c2f3cd002055')\"\n",
              "              title=\"Convert this dataframe to an interactive table.\"\n",
              "              style=\"display:none;\">\n",
              "        \n",
              "  <svg xmlns=\"http://www.w3.org/2000/svg\" height=\"24px\"viewBox=\"0 0 24 24\"\n",
              "       width=\"24px\">\n",
              "    <path d=\"M0 0h24v24H0V0z\" fill=\"none\"/>\n",
              "    <path d=\"M18.56 5.44l.94 2.06.94-2.06 2.06-.94-2.06-.94-.94-2.06-.94 2.06-2.06.94zm-11 1L8.5 8.5l.94-2.06 2.06-.94-2.06-.94L8.5 2.5l-.94 2.06-2.06.94zm10 10l.94 2.06.94-2.06 2.06-.94-2.06-.94-.94-2.06-.94 2.06-2.06.94z\"/><path d=\"M17.41 7.96l-1.37-1.37c-.4-.4-.92-.59-1.43-.59-.52 0-1.04.2-1.43.59L10.3 9.45l-7.72 7.72c-.78.78-.78 2.05 0 2.83L4 21.41c.39.39.9.59 1.41.59.51 0 1.02-.2 1.41-.59l7.78-7.78 2.81-2.81c.8-.78.8-2.07 0-2.86zM5.41 20L4 18.59l7.72-7.72 1.47 1.35L5.41 20z\"/>\n",
              "  </svg>\n",
              "      </button>\n",
              "      \n",
              "  <style>\n",
              "    .colab-df-container {\n",
              "      display:flex;\n",
              "      flex-wrap:wrap;\n",
              "      gap: 12px;\n",
              "    }\n",
              "\n",
              "    .colab-df-convert {\n",
              "      background-color: #E8F0FE;\n",
              "      border: none;\n",
              "      border-radius: 50%;\n",
              "      cursor: pointer;\n",
              "      display: none;\n",
              "      fill: #1967D2;\n",
              "      height: 32px;\n",
              "      padding: 0 0 0 0;\n",
              "      width: 32px;\n",
              "    }\n",
              "\n",
              "    .colab-df-convert:hover {\n",
              "      background-color: #E2EBFA;\n",
              "      box-shadow: 0px 1px 2px rgba(60, 64, 67, 0.3), 0px 1px 3px 1px rgba(60, 64, 67, 0.15);\n",
              "      fill: #174EA6;\n",
              "    }\n",
              "\n",
              "    [theme=dark] .colab-df-convert {\n",
              "      background-color: #3B4455;\n",
              "      fill: #D2E3FC;\n",
              "    }\n",
              "\n",
              "    [theme=dark] .colab-df-convert:hover {\n",
              "      background-color: #434B5C;\n",
              "      box-shadow: 0px 1px 3px 1px rgba(0, 0, 0, 0.15);\n",
              "      filter: drop-shadow(0px 1px 2px rgba(0, 0, 0, 0.3));\n",
              "      fill: #FFFFFF;\n",
              "    }\n",
              "  </style>\n",
              "\n",
              "      <script>\n",
              "        const buttonEl =\n",
              "          document.querySelector('#df-8744b38c-2911-42b5-8015-c2f3cd002055 button.colab-df-convert');\n",
              "        buttonEl.style.display =\n",
              "          google.colab.kernel.accessAllowed ? 'block' : 'none';\n",
              "\n",
              "        async function convertToInteractive(key) {\n",
              "          const element = document.querySelector('#df-8744b38c-2911-42b5-8015-c2f3cd002055');\n",
              "          const dataTable =\n",
              "            await google.colab.kernel.invokeFunction('convertToInteractive',\n",
              "                                                     [key], {});\n",
              "          if (!dataTable) return;\n",
              "\n",
              "          const docLinkHtml = 'Like what you see? Visit the ' +\n",
              "            '<a target=\"_blank\" href=https://colab.research.google.com/notebooks/data_table.ipynb>data table notebook</a>'\n",
              "            + ' to learn more about interactive tables.';\n",
              "          element.innerHTML = '';\n",
              "          dataTable['output_type'] = 'display_data';\n",
              "          await google.colab.output.renderOutput(dataTable, element);\n",
              "          const docLink = document.createElement('div');\n",
              "          docLink.innerHTML = docLinkHtml;\n",
              "          element.appendChild(docLink);\n",
              "        }\n",
              "      </script>\n",
              "    </div>\n",
              "  </div>\n",
              "  "
            ]
          },
          "metadata": {},
          "execution_count": 2
        }
      ],
      "source": [
        "import pandas as pd\n",
        "import numpy as np\n",
        "import matplotlib.pyplot as plt\n",
        "import seaborn as sns\n",
        "dataset=pd.read_csv('drive/MyDrive/dataset.csv')\n",
        "ourdata=pd.read_csv('drive/MyDrive/ourdata.csv')\n",
        "\n",
        "\n",
        "dataset1=pd.read_csv('drive/MyDrive/dataset1.csv')\n",
        "dataset2=pd.read_csv('drive/MyDrive/dataset2.csv')\n",
        "dataset3=pd.read_csv('drive/MyDrive/dataset3.csv')\n",
        "dataset4=pd.read_csv('drive/MyDrive/dataset4.csv')\n",
        "dataset5=pd.read_csv('drive/MyDrive/dataset5.csv')\n",
        "dataset6=pd.read_csv('drive/MyDrive/dataset6.csv')\n",
        "dataset7=pd.read_csv('drive/MyDrive/dataset7.csv')\n",
        "dataset8=pd.read_csv('drive/MyDrive/dataset8.csv')\n",
        "dataset10=pd.read_csv('drive/MyDrive/dataset10.csv')\n",
        "dataset11=pd.read_csv('drive/MyDrive/dataset11.csv')\n",
        "dataset12=pd.read_csv('drive/MyDrive/dataset12.csv')\n",
        "dataset.head()"
      ]
    },
    {
      "cell_type": "code",
      "execution_count": null,
      "metadata": {
        "colab": {
          "base_uri": "https://localhost:8080/"
        },
        "id": "q5y67zxNQd51",
        "outputId": "b0dc1220-bb1f-4436-e312-b64a38afa4cc"
      },
      "outputs": [
        {
          "output_type": "stream",
          "name": "stdout",
          "text": [
            "<class 'pandas.core.frame.DataFrame'>\n",
            "RangeIndex: 329 entries, 0 to 328\n",
            "Data columns (total 6 columns):\n",
            " #   Column       Non-Null Count  Dtype  \n",
            "---  ------       --------------  -----  \n",
            " 0   pH           329 non-null    float64\n",
            " 1   Temperature  329 non-null    float64\n",
            " 2   Amx          329 non-null    float64\n",
            " 3   Time         329 non-null    float64\n",
            " 4   Adsorbent    329 non-null    float64\n",
            " 5   Adsorption   329 non-null    float64\n",
            "dtypes: float64(6)\n",
            "memory usage: 15.5 KB\n"
          ]
        }
      ],
      "source": [
        "dataset.info()"
      ]
    },
    {
      "cell_type": "code",
      "source": [
        "dataset.describe()"
      ],
      "metadata": {
        "colab": {
          "base_uri": "https://localhost:8080/",
          "height": 300
        },
        "id": "SP9R2rJEgOG0",
        "outputId": "faaf7bb1-39ee-4676-90cb-b829abfb470a"
      },
      "execution_count": null,
      "outputs": [
        {
          "output_type": "execute_result",
          "data": {
            "text/plain": [
              "               pH  Temperature         Amx         Time    Adsorbent  \\\n",
              "count  329.000000   329.000000  329.000000   329.000000   329.000000   \n",
              "mean     6.924743    25.365063  140.818605   194.701337   871.997057   \n",
              "std      2.649717     2.900870  185.477537   378.231200   494.097119   \n",
              "min      1.016627    25.000000   10.000000     0.083819    50.000000   \n",
              "25%      5.000000    25.000000   50.000000    15.652962   400.000000   \n",
              "50%      9.000000    25.000000  100.000000    75.390880  1000.000000   \n",
              "75%      9.000000    25.000000  100.000000   150.344304  1000.000000   \n",
              "max     12.025993    55.052139  800.000000  1440.000000  4994.622118   \n",
              "\n",
              "       Adsorption  \n",
              "count  329.000000  \n",
              "mean    57.976058  \n",
              "std     26.474524  \n",
              "min      0.037530  \n",
              "25%     40.719767  \n",
              "50%     58.455559  \n",
              "75%     79.729048  \n",
              "max     99.756053  "
            ],
            "text/html": [
              "\n",
              "  <div id=\"df-cf3782b7-0400-459d-9dad-0febd292edb8\">\n",
              "    <div class=\"colab-df-container\">\n",
              "      <div>\n",
              "<style scoped>\n",
              "    .dataframe tbody tr th:only-of-type {\n",
              "        vertical-align: middle;\n",
              "    }\n",
              "\n",
              "    .dataframe tbody tr th {\n",
              "        vertical-align: top;\n",
              "    }\n",
              "\n",
              "    .dataframe thead th {\n",
              "        text-align: right;\n",
              "    }\n",
              "</style>\n",
              "<table border=\"1\" class=\"dataframe\">\n",
              "  <thead>\n",
              "    <tr style=\"text-align: right;\">\n",
              "      <th></th>\n",
              "      <th>pH</th>\n",
              "      <th>Temperature</th>\n",
              "      <th>Amx</th>\n",
              "      <th>Time</th>\n",
              "      <th>Adsorbent</th>\n",
              "      <th>Adsorption</th>\n",
              "    </tr>\n",
              "  </thead>\n",
              "  <tbody>\n",
              "    <tr>\n",
              "      <th>count</th>\n",
              "      <td>329.000000</td>\n",
              "      <td>329.000000</td>\n",
              "      <td>329.000000</td>\n",
              "      <td>329.000000</td>\n",
              "      <td>329.000000</td>\n",
              "      <td>329.000000</td>\n",
              "    </tr>\n",
              "    <tr>\n",
              "      <th>mean</th>\n",
              "      <td>6.924743</td>\n",
              "      <td>25.365063</td>\n",
              "      <td>140.818605</td>\n",
              "      <td>194.701337</td>\n",
              "      <td>871.997057</td>\n",
              "      <td>57.976058</td>\n",
              "    </tr>\n",
              "    <tr>\n",
              "      <th>std</th>\n",
              "      <td>2.649717</td>\n",
              "      <td>2.900870</td>\n",
              "      <td>185.477537</td>\n",
              "      <td>378.231200</td>\n",
              "      <td>494.097119</td>\n",
              "      <td>26.474524</td>\n",
              "    </tr>\n",
              "    <tr>\n",
              "      <th>min</th>\n",
              "      <td>1.016627</td>\n",
              "      <td>25.000000</td>\n",
              "      <td>10.000000</td>\n",
              "      <td>0.083819</td>\n",
              "      <td>50.000000</td>\n",
              "      <td>0.037530</td>\n",
              "    </tr>\n",
              "    <tr>\n",
              "      <th>25%</th>\n",
              "      <td>5.000000</td>\n",
              "      <td>25.000000</td>\n",
              "      <td>50.000000</td>\n",
              "      <td>15.652962</td>\n",
              "      <td>400.000000</td>\n",
              "      <td>40.719767</td>\n",
              "    </tr>\n",
              "    <tr>\n",
              "      <th>50%</th>\n",
              "      <td>9.000000</td>\n",
              "      <td>25.000000</td>\n",
              "      <td>100.000000</td>\n",
              "      <td>75.390880</td>\n",
              "      <td>1000.000000</td>\n",
              "      <td>58.455559</td>\n",
              "    </tr>\n",
              "    <tr>\n",
              "      <th>75%</th>\n",
              "      <td>9.000000</td>\n",
              "      <td>25.000000</td>\n",
              "      <td>100.000000</td>\n",
              "      <td>150.344304</td>\n",
              "      <td>1000.000000</td>\n",
              "      <td>79.729048</td>\n",
              "    </tr>\n",
              "    <tr>\n",
              "      <th>max</th>\n",
              "      <td>12.025993</td>\n",
              "      <td>55.052139</td>\n",
              "      <td>800.000000</td>\n",
              "      <td>1440.000000</td>\n",
              "      <td>4994.622118</td>\n",
              "      <td>99.756053</td>\n",
              "    </tr>\n",
              "  </tbody>\n",
              "</table>\n",
              "</div>\n",
              "      <button class=\"colab-df-convert\" onclick=\"convertToInteractive('df-cf3782b7-0400-459d-9dad-0febd292edb8')\"\n",
              "              title=\"Convert this dataframe to an interactive table.\"\n",
              "              style=\"display:none;\">\n",
              "        \n",
              "  <svg xmlns=\"http://www.w3.org/2000/svg\" height=\"24px\"viewBox=\"0 0 24 24\"\n",
              "       width=\"24px\">\n",
              "    <path d=\"M0 0h24v24H0V0z\" fill=\"none\"/>\n",
              "    <path d=\"M18.56 5.44l.94 2.06.94-2.06 2.06-.94-2.06-.94-.94-2.06-.94 2.06-2.06.94zm-11 1L8.5 8.5l.94-2.06 2.06-.94-2.06-.94L8.5 2.5l-.94 2.06-2.06.94zm10 10l.94 2.06.94-2.06 2.06-.94-2.06-.94-.94-2.06-.94 2.06-2.06.94z\"/><path d=\"M17.41 7.96l-1.37-1.37c-.4-.4-.92-.59-1.43-.59-.52 0-1.04.2-1.43.59L10.3 9.45l-7.72 7.72c-.78.78-.78 2.05 0 2.83L4 21.41c.39.39.9.59 1.41.59.51 0 1.02-.2 1.41-.59l7.78-7.78 2.81-2.81c.8-.78.8-2.07 0-2.86zM5.41 20L4 18.59l7.72-7.72 1.47 1.35L5.41 20z\"/>\n",
              "  </svg>\n",
              "      </button>\n",
              "      \n",
              "  <style>\n",
              "    .colab-df-container {\n",
              "      display:flex;\n",
              "      flex-wrap:wrap;\n",
              "      gap: 12px;\n",
              "    }\n",
              "\n",
              "    .colab-df-convert {\n",
              "      background-color: #E8F0FE;\n",
              "      border: none;\n",
              "      border-radius: 50%;\n",
              "      cursor: pointer;\n",
              "      display: none;\n",
              "      fill: #1967D2;\n",
              "      height: 32px;\n",
              "      padding: 0 0 0 0;\n",
              "      width: 32px;\n",
              "    }\n",
              "\n",
              "    .colab-df-convert:hover {\n",
              "      background-color: #E2EBFA;\n",
              "      box-shadow: 0px 1px 2px rgba(60, 64, 67, 0.3), 0px 1px 3px 1px rgba(60, 64, 67, 0.15);\n",
              "      fill: #174EA6;\n",
              "    }\n",
              "\n",
              "    [theme=dark] .colab-df-convert {\n",
              "      background-color: #3B4455;\n",
              "      fill: #D2E3FC;\n",
              "    }\n",
              "\n",
              "    [theme=dark] .colab-df-convert:hover {\n",
              "      background-color: #434B5C;\n",
              "      box-shadow: 0px 1px 3px 1px rgba(0, 0, 0, 0.15);\n",
              "      filter: drop-shadow(0px 1px 2px rgba(0, 0, 0, 0.3));\n",
              "      fill: #FFFFFF;\n",
              "    }\n",
              "  </style>\n",
              "\n",
              "      <script>\n",
              "        const buttonEl =\n",
              "          document.querySelector('#df-cf3782b7-0400-459d-9dad-0febd292edb8 button.colab-df-convert');\n",
              "        buttonEl.style.display =\n",
              "          google.colab.kernel.accessAllowed ? 'block' : 'none';\n",
              "\n",
              "        async function convertToInteractive(key) {\n",
              "          const element = document.querySelector('#df-cf3782b7-0400-459d-9dad-0febd292edb8');\n",
              "          const dataTable =\n",
              "            await google.colab.kernel.invokeFunction('convertToInteractive',\n",
              "                                                     [key], {});\n",
              "          if (!dataTable) return;\n",
              "\n",
              "          const docLinkHtml = 'Like what you see? Visit the ' +\n",
              "            '<a target=\"_blank\" href=https://colab.research.google.com/notebooks/data_table.ipynb>data table notebook</a>'\n",
              "            + ' to learn more about interactive tables.';\n",
              "          element.innerHTML = '';\n",
              "          dataTable['output_type'] = 'display_data';\n",
              "          await google.colab.output.renderOutput(dataTable, element);\n",
              "          const docLink = document.createElement('div');\n",
              "          docLink.innerHTML = docLinkHtml;\n",
              "          element.appendChild(docLink);\n",
              "        }\n",
              "      </script>\n",
              "    </div>\n",
              "  </div>\n",
              "  "
            ]
          },
          "metadata": {},
          "execution_count": 5
        }
      ]
    },
    {
      "cell_type": "code",
      "execution_count": null,
      "metadata": {
        "id": "oB4M2UzZvrz1",
        "colab": {
          "base_uri": "https://localhost:8080/"
        },
        "outputId": "fa3ae0cb-420c-4313-bb21-b8c4a107af55"
      },
      "outputs": [
        {
          "output_type": "stream",
          "name": "stdout",
          "text": [
            "      pH  Temperature    Amx        Time  Adsorbent  Adsorption\n",
            "0    4.0         25.0  100.0    5.204221     1000.0   41.347476\n",
            "1    4.0         25.0  100.0   10.578249     1000.0   46.389702\n",
            "2    4.0         25.0  100.0   15.581654     1000.0   52.481777\n",
            "3    4.0         25.0  100.0   30.545542     1000.0   54.877204\n",
            "4    4.0         25.0  100.0   45.463103     1000.0   56.326290\n",
            "..   ...          ...    ...         ...        ...         ...\n",
            "324  5.0         25.0   75.0   30.013843     1500.0   63.597787\n",
            "325  5.0         25.0   75.0   45.015477     1500.0   65.555072\n",
            "326  5.0         25.0   75.0   59.989983     1500.0   66.138824\n",
            "327  5.0         25.0   75.0   90.047506     1500.0   67.443680\n",
            "328  5.0         25.0   75.0  120.105030     1500.0   68.817214\n",
            "\n",
            "[329 rows x 6 columns]\n"
          ]
        }
      ],
      "source": [
        "print(dataset)"
      ]
    },
    {
      "cell_type": "code",
      "source": [
        "dataset.isna()"
      ],
      "metadata": {
        "colab": {
          "base_uri": "https://localhost:8080/",
          "height": 424
        },
        "id": "GfJoUDYKgZEo",
        "outputId": "b3f33e6c-cca6-42a7-928b-353f62a489ea"
      },
      "execution_count": null,
      "outputs": [
        {
          "output_type": "execute_result",
          "data": {
            "text/plain": [
              "        pH  Temperature    Amx   Time  Adsorbent  Adsorption\n",
              "0    False        False  False  False      False       False\n",
              "1    False        False  False  False      False       False\n",
              "2    False        False  False  False      False       False\n",
              "3    False        False  False  False      False       False\n",
              "4    False        False  False  False      False       False\n",
              "..     ...          ...    ...    ...        ...         ...\n",
              "324  False        False  False  False      False       False\n",
              "325  False        False  False  False      False       False\n",
              "326  False        False  False  False      False       False\n",
              "327  False        False  False  False      False       False\n",
              "328  False        False  False  False      False       False\n",
              "\n",
              "[329 rows x 6 columns]"
            ],
            "text/html": [
              "\n",
              "  <div id=\"df-b93ab2ae-d044-4282-81bf-183bf9ff87f9\">\n",
              "    <div class=\"colab-df-container\">\n",
              "      <div>\n",
              "<style scoped>\n",
              "    .dataframe tbody tr th:only-of-type {\n",
              "        vertical-align: middle;\n",
              "    }\n",
              "\n",
              "    .dataframe tbody tr th {\n",
              "        vertical-align: top;\n",
              "    }\n",
              "\n",
              "    .dataframe thead th {\n",
              "        text-align: right;\n",
              "    }\n",
              "</style>\n",
              "<table border=\"1\" class=\"dataframe\">\n",
              "  <thead>\n",
              "    <tr style=\"text-align: right;\">\n",
              "      <th></th>\n",
              "      <th>pH</th>\n",
              "      <th>Temperature</th>\n",
              "      <th>Amx</th>\n",
              "      <th>Time</th>\n",
              "      <th>Adsorbent</th>\n",
              "      <th>Adsorption</th>\n",
              "    </tr>\n",
              "  </thead>\n",
              "  <tbody>\n",
              "    <tr>\n",
              "      <th>0</th>\n",
              "      <td>False</td>\n",
              "      <td>False</td>\n",
              "      <td>False</td>\n",
              "      <td>False</td>\n",
              "      <td>False</td>\n",
              "      <td>False</td>\n",
              "    </tr>\n",
              "    <tr>\n",
              "      <th>1</th>\n",
              "      <td>False</td>\n",
              "      <td>False</td>\n",
              "      <td>False</td>\n",
              "      <td>False</td>\n",
              "      <td>False</td>\n",
              "      <td>False</td>\n",
              "    </tr>\n",
              "    <tr>\n",
              "      <th>2</th>\n",
              "      <td>False</td>\n",
              "      <td>False</td>\n",
              "      <td>False</td>\n",
              "      <td>False</td>\n",
              "      <td>False</td>\n",
              "      <td>False</td>\n",
              "    </tr>\n",
              "    <tr>\n",
              "      <th>3</th>\n",
              "      <td>False</td>\n",
              "      <td>False</td>\n",
              "      <td>False</td>\n",
              "      <td>False</td>\n",
              "      <td>False</td>\n",
              "      <td>False</td>\n",
              "    </tr>\n",
              "    <tr>\n",
              "      <th>4</th>\n",
              "      <td>False</td>\n",
              "      <td>False</td>\n",
              "      <td>False</td>\n",
              "      <td>False</td>\n",
              "      <td>False</td>\n",
              "      <td>False</td>\n",
              "    </tr>\n",
              "    <tr>\n",
              "      <th>...</th>\n",
              "      <td>...</td>\n",
              "      <td>...</td>\n",
              "      <td>...</td>\n",
              "      <td>...</td>\n",
              "      <td>...</td>\n",
              "      <td>...</td>\n",
              "    </tr>\n",
              "    <tr>\n",
              "      <th>324</th>\n",
              "      <td>False</td>\n",
              "      <td>False</td>\n",
              "      <td>False</td>\n",
              "      <td>False</td>\n",
              "      <td>False</td>\n",
              "      <td>False</td>\n",
              "    </tr>\n",
              "    <tr>\n",
              "      <th>325</th>\n",
              "      <td>False</td>\n",
              "      <td>False</td>\n",
              "      <td>False</td>\n",
              "      <td>False</td>\n",
              "      <td>False</td>\n",
              "      <td>False</td>\n",
              "    </tr>\n",
              "    <tr>\n",
              "      <th>326</th>\n",
              "      <td>False</td>\n",
              "      <td>False</td>\n",
              "      <td>False</td>\n",
              "      <td>False</td>\n",
              "      <td>False</td>\n",
              "      <td>False</td>\n",
              "    </tr>\n",
              "    <tr>\n",
              "      <th>327</th>\n",
              "      <td>False</td>\n",
              "      <td>False</td>\n",
              "      <td>False</td>\n",
              "      <td>False</td>\n",
              "      <td>False</td>\n",
              "      <td>False</td>\n",
              "    </tr>\n",
              "    <tr>\n",
              "      <th>328</th>\n",
              "      <td>False</td>\n",
              "      <td>False</td>\n",
              "      <td>False</td>\n",
              "      <td>False</td>\n",
              "      <td>False</td>\n",
              "      <td>False</td>\n",
              "    </tr>\n",
              "  </tbody>\n",
              "</table>\n",
              "<p>329 rows × 6 columns</p>\n",
              "</div>\n",
              "      <button class=\"colab-df-convert\" onclick=\"convertToInteractive('df-b93ab2ae-d044-4282-81bf-183bf9ff87f9')\"\n",
              "              title=\"Convert this dataframe to an interactive table.\"\n",
              "              style=\"display:none;\">\n",
              "        \n",
              "  <svg xmlns=\"http://www.w3.org/2000/svg\" height=\"24px\"viewBox=\"0 0 24 24\"\n",
              "       width=\"24px\">\n",
              "    <path d=\"M0 0h24v24H0V0z\" fill=\"none\"/>\n",
              "    <path d=\"M18.56 5.44l.94 2.06.94-2.06 2.06-.94-2.06-.94-.94-2.06-.94 2.06-2.06.94zm-11 1L8.5 8.5l.94-2.06 2.06-.94-2.06-.94L8.5 2.5l-.94 2.06-2.06.94zm10 10l.94 2.06.94-2.06 2.06-.94-2.06-.94-.94-2.06-.94 2.06-2.06.94z\"/><path d=\"M17.41 7.96l-1.37-1.37c-.4-.4-.92-.59-1.43-.59-.52 0-1.04.2-1.43.59L10.3 9.45l-7.72 7.72c-.78.78-.78 2.05 0 2.83L4 21.41c.39.39.9.59 1.41.59.51 0 1.02-.2 1.41-.59l7.78-7.78 2.81-2.81c.8-.78.8-2.07 0-2.86zM5.41 20L4 18.59l7.72-7.72 1.47 1.35L5.41 20z\"/>\n",
              "  </svg>\n",
              "      </button>\n",
              "      \n",
              "  <style>\n",
              "    .colab-df-container {\n",
              "      display:flex;\n",
              "      flex-wrap:wrap;\n",
              "      gap: 12px;\n",
              "    }\n",
              "\n",
              "    .colab-df-convert {\n",
              "      background-color: #E8F0FE;\n",
              "      border: none;\n",
              "      border-radius: 50%;\n",
              "      cursor: pointer;\n",
              "      display: none;\n",
              "      fill: #1967D2;\n",
              "      height: 32px;\n",
              "      padding: 0 0 0 0;\n",
              "      width: 32px;\n",
              "    }\n",
              "\n",
              "    .colab-df-convert:hover {\n",
              "      background-color: #E2EBFA;\n",
              "      box-shadow: 0px 1px 2px rgba(60, 64, 67, 0.3), 0px 1px 3px 1px rgba(60, 64, 67, 0.15);\n",
              "      fill: #174EA6;\n",
              "    }\n",
              "\n",
              "    [theme=dark] .colab-df-convert {\n",
              "      background-color: #3B4455;\n",
              "      fill: #D2E3FC;\n",
              "    }\n",
              "\n",
              "    [theme=dark] .colab-df-convert:hover {\n",
              "      background-color: #434B5C;\n",
              "      box-shadow: 0px 1px 3px 1px rgba(0, 0, 0, 0.15);\n",
              "      filter: drop-shadow(0px 1px 2px rgba(0, 0, 0, 0.3));\n",
              "      fill: #FFFFFF;\n",
              "    }\n",
              "  </style>\n",
              "\n",
              "      <script>\n",
              "        const buttonEl =\n",
              "          document.querySelector('#df-b93ab2ae-d044-4282-81bf-183bf9ff87f9 button.colab-df-convert');\n",
              "        buttonEl.style.display =\n",
              "          google.colab.kernel.accessAllowed ? 'block' : 'none';\n",
              "\n",
              "        async function convertToInteractive(key) {\n",
              "          const element = document.querySelector('#df-b93ab2ae-d044-4282-81bf-183bf9ff87f9');\n",
              "          const dataTable =\n",
              "            await google.colab.kernel.invokeFunction('convertToInteractive',\n",
              "                                                     [key], {});\n",
              "          if (!dataTable) return;\n",
              "\n",
              "          const docLinkHtml = 'Like what you see? Visit the ' +\n",
              "            '<a target=\"_blank\" href=https://colab.research.google.com/notebooks/data_table.ipynb>data table notebook</a>'\n",
              "            + ' to learn more about interactive tables.';\n",
              "          element.innerHTML = '';\n",
              "          dataTable['output_type'] = 'display_data';\n",
              "          await google.colab.output.renderOutput(dataTable, element);\n",
              "          const docLink = document.createElement('div');\n",
              "          docLink.innerHTML = docLinkHtml;\n",
              "          element.appendChild(docLink);\n",
              "        }\n",
              "      </script>\n",
              "    </div>\n",
              "  </div>\n",
              "  "
            ]
          },
          "metadata": {},
          "execution_count": 7
        }
      ]
    },
    {
      "cell_type": "code",
      "execution_count": null,
      "metadata": {
        "id": "gBHSSjazwUAZ",
        "colab": {
          "base_uri": "https://localhost:8080/"
        },
        "outputId": "27e7a74a-d5e1-4615-8cd6-ad582e98d3f3"
      },
      "outputs": [
        {
          "output_type": "execute_result",
          "data": {
            "text/plain": [
              "pH     Temperature  Amx    Time   Adsorbent  Adsorption\n",
              "False  False        False  False  False      False         329\n",
              "dtype: int64"
            ]
          },
          "metadata": {},
          "execution_count": 8
        }
      ],
      "source": [
        "(dataset.isna()).value_counts()"
      ]
    },
    {
      "cell_type": "code",
      "source": [
        "(dataset==0).value_counts()"
      ],
      "metadata": {
        "colab": {
          "base_uri": "https://localhost:8080/"
        },
        "id": "swVK_gBh_S-Y",
        "outputId": "494c77ee-e399-4bb7-a758-419423598d09"
      },
      "execution_count": null,
      "outputs": [
        {
          "output_type": "execute_result",
          "data": {
            "text/plain": [
              "pH     Temperature  Amx    Time   Adsorbent  Adsorption\n",
              "False  False        False  False  False      False         329\n",
              "dtype: int64"
            ]
          },
          "metadata": {},
          "execution_count": 9
        }
      ]
    },
    {
      "cell_type": "code",
      "execution_count": null,
      "metadata": {
        "id": "z6jZwhuhlcap"
      },
      "outputs": [],
      "source": [
        "!pip install ydata-profiling\n",
        "!pip install matplotlib"
      ]
    },
    {
      "cell_type": "code",
      "execution_count": null,
      "metadata": {
        "id": "Bvs0EDiFlUM_"
      },
      "outputs": [],
      "source": [
        "from ydata_profiling import ProfileReport"
      ]
    },
    {
      "cell_type": "code",
      "execution_count": null,
      "metadata": {
        "colab": {
          "base_uri": "https://localhost:8080/",
          "height": 145,
          "referenced_widgets": [
            "5e6f1724244a4441901c37757dc323b6",
            "c7d7d03420f14c2e9d550ff1291cf1d5",
            "75cab707d84a432cb3fedbc7bda84f65",
            "ccf62c0e2842437c8418e4093e968e59",
            "9080348ccd7a4466981145ac01a9a545",
            "a916eafa108547a085668ef6be18695a",
            "4588888a43ad4e59896dc9790f702edb",
            "9e1497abc9264bd39a9012921babd4f9",
            "1f50093b39f540578494c877e838cd06",
            "3dc4a693d1ed47b2aa5e4307f93e69d0",
            "68cfe6afec104ef7acba29dd6a5a9cd7",
            "5eb1347a35f44abf992dae1218334fc4",
            "6f8727edcdec41f2be4f282b1a01cc64",
            "4085d952bb424c55a8dd558b0d28ee29",
            "86e343107b504038b6d913b71295f9be",
            "97859ec8dd4e43b68119de1c88509db5",
            "878b27e819334a619ec91f782381c191",
            "a374fe80b7e4499eb64fa8ae25a0b097",
            "52e0719bb1c14c4b8bdca1f9a67b24b3",
            "a20182e5054f4ef894038d247fec4fc2",
            "0c23db3a46444140bb942785bf8ade19",
            "8f940ef4f20340f3aabf5e2019b01e21",
            "7fb324f4696846d4b0e9fe9aa607b627",
            "dee18b6bd1234bb791cc5bd83ee5c61e",
            "52c99f3066a749e584837b85a75324c9",
            "e2e62c0d014347ae802e4f0179acf06a",
            "73a13433fafa42de80b16cbf21269fe0",
            "839906acc54944b28eb684353cadcb8b",
            "d7bfb50a4b0947f099122ab87196e14c",
            "ef7f86331b874cb9b5114bbf7727cdfe",
            "3c700c7ef97747f4a3643e21b0d10ee4",
            "08f5e7006c7f4ef6b1574b778c6d71eb",
            "d0e7eebc316b4d99bfb078dbb0d508e8",
            "98f010b4084445989ecea7f36ebeb321",
            "ef26d11cca864b139e2ec4a86750d224",
            "771c11c89b484efcbfe139efb310b042",
            "0b3016873982465c8db830bee9cca1e5",
            "f043fa08598b4d0fb0c89b7c76f425cd",
            "892b198c48274576b9606c42f6a9baa1",
            "73a021171cab455faf83a9e60fa387d1",
            "792f5f5d39264fc1b956685f5641349d",
            "93f4b67abeae456289956fb2d568ab60",
            "2208d6e08bd141339a2b9e582f25c600",
            "004402fdeede468189b91e73da302c6f"
          ]
        },
        "outputId": "9461afef-038c-44aa-a9e9-34dc6d4984a8",
        "id": "9amBeY0lgpMF"
      },
      "outputs": [
        {
          "output_type": "display_data",
          "data": {
            "text/plain": [
              "Summarize dataset:   0%|          | 0/5 [00:00<?, ?it/s]"
            ],
            "application/vnd.jupyter.widget-view+json": {
              "version_major": 2,
              "version_minor": 0,
              "model_id": "5e6f1724244a4441901c37757dc323b6"
            }
          },
          "metadata": {}
        },
        {
          "output_type": "display_data",
          "data": {
            "text/plain": [
              "Generate report structure:   0%|          | 0/1 [00:00<?, ?it/s]"
            ],
            "application/vnd.jupyter.widget-view+json": {
              "version_major": 2,
              "version_minor": 0,
              "model_id": "5eb1347a35f44abf992dae1218334fc4"
            }
          },
          "metadata": {}
        },
        {
          "output_type": "display_data",
          "data": {
            "text/plain": [
              "Render HTML:   0%|          | 0/1 [00:00<?, ?it/s]"
            ],
            "application/vnd.jupyter.widget-view+json": {
              "version_major": 2,
              "version_minor": 0,
              "model_id": "7fb324f4696846d4b0e9fe9aa607b627"
            }
          },
          "metadata": {}
        },
        {
          "output_type": "display_data",
          "data": {
            "text/plain": [
              "Export report to file:   0%|          | 0/1 [00:00<?, ?it/s]"
            ],
            "application/vnd.jupyter.widget-view+json": {
              "version_major": 2,
              "version_minor": 0,
              "model_id": "98f010b4084445989ecea7f36ebeb321"
            }
          },
          "metadata": {}
        }
      ],
      "source": [
        "profile= ProfileReport(dataset, title='dataset', correlations={ \"spearman\": {\"calculate\": True},})\n",
        "profile.to_file(\"report.html\")"
      ]
    },
    {
      "cell_type": "markdown",
      "metadata": {
        "id": "P3diw0VTvCXP"
      },
      "source": [
        "# **Identify Correlations**"
      ]
    },
    {
      "cell_type": "code",
      "execution_count": null,
      "metadata": {
        "colab": {
          "base_uri": "https://localhost:8080/",
          "height": 526
        },
        "outputId": "324c96cf-c015-429d-a3a1-bd07d123195e",
        "id": "g4At5TolhE6R"
      },
      "outputs": [
        {
          "output_type": "display_data",
          "data": {
            "text/plain": [
              "<Figure size 640x480 with 2 Axes>"
            ],
            "image/png": "[encoded data removed]"
          },
          "metadata": {}
        }
      ],
      "source": [
        "# Compute the correlation matrix\n",
        "correlation_matrix = dataset.corr(method='spearman', min_periods=1, numeric_only=True)\n",
        "\n",
        "# Visualize the correlation matrix using a heatmap\n",
        "sns.heatmap(correlation_matrix, annot=True, cmap='coolwarm')\n",
        "plt.title('Correlation Matrix')\n",
        "plt.show()"
      ]
    },
    {
      "cell_type": "markdown",
      "metadata": {
        "id": "kqGLgAeRvfuq"
      },
      "source": [
        "# **Handle Outliers**"
      ]
    },
    {
      "cell_type": "code",
      "execution_count": null,
      "metadata": {
        "id": "7k4F4LhCSK8a",
        "colab": {
          "base_uri": "https://localhost:8080/",
          "height": 458
        },
        "outputId": "57b0fb76-af1a-47f4-8320-cbe47986a310"
      },
      "outputs": [
        {
          "output_type": "display_data",
          "data": {
            "text/plain": [
              "<Figure size 640x480 with 1 Axes>"
            ],
            "image/png": "[encoded data removed]"
          },
          "metadata": {}
        }
      ],
      "source": [
        "# Create a box plot to identify outliers in the Adsorbent column\n",
        "sns.boxplot(y = dataset['Adsorbent'], color='red')\n",
        "plt.xlabel('Adsorbent')\n",
        "plt.title('Box Plot of Adsorbent')\n",
        "plt.show()"
      ]
    },
    {
      "cell_type": "code",
      "execution_count": null,
      "metadata": {
        "id": "WQYeTN1hvh1S",
        "colab": {
          "base_uri": "https://localhost:8080/",
          "height": 458
        },
        "outputId": "ccc6dafa-1d72-476c-9448-f307be2d63ce"
      },
      "outputs": [
        {
          "output_type": "display_data",
          "data": {
            "text/plain": [
              "<Figure size 640x480 with 1 Axes>"
            ],
            "image/png": "[encoded data removed]"
          },
          "metadata": {}
        }
      ],
      "source": [
        "# Create a box plot to identify outliers in the Adsorption column\n",
        "sns.boxplot(y = dataset['Adsorption'])\n",
        "plt.xlabel('Adsorption')\n",
        "plt.title('Box Plot of Adsorption')\n",
        "plt.show()"
      ]
    },
    {
      "cell_type": "code",
      "execution_count": null,
      "metadata": {
        "id": "7PyGWaS9Rt32",
        "colab": {
          "base_uri": "https://localhost:8080/",
          "height": 458
        },
        "outputId": "cf0987b4-2395-48f0-9c91-efcd6fe4d693"
      },
      "outputs": [
        {
          "output_type": "display_data",
          "data": {
            "text/plain": [
              "<Figure size 640x480 with 1 Axes>"
            ],
            "image/png": "[encoded data removed]"
          },
          "metadata": {}
        }
      ],
      "source": [
        "# Create a box plot to identify outliers in the Temperature column\n",
        "sns.boxplot(y = dataset['Temperature'])\n",
        "plt.xlabel('Temperature')\n",
        "plt.title('Box Plot of Temperature')\n",
        "plt.show()"
      ]
    },
    {
      "cell_type": "code",
      "execution_count": null,
      "metadata": {
        "id": "CSV1shr6Rus4",
        "colab": {
          "base_uri": "https://localhost:8080/",
          "height": 458
        },
        "outputId": "9254fd28-c569-4dd4-f641-db45aedde7ce"
      },
      "outputs": [
        {
          "output_type": "display_data",
          "data": {
            "text/plain": [
              "<Figure size 640x480 with 1 Axes>"
            ],
            "image/png": "[encoded data removed]"
          },
          "metadata": {}
        }
      ],
      "source": [
        "# Create a box plot to identify outliers in the Amx column\n",
        "sns.boxplot(y = dataset['Amx'],color='white')\n",
        "plt.xlabel('Amx')\n",
        "plt.title('Box Plot of Amx')\n",
        "plt.show()"
      ]
    },
    {
      "cell_type": "code",
      "execution_count": null,
      "metadata": {
        "id": "W8J2jCFgTG0j",
        "colab": {
          "base_uri": "https://localhost:8080/",
          "height": 458
        },
        "outputId": "f8554fac-b7af-48e0-dcd7-2a107244fbf5"
      },
      "outputs": [
        {
          "output_type": "display_data",
          "data": {
            "text/plain": [
              "<Figure size 640x480 with 1 Axes>"
            ],
            "image/png": "[encoded data removed]"
          },
          "metadata": {}
        }
      ],
      "source": [
        "# Create a box plot to identify outliers in the pH column\n",
        "sns.boxplot(y = dataset['pH'],color='green')\n",
        "plt.xlabel('pH')\n",
        "plt.title('Box Plot of pH')\n",
        "plt.show()"
      ]
    },
    {
      "cell_type": "code",
      "execution_count": null,
      "metadata": {
        "id": "iqCGCuvSTJtp",
        "colab": {
          "base_uri": "https://localhost:8080/",
          "height": 472
        },
        "outputId": "419afc84-fc8f-4a0f-d2eb-f40abd6ead0d"
      },
      "outputs": [
        {
          "output_type": "display_data",
          "data": {
            "text/plain": [
              "<Figure size 640x480 with 1 Axes>"
            ],
            "image/png": "[encoded data removed]"
          },
          "metadata": {}
        }
      ],
      "source": [
        "# Create a box plot to identify outliers in the pH column\n",
        "sns.boxplot(data=dataset)\n",
        "plt.xlabel('Dataset')\n",
        "plt.title('Box Plot of Dataset')\n",
        "plt.show()"
      ]
    },
    {
      "cell_type": "code",
      "execution_count": null,
      "metadata": {
        "id": "1MgTynISSKmf",
        "colab": {
          "base_uri": "https://localhost:8080/",
          "height": 458
        },
        "outputId": "b3b5804a-4edd-4120-b342-23cedbbe4043"
      },
      "outputs": [
        {
          "output_type": "display_data",
          "data": {
            "text/plain": [
              "<Figure size 640x480 with 1 Axes>"
            ],
            "image/png": "[encoded data removed]"
          },
          "metadata": {}
        }
      ],
      "source": [
        "# Create a box plot to identify outliers in the Time column\n",
        "sns.boxplot(y = dataset['Time'],color='yellow')\n",
        "plt.xlabel('Time')\n",
        "plt.title('Box Plot of Adsorption')\n",
        "plt.show()"
      ]
    },
    {
      "cell_type": "markdown",
      "metadata": {
        "id": "1Hrl6XxmW-mC"
      },
      "source": [
        "***elimination des outliers of Time ***"
      ]
    },
    {
      "cell_type": "code",
      "execution_count": null,
      "metadata": {
        "colab": {
          "base_uri": "https://localhost:8080/",
          "height": 452
        },
        "id": "C12QpqKRW9oO",
        "outputId": "014c9b4b-48d9-488c-b95f-87084f192acc"
      },
      "outputs": [
        {
          "output_type": "display_data",
          "data": {
            "text/plain": [
              "<Figure size 640x480 with 1 Axes>"
            ],
            "image/png": "[encoded data removed]"
          },
          "metadata": {}
        }
      ],
      "source": [
        "# Specify the column to check for outliers\n",
        "column_name = 'Time'\n",
        "# Set the threshold value\n",
        "threshold = 350\n",
        "# Remove data points above the threshold\n",
        "dataset = dataset[dataset[column_name] <= threshold]\n",
        "ourdata = ourdata[ourdata[column_name] <= threshold]\n",
        "dataset1 = dataset1[dataset1[column_name] <= threshold]\n",
        "dataset2 = dataset2[dataset2[column_name] <= threshold]\n",
        "dataset3 = dataset3[dataset3[column_name] <= threshold]\n",
        "dataset4 = dataset4[dataset4[column_name] <= threshold]\n",
        "dataset5 = dataset5[dataset5[column_name] <= threshold]\n",
        "dataset6 = dataset6[dataset6[column_name] <= threshold]\n",
        "dataset7 = dataset7[dataset7[column_name] <= threshold]\n",
        "dataset8 = dataset8[dataset8[column_name] <= threshold]\n",
        "dataset10 = dataset10[dataset10[column_name] <= threshold]\n",
        "dataset11 = dataset11[dataset11[column_name] <= threshold]\n",
        "dataset12 = dataset12[dataset12[column_name] <= threshold]\n",
        "\n",
        "sns.boxplot(data=dataset)\n",
        "plt.ylabel('Time')\n",
        "plt.title('Boxplot without Most Extreme Outliers for Time ')\n",
        "plt.show()"
      ]
    },
    {
      "cell_type": "code",
      "execution_count": null,
      "metadata": {
        "id": "QqQ71TgnYWT6",
        "colab": {
          "base_uri": "https://localhost:8080/",
          "height": 526
        },
        "outputId": "1744567f-2839-4027-df31-81cb90222716"
      },
      "outputs": [
        {
          "output_type": "display_data",
          "data": {
            "text/plain": [
              "<Figure size 640x480 with 2 Axes>"
            ],
            "image/png": "[encoded data removed]"
          },
          "metadata": {}
        }
      ],
      "source": [
        "# Compute the correlation matrix\n",
        "correlation_matrix = dataset.corr(method='spearman', min_periods=1, numeric_only=True)\n",
        "\n",
        "# Visualize the correlation matrix using a heatmap\n",
        "sns.heatmap(correlation_matrix, annot=True, cmap='coolwarm')\n",
        "plt.title('Correlation Matrix')\n",
        "plt.show()"
      ]
    },
    {
      "cell_type": "markdown",
      "metadata": {
        "id": "88dTVkKyx0u1"
      },
      "source": [
        "# **j'ai convertire les valeurs negatives to 0 car c'est just des erreurs de projection dans les graphes **bold text** **"
      ]
    },
    {
      "cell_type": "code",
      "execution_count": null,
      "metadata": {
        "colab": {
          "base_uri": "https://localhost:8080/",
          "height": 424
        },
        "id": "x42ZCv_V7D7L",
        "outputId": "09b44dc9-da2e-4c1c-ee29-130476377001"
      },
      "outputs": [
        {
          "output_type": "execute_result",
          "data": {
            "text/plain": [
              "      pH  Temperature    Amx        Time  Adsorbent  Adsorption\n",
              "0    4.0         25.0  100.0    5.204221     1000.0   41.347476\n",
              "1    4.0         25.0  100.0   10.578249     1000.0   46.389702\n",
              "2    4.0         25.0  100.0   15.581654     1000.0   52.481777\n",
              "3    4.0         25.0  100.0   30.545542     1000.0   54.877204\n",
              "4    4.0         25.0  100.0   45.463103     1000.0   56.326290\n",
              "..   ...          ...    ...         ...        ...         ...\n",
              "324  5.0         25.0   75.0   30.013843     1500.0   63.597787\n",
              "325  5.0         25.0   75.0   45.015477     1500.0   65.555072\n",
              "326  5.0         25.0   75.0   59.989983     1500.0   66.138824\n",
              "327  5.0         25.0   75.0   90.047506     1500.0   67.443680\n",
              "328  5.0         25.0   75.0  120.105030     1500.0   68.817214\n",
              "\n",
              "[295 rows x 6 columns]"
            ],
            "text/html": [
              "\n",
              "  <div id=\"df-dbe0184e-f3b3-41ea-a40d-75cfa278efe7\">\n",
              "    <div class=\"colab-df-container\">\n",
              "      <div>\n",
              "<style scoped>\n",
              "    .dataframe tbody tr th:only-of-type {\n",
              "        vertical-align: middle;\n",
              "    }\n",
              "\n",
              "    .dataframe tbody tr th {\n",
              "        vertical-align: top;\n",
              "    }\n",
              "\n",
              "    .dataframe thead th {\n",
              "        text-align: right;\n",
              "    }\n",
              "</style>\n",
              "<table border=\"1\" class=\"dataframe\">\n",
              "  <thead>\n",
              "    <tr style=\"text-align: right;\">\n",
              "      <th></th>\n",
              "      <th>pH</th>\n",
              "      <th>Temperature</th>\n",
              "      <th>Amx</th>\n",
              "      <th>Time</th>\n",
              "      <th>Adsorbent</th>\n",
              "      <th>Adsorption</th>\n",
              "    </tr>\n",
              "  </thead>\n",
              "  <tbody>\n",
              "    <tr>\n",
              "      <th>0</th>\n",
              "      <td>4.0</td>\n",
              "      <td>25.0</td>\n",
              "      <td>100.0</td>\n",
              "      <td>5.204221</td>\n",
              "      <td>1000.0</td>\n",
              "      <td>41.347476</td>\n",
              "    </tr>\n",
              "    <tr>\n",
              "      <th>1</th>\n",
              "      <td>4.0</td>\n",
              "      <td>25.0</td>\n",
              "      <td>100.0</td>\n",
              "      <td>10.578249</td>\n",
              "      <td>1000.0</td>\n",
              "      <td>46.389702</td>\n",
              "    </tr>\n",
              "    <tr>\n",
              "      <th>2</th>\n",
              "      <td>4.0</td>\n",
              "      <td>25.0</td>\n",
              "      <td>100.0</td>\n",
              "      <td>15.581654</td>\n",
              "      <td>1000.0</td>\n",
              "      <td>52.481777</td>\n",
              "    </tr>\n",
              "    <tr>\n",
              "      <th>3</th>\n",
              "      <td>4.0</td>\n",
              "      <td>25.0</td>\n",
              "      <td>100.0</td>\n",
              "      <td>30.545542</td>\n",
              "      <td>1000.0</td>\n",
              "      <td>54.877204</td>\n",
              "    </tr>\n",
              "    <tr>\n",
              "      <th>4</th>\n",
              "      <td>4.0</td>\n",
              "      <td>25.0</td>\n",
              "      <td>100.0</td>\n",
              "      <td>45.463103</td>\n",
              "      <td>1000.0</td>\n",
              "      <td>56.326290</td>\n",
              "    </tr>\n",
              "    <tr>\n",
              "      <th>...</th>\n",
              "      <td>...</td>\n",
              "      <td>...</td>\n",
              "      <td>...</td>\n",
              "      <td>...</td>\n",
              "      <td>...</td>\n",
              "      <td>...</td>\n",
              "    </tr>\n",
              "    <tr>\n",
              "      <th>324</th>\n",
              "      <td>5.0</td>\n",
              "      <td>25.0</td>\n",
              "      <td>75.0</td>\n",
              "      <td>30.013843</td>\n",
              "      <td>1500.0</td>\n",
              "      <td>63.597787</td>\n",
              "    </tr>\n",
              "    <tr>\n",
              "      <th>325</th>\n",
              "      <td>5.0</td>\n",
              "      <td>25.0</td>\n",
              "      <td>75.0</td>\n",
              "      <td>45.015477</td>\n",
              "      <td>1500.0</td>\n",
              "      <td>65.555072</td>\n",
              "    </tr>\n",
              "    <tr>\n",
              "      <th>326</th>\n",
              "      <td>5.0</td>\n",
              "      <td>25.0</td>\n",
              "      <td>75.0</td>\n",
              "      <td>59.989983</td>\n",
              "      <td>1500.0</td>\n",
              "      <td>66.138824</td>\n",
              "    </tr>\n",
              "    <tr>\n",
              "      <th>327</th>\n",
              "      <td>5.0</td>\n",
              "      <td>25.0</td>\n",
              "      <td>75.0</td>\n",
              "      <td>90.047506</td>\n",
              "      <td>1500.0</td>\n",
              "      <td>67.443680</td>\n",
              "    </tr>\n",
              "    <tr>\n",
              "      <th>328</th>\n",
              "      <td>5.0</td>\n",
              "      <td>25.0</td>\n",
              "      <td>75.0</td>\n",
              "      <td>120.105030</td>\n",
              "      <td>1500.0</td>\n",
              "      <td>68.817214</td>\n",
              "    </tr>\n",
              "  </tbody>\n",
              "</table>\n",
              "<p>295 rows × 6 columns</p>\n",
              "</div>\n",
              "      <button class=\"colab-df-convert\" onclick=\"convertToInteractive('df-dbe0184e-f3b3-41ea-a40d-75cfa278efe7')\"\n",
              "              title=\"Convert this dataframe to an interactive table.\"\n",
              "              style=\"display:none;\">\n",
              "        \n",
              "  <svg xmlns=\"http://www.w3.org/2000/svg\" height=\"24px\"viewBox=\"0 0 24 24\"\n",
              "       width=\"24px\">\n",
              "    <path d=\"M0 0h24v24H0V0z\" fill=\"none\"/>\n",
              "    <path d=\"M18.56 5.44l.94 2.06.94-2.06 2.06-.94-2.06-.94-.94-2.06-.94 2.06-2.06.94zm-11 1L8.5 8.5l.94-2.06 2.06-.94-2.06-.94L8.5 2.5l-.94 2.06-2.06.94zm10 10l.94 2.06.94-2.06 2.06-.94-2.06-.94-.94-2.06-.94 2.06-2.06.94z\"/><path d=\"M17.41 7.96l-1.37-1.37c-.4-.4-.92-.59-1.43-.59-.52 0-1.04.2-1.43.59L10.3 9.45l-7.72 7.72c-.78.78-.78 2.05 0 2.83L4 21.41c.39.39.9.59 1.41.59.51 0 1.02-.2 1.41-.59l7.78-7.78 2.81-2.81c.8-.78.8-2.07 0-2.86zM5.41 20L4 18.59l7.72-7.72 1.47 1.35L5.41 20z\"/>\n",
              "  </svg>\n",
              "      </button>\n",
              "      \n",
              "  <style>\n",
              "    .colab-df-container {\n",
              "      display:flex;\n",
              "      flex-wrap:wrap;\n",
              "      gap: 12px;\n",
              "    }\n",
              "\n",
              "    .colab-df-convert {\n",
              "      background-color: #E8F0FE;\n",
              "      border: none;\n",
              "      border-radius: 50%;\n",
              "      cursor: pointer;\n",
              "      display: none;\n",
              "      fill: #1967D2;\n",
              "      height: 32px;\n",
              "      padding: 0 0 0 0;\n",
              "      width: 32px;\n",
              "    }\n",
              "\n",
              "    .colab-df-convert:hover {\n",
              "      background-color: #E2EBFA;\n",
              "      box-shadow: 0px 1px 2px rgba(60, 64, 67, 0.3), 0px 1px 3px 1px rgba(60, 64, 67, 0.15);\n",
              "      fill: #174EA6;\n",
              "    }\n",
              "\n",
              "    [theme=dark] .colab-df-convert {\n",
              "      background-color: #3B4455;\n",
              "      fill: #D2E3FC;\n",
              "    }\n",
              "\n",
              "    [theme=dark] .colab-df-convert:hover {\n",
              "      background-color: #434B5C;\n",
              "      box-shadow: 0px 1px 3px 1px rgba(0, 0, 0, 0.15);\n",
              "      filter: drop-shadow(0px 1px 2px rgba(0, 0, 0, 0.3));\n",
              "      fill: #FFFFFF;\n",
              "    }\n",
              "  </style>\n",
              "\n",
              "      <script>\n",
              "        const buttonEl =\n",
              "          document.querySelector('#df-dbe0184e-f3b3-41ea-a40d-75cfa278efe7 button.colab-df-convert');\n",
              "        buttonEl.style.display =\n",
              "          google.colab.kernel.accessAllowed ? 'block' : 'none';\n",
              "\n",
              "        async function convertToInteractive(key) {\n",
              "          const element = document.querySelector('#df-dbe0184e-f3b3-41ea-a40d-75cfa278efe7');\n",
              "          const dataTable =\n",
              "            await google.colab.kernel.invokeFunction('convertToInteractive',\n",
              "                                                     [key], {});\n",
              "          if (!dataTable) return;\n",
              "\n",
              "          const docLinkHtml = 'Like what you see? Visit the ' +\n",
              "            '<a target=\"_blank\" href=https://colab.research.google.com/notebooks/data_table.ipynb>data table notebook</a>'\n",
              "            + ' to learn more about interactive tables.';\n",
              "          element.innerHTML = '';\n",
              "          dataTable['output_type'] = 'display_data';\n",
              "          await google.colab.output.renderOutput(dataTable, element);\n",
              "          const docLink = document.createElement('div');\n",
              "          docLink.innerHTML = docLinkHtml;\n",
              "          element.appendChild(docLink);\n",
              "        }\n",
              "      </script>\n",
              "    </div>\n",
              "  </div>\n",
              "  "
            ]
          },
          "metadata": {},
          "execution_count": 5
        }
      ],
      "source": [
        "dataset['Time'] = dataset['Time'].apply(lambda x: 0 if x < 0 else x)\n",
        "ourdata['Time'] = ourdata['Time'].apply(lambda x: 0 if x < 0 else x)\n",
        "\n",
        "dataset1['Time'] = dataset1['Time'].apply(lambda x: 0 if x < 0 else x)\n",
        "dataset2['Time'] = dataset2['Time'].apply(lambda x: 0 if x < 0 else x)\n",
        "dataset3['Time'] = dataset3['Time'].apply(lambda x: 0 if x < 0 else x)\n",
        "dataset4['Time'] = dataset4['Time'].apply(lambda x: 0 if x < 0 else x)\n",
        "dataset5['Time'] = dataset5['Time'].apply(lambda x: 0 if x < 0 else x)\n",
        "dataset6['Time'] = dataset6['Time'].apply(lambda x: 0 if x < 0 else x)\n",
        "dataset7['Time'] = dataset7['Time'].apply(lambda x: 0 if x < 0 else x)\n",
        "dataset8['Time'] = dataset8['Time'].apply(lambda x: 0 if x < 0 else x)\n",
        "dataset10['Time'] = dataset10['Time'].apply(lambda x: 0 if x < 0 else x)\n",
        "dataset11['Time'] = dataset11['Time'].apply(lambda x: 0 if x < 0 else x)\n",
        "dataset12['Time'] = dataset12['Time'].apply(lambda x: 0 if x < 0 else x)\n",
        "dataset"
      ]
    },
    {
      "cell_type": "markdown",
      "metadata": {
        "id": "ijWRxSeByPPo"
      },
      "source": [
        "# **elimination des valeurs negatifs **bold text** **"
      ]
    },
    {
      "cell_type": "code",
      "execution_count": null,
      "metadata": {
        "colab": {
          "base_uri": "https://localhost:8080/",
          "height": 49
        },
        "id": "-cL7elLH8DUP",
        "outputId": "1550b773-7b62-4af1-94f8-99c9d7e1db2d"
      },
      "outputs": [
        {
          "output_type": "execute_result",
          "data": {
            "text/plain": [
              "Empty DataFrame\n",
              "Columns: [pH, Temperature, Amx, Time, Adsorbent, Adsorption]\n",
              "Index: []"
            ],
            "text/html": [
              "\n",
              "  <div id=\"df-8844ac34-42f3-48c9-85c5-b5e91da354cc\">\n",
              "    <div class=\"colab-df-container\">\n",
              "      <div>\n",
              "<style scoped>\n",
              "    .dataframe tbody tr th:only-of-type {\n",
              "        vertical-align: middle;\n",
              "    }\n",
              "\n",
              "    .dataframe tbody tr th {\n",
              "        vertical-align: top;\n",
              "    }\n",
              "\n",
              "    .dataframe thead th {\n",
              "        text-align: right;\n",
              "    }\n",
              "</style>\n",
              "<table border=\"1\" class=\"dataframe\">\n",
              "  <thead>\n",
              "    <tr style=\"text-align: right;\">\n",
              "      <th></th>\n",
              "      <th>pH</th>\n",
              "      <th>Temperature</th>\n",
              "      <th>Amx</th>\n",
              "      <th>Time</th>\n",
              "      <th>Adsorbent</th>\n",
              "      <th>Adsorption</th>\n",
              "    </tr>\n",
              "  </thead>\n",
              "  <tbody>\n",
              "  </tbody>\n",
              "</table>\n",
              "</div>\n",
              "      <button class=\"colab-df-convert\" onclick=\"convertToInteractive('df-8844ac34-42f3-48c9-85c5-b5e91da354cc')\"\n",
              "              title=\"Convert this dataframe to an interactive table.\"\n",
              "              style=\"display:none;\">\n",
              "        \n",
              "  <svg xmlns=\"http://www.w3.org/2000/svg\" height=\"24px\"viewBox=\"0 0 24 24\"\n",
              "       width=\"24px\">\n",
              "    <path d=\"M0 0h24v24H0V0z\" fill=\"none\"/>\n",
              "    <path d=\"M18.56 5.44l.94 2.06.94-2.06 2.06-.94-2.06-.94-.94-2.06-.94 2.06-2.06.94zm-11 1L8.5 8.5l.94-2.06 2.06-.94-2.06-.94L8.5 2.5l-.94 2.06-2.06.94zm10 10l.94 2.06.94-2.06 2.06-.94-2.06-.94-.94-2.06-.94 2.06-2.06.94z\"/><path d=\"M17.41 7.96l-1.37-1.37c-.4-.4-.92-.59-1.43-.59-.52 0-1.04.2-1.43.59L10.3 9.45l-7.72 7.72c-.78.78-.78 2.05 0 2.83L4 21.41c.39.39.9.59 1.41.59.51 0 1.02-.2 1.41-.59l7.78-7.78 2.81-2.81c.8-.78.8-2.07 0-2.86zM5.41 20L4 18.59l7.72-7.72 1.47 1.35L5.41 20z\"/>\n",
              "  </svg>\n",
              "      </button>\n",
              "      \n",
              "  <style>\n",
              "    .colab-df-container {\n",
              "      display:flex;\n",
              "      flex-wrap:wrap;\n",
              "      gap: 12px;\n",
              "    }\n",
              "\n",
              "    .colab-df-convert {\n",
              "      background-color: #E8F0FE;\n",
              "      border: none;\n",
              "      border-radius: 50%;\n",
              "      cursor: pointer;\n",
              "      display: none;\n",
              "      fill: #1967D2;\n",
              "      height: 32px;\n",
              "      padding: 0 0 0 0;\n",
              "      width: 32px;\n",
              "    }\n",
              "\n",
              "    .colab-df-convert:hover {\n",
              "      background-color: #E2EBFA;\n",
              "      box-shadow: 0px 1px 2px rgba(60, 64, 67, 0.3), 0px 1px 3px 1px rgba(60, 64, 67, 0.15);\n",
              "      fill: #174EA6;\n",
              "    }\n",
              "\n",
              "    [theme=dark] .colab-df-convert {\n",
              "      background-color: #3B4455;\n",
              "      fill: #D2E3FC;\n",
              "    }\n",
              "\n",
              "    [theme=dark] .colab-df-convert:hover {\n",
              "      background-color: #434B5C;\n",
              "      box-shadow: 0px 1px 3px 1px rgba(0, 0, 0, 0.15);\n",
              "      filter: drop-shadow(0px 1px 2px rgba(0, 0, 0, 0.3));\n",
              "      fill: #FFFFFF;\n",
              "    }\n",
              "  </style>\n",
              "\n",
              "      <script>\n",
              "        const buttonEl =\n",
              "          document.querySelector('#df-8844ac34-42f3-48c9-85c5-b5e91da354cc button.colab-df-convert');\n",
              "        buttonEl.style.display =\n",
              "          google.colab.kernel.accessAllowed ? 'block' : 'none';\n",
              "\n",
              "        async function convertToInteractive(key) {\n",
              "          const element = document.querySelector('#df-8844ac34-42f3-48c9-85c5-b5e91da354cc');\n",
              "          const dataTable =\n",
              "            await google.colab.kernel.invokeFunction('convertToInteractive',\n",
              "                                                     [key], {});\n",
              "          if (!dataTable) return;\n",
              "\n",
              "          const docLinkHtml = 'Like what you see? Visit the ' +\n",
              "            '<a target=\"_blank\" href=https://colab.research.google.com/notebooks/data_table.ipynb>data table notebook</a>'\n",
              "            + ' to learn more about interactive tables.';\n",
              "          element.innerHTML = '';\n",
              "          dataTable['output_type'] = 'display_data';\n",
              "          await google.colab.output.renderOutput(dataTable, element);\n",
              "          const docLink = document.createElement('div');\n",
              "          docLink.innerHTML = docLinkHtml;\n",
              "          element.appendChild(docLink);\n",
              "        }\n",
              "      </script>\n",
              "    </div>\n",
              "  </div>\n",
              "  "
            ]
          },
          "metadata": {},
          "execution_count": 6
        }
      ],
      "source": [
        "dataset = dataset[dataset['Adsorption'] >= 0]\n",
        "ourdata= ourdata[ourdata['Adsorption'] >= 0]\n",
        "dataset1 = dataset1[dataset1['Adsorption'] >= 0]\n",
        "dataset2 = dataset2[dataset2['Adsorption'] >= 0]\n",
        "dataset3 = dataset3[dataset3['Adsorption'] >= 0]\n",
        "dataset4 = dataset4[dataset4['Adsorption'] >= 0]\n",
        "dataset5 = dataset5[dataset5['Adsorption'] >= 0]\n",
        "dataset6 = dataset6[dataset6['Adsorption'] >= 0]\n",
        "dataset7 = dataset7[dataset7['Adsorption'] >= 0]\n",
        "dataset8 = dataset8[dataset8['Adsorption'] >= 0]\n",
        "dataset10 = dataset10[dataset10['Adsorption'] >= 0]\n",
        "dataset11= dataset11[dataset11['Adsorption'] >= 0]\n",
        "dataset12= dataset12[dataset12['Adsorption'] >= 0]\n",
        "dataset11"
      ]
    },
    {
      "cell_type": "markdown",
      "metadata": {
        "id": "OmZuXzRryY5P"
      },
      "source": [
        "# **Graphics* **bold text**"
      ]
    },
    {
      "cell_type": "code",
      "execution_count": null,
      "metadata": {
        "id": "Xpe9tcdTHwS2",
        "colab": {
          "base_uri": "https://localhost:8080/",
          "height": 517
        },
        "outputId": "df5eca5b-854b-41f1-ebb0-182ea93e8fb2"
      },
      "outputs": [
        {
          "output_type": "execute_result",
          "data": {
            "text/plain": [
              "(array([21.,  5., 16., 28., 14., 75., 26., 36., 35., 39.]),\n",
              " array([3.75303480e-02, 1.00093826e+01, 1.99812348e+01, 2.99530871e+01,\n",
              "        3.99249393e+01, 4.98967915e+01, 5.98686438e+01, 6.98404960e+01,\n",
              "        7.98123483e+01, 8.97842005e+01, 9.97560527e+01]),\n",
              " <BarContainer object of 10 artists>)"
            ]
          },
          "metadata": {},
          "execution_count": 25
        },
        {
          "output_type": "display_data",
          "data": {
            "text/plain": [
              "<Figure size 640x480 with 1 Axes>"
            ],
            "image/png": "[encoded data removed]"
          },
          "metadata": {}
        }
      ],
      "source": [
        "plt.hist(dataset[\"Adsorption\"])"
      ]
    },
    {
      "cell_type": "code",
      "execution_count": null,
      "metadata": {
        "id": "zW4gEd5ogc0o",
        "colab": {
          "base_uri": "https://localhost:8080/",
          "height": 486
        },
        "outputId": "4302d41e-5d72-425f-b8fe-b369e1316963"
      },
      "outputs": [
        {
          "output_type": "stream",
          "name": "stderr",
          "text": [
            "WARNING:matplotlib.legend:No artists with labels found to put in legend.  Note that artists whose label start with an underscore are ignored when legend() is called with no argument.\n"
          ]
        },
        {
          "output_type": "display_data",
          "data": {
            "text/plain": [
              "<Figure size 640x480 with 1 Axes>"
            ],
            "image/png": "[encoded data removed]"
          },
          "metadata": {}
        }
      ],
      "source": [
        "plt.scatter(dataset['Adsorption'],dataset['Amx'])\n",
        "plt.xlabel(\"Adsorption\")\n",
        "plt.ylabel(\"Amx\")\n",
        "plt.legend()\n",
        "plt.show()"
      ]
    },
    {
      "cell_type": "markdown",
      "metadata": {
        "id": "5yr-ZSABhpMf"
      },
      "source": [
        "# ***Machine Learning training ***"
      ]
    },
    {
      "cell_type": "code",
      "execution_count": null,
      "metadata": {
        "colab": {
          "base_uri": "https://localhost:8080/"
        },
        "id": "GwuSHC3ahoWd",
        "outputId": "f79cd7f1-487d-44ea-c717-592b3484ae65"
      },
      "outputs": [
        {
          "output_type": "stream",
          "name": "stdout",
          "text": [
            "drive  sample_data\n"
          ]
        }
      ],
      "source": [
        "!ls"
      ]
    },
    {
      "cell_type": "markdown",
      "metadata": {
        "id": "fFnjS4MiiH_U"
      },
      "source": [
        "# **preparing data = Load using .iloc[rows,columns] the targeted columns and rows**"
      ]
    },
    {
      "cell_type": "code",
      "execution_count": null,
      "metadata": {
        "colab": {
          "base_uri": "https://localhost:8080/",
          "height": 424
        },
        "id": "pidPxCCXjheB",
        "outputId": "d2bc8a56-ba9c-4f70-8e0e-14709495e373"
      },
      "outputs": [
        {
          "output_type": "execute_result",
          "data": {
            "text/plain": [
              "      pH  Temperature    Amx        Time  Adsorbent\n",
              "0    4.0         25.0  100.0    5.204221     1000.0\n",
              "1    4.0         25.0  100.0   10.578249     1000.0\n",
              "2    4.0         25.0  100.0   15.581654     1000.0\n",
              "3    4.0         25.0  100.0   30.545542     1000.0\n",
              "4    4.0         25.0  100.0   45.463103     1000.0\n",
              "..   ...          ...    ...         ...        ...\n",
              "324  5.0         25.0   75.0   30.013843     1500.0\n",
              "325  5.0         25.0   75.0   45.015477     1500.0\n",
              "326  5.0         25.0   75.0   59.989983     1500.0\n",
              "327  5.0         25.0   75.0   90.047506     1500.0\n",
              "328  5.0         25.0   75.0  120.105030     1500.0\n",
              "\n",
              "[295 rows x 5 columns]"
            ],
            "text/html": [
              "\n",
              "  <div id=\"df-c8dca827-9bb5-42ae-9396-bc3f2c5f0894\">\n",
              "    <div class=\"colab-df-container\">\n",
              "      <div>\n",
              "<style scoped>\n",
              "    .dataframe tbody tr th:only-of-type {\n",
              "        vertical-align: middle;\n",
              "    }\n",
              "\n",
              "    .dataframe tbody tr th {\n",
              "        vertical-align: top;\n",
              "    }\n",
              "\n",
              "    .dataframe thead th {\n",
              "        text-align: right;\n",
              "    }\n",
              "</style>\n",
              "<table border=\"1\" class=\"dataframe\">\n",
              "  <thead>\n",
              "    <tr style=\"text-align: right;\">\n",
              "      <th></th>\n",
              "      <th>pH</th>\n",
              "      <th>Temperature</th>\n",
              "      <th>Amx</th>\n",
              "      <th>Time</th>\n",
              "      <th>Adsorbent</th>\n",
              "    </tr>\n",
              "  </thead>\n",
              "  <tbody>\n",
              "    <tr>\n",
              "      <th>0</th>\n",
              "      <td>4.0</td>\n",
              "      <td>25.0</td>\n",
              "      <td>100.0</td>\n",
              "      <td>5.204221</td>\n",
              "      <td>1000.0</td>\n",
              "    </tr>\n",
              "    <tr>\n",
              "      <th>1</th>\n",
              "      <td>4.0</td>\n",
              "      <td>25.0</td>\n",
              "      <td>100.0</td>\n",
              "      <td>10.578249</td>\n",
              "      <td>1000.0</td>\n",
              "    </tr>\n",
              "    <tr>\n",
              "      <th>2</th>\n",
              "      <td>4.0</td>\n",
              "      <td>25.0</td>\n",
              "      <td>100.0</td>\n",
              "      <td>15.581654</td>\n",
              "      <td>1000.0</td>\n",
              "    </tr>\n",
              "    <tr>\n",
              "      <th>3</th>\n",
              "      <td>4.0</td>\n",
              "      <td>25.0</td>\n",
              "      <td>100.0</td>\n",
              "      <td>30.545542</td>\n",
              "      <td>1000.0</td>\n",
              "    </tr>\n",
              "    <tr>\n",
              "      <th>4</th>\n",
              "      <td>4.0</td>\n",
              "      <td>25.0</td>\n",
              "      <td>100.0</td>\n",
              "      <td>45.463103</td>\n",
              "      <td>1000.0</td>\n",
              "    </tr>\n",
              "    <tr>\n",
              "      <th>...</th>\n",
              "      <td>...</td>\n",
              "      <td>...</td>\n",
              "      <td>...</td>\n",
              "      <td>...</td>\n",
              "      <td>...</td>\n",
              "    </tr>\n",
              "    <tr>\n",
              "      <th>324</th>\n",
              "      <td>5.0</td>\n",
              "      <td>25.0</td>\n",
              "      <td>75.0</td>\n",
              "      <td>30.013843</td>\n",
              "      <td>1500.0</td>\n",
              "    </tr>\n",
              "    <tr>\n",
              "      <th>325</th>\n",
              "      <td>5.0</td>\n",
              "      <td>25.0</td>\n",
              "      <td>75.0</td>\n",
              "      <td>45.015477</td>\n",
              "      <td>1500.0</td>\n",
              "    </tr>\n",
              "    <tr>\n",
              "      <th>326</th>\n",
              "      <td>5.0</td>\n",
              "      <td>25.0</td>\n",
              "      <td>75.0</td>\n",
              "      <td>59.989983</td>\n",
              "      <td>1500.0</td>\n",
              "    </tr>\n",
              "    <tr>\n",
              "      <th>327</th>\n",
              "      <td>5.0</td>\n",
              "      <td>25.0</td>\n",
              "      <td>75.0</td>\n",
              "      <td>90.047506</td>\n",
              "      <td>1500.0</td>\n",
              "    </tr>\n",
              "    <tr>\n",
              "      <th>328</th>\n",
              "      <td>5.0</td>\n",
              "      <td>25.0</td>\n",
              "      <td>75.0</td>\n",
              "      <td>120.105030</td>\n",
              "      <td>1500.0</td>\n",
              "    </tr>\n",
              "  </tbody>\n",
              "</table>\n",
              "<p>295 rows × 5 columns</p>\n",
              "</div>\n",
              "      <button class=\"colab-df-convert\" onclick=\"convertToInteractive('df-c8dca827-9bb5-42ae-9396-bc3f2c5f0894')\"\n",
              "              title=\"Convert this dataframe to an interactive table.\"\n",
              "              style=\"display:none;\">\n",
              "        \n",
              "  <svg xmlns=\"http://www.w3.org/2000/svg\" height=\"24px\"viewBox=\"0 0 24 24\"\n",
              "       width=\"24px\">\n",
              "    <path d=\"M0 0h24v24H0V0z\" fill=\"none\"/>\n",
              "    <path d=\"M18.56 5.44l.94 2.06.94-2.06 2.06-.94-2.06-.94-.94-2.06-.94 2.06-2.06.94zm-11 1L8.5 8.5l.94-2.06 2.06-.94-2.06-.94L8.5 2.5l-.94 2.06-2.06.94zm10 10l.94 2.06.94-2.06 2.06-.94-2.06-.94-.94-2.06-.94 2.06-2.06.94z\"/><path d=\"M17.41 7.96l-1.37-1.37c-.4-.4-.92-.59-1.43-.59-.52 0-1.04.2-1.43.59L10.3 9.45l-7.72 7.72c-.78.78-.78 2.05 0 2.83L4 21.41c.39.39.9.59 1.41.59.51 0 1.02-.2 1.41-.59l7.78-7.78 2.81-2.81c.8-.78.8-2.07 0-2.86zM5.41 20L4 18.59l7.72-7.72 1.47 1.35L5.41 20z\"/>\n",
              "  </svg>\n",
              "      </button>\n",
              "      \n",
              "  <style>\n",
              "    .colab-df-container {\n",
              "      display:flex;\n",
              "      flex-wrap:wrap;\n",
              "      gap: 12px;\n",
              "    }\n",
              "\n",
              "    .colab-df-convert {\n",
              "      background-color: #E8F0FE;\n",
              "      border: none;\n",
              "      border-radius: 50%;\n",
              "      cursor: pointer;\n",
              "      display: none;\n",
              "      fill: #1967D2;\n",
              "      height: 32px;\n",
              "      padding: 0 0 0 0;\n",
              "      width: 32px;\n",
              "    }\n",
              "\n",
              "    .colab-df-convert:hover {\n",
              "      background-color: #E2EBFA;\n",
              "      box-shadow: 0px 1px 2px rgba(60, 64, 67, 0.3), 0px 1px 3px 1px rgba(60, 64, 67, 0.15);\n",
              "      fill: #174EA6;\n",
              "    }\n",
              "\n",
              "    [theme=dark] .colab-df-convert {\n",
              "      background-color: #3B4455;\n",
              "      fill: #D2E3FC;\n",
              "    }\n",
              "\n",
              "    [theme=dark] .colab-df-convert:hover {\n",
              "      background-color: #434B5C;\n",
              "      box-shadow: 0px 1px 3px 1px rgba(0, 0, 0, 0.15);\n",
              "      filter: drop-shadow(0px 1px 2px rgba(0, 0, 0, 0.3));\n",
              "      fill: #FFFFFF;\n",
              "    }\n",
              "  </style>\n",
              "\n",
              "      <script>\n",
              "        const buttonEl =\n",
              "          document.querySelector('#df-c8dca827-9bb5-42ae-9396-bc3f2c5f0894 button.colab-df-convert');\n",
              "        buttonEl.style.display =\n",
              "          google.colab.kernel.accessAllowed ? 'block' : 'none';\n",
              "\n",
              "        async function convertToInteractive(key) {\n",
              "          const element = document.querySelector('#df-c8dca827-9bb5-42ae-9396-bc3f2c5f0894');\n",
              "          const dataTable =\n",
              "            await google.colab.kernel.invokeFunction('convertToInteractive',\n",
              "                                                     [key], {});\n",
              "          if (!dataTable) return;\n",
              "\n",
              "          const docLinkHtml = 'Like what you see? Visit the ' +\n",
              "            '<a target=\"_blank\" href=https://colab.research.google.com/notebooks/data_table.ipynb>data table notebook</a>'\n",
              "            + ' to learn more about interactive tables.';\n",
              "          element.innerHTML = '';\n",
              "          dataTable['output_type'] = 'display_data';\n",
              "          await google.colab.output.renderOutput(dataTable, element);\n",
              "          const docLink = document.createElement('div');\n",
              "          docLink.innerHTML = docLinkHtml;\n",
              "          element.appendChild(docLink);\n",
              "        }\n",
              "      </script>\n",
              "    </div>\n",
              "  </div>\n",
              "  "
            ]
          },
          "metadata": {},
          "execution_count": 22
        }
      ],
      "source": [
        "X = dataset.iloc [:,:5]\n",
        "Xv= ourdata.iloc [:,:5]\n",
        "\n",
        "X1 = dataset1.iloc [:,:5]\n",
        "X2 = dataset2.iloc [:,:5]\n",
        "X3 = dataset3.iloc [:,:5]\n",
        "X4 = dataset4.iloc [:,:5]\n",
        "X5 = dataset5.iloc [:,:5]\n",
        "X6 = dataset6.iloc [:,:5]\n",
        "X7 = dataset7.iloc [:,:5]\n",
        "X8 = dataset8.iloc [:,:5]\n",
        "X10 = dataset10.iloc [:,:5]\n",
        "#X11 = dataset11.iloc [:,:5]\n",
        "X12 = dataset12.iloc [:,:5]\n",
        "X"
      ]
    },
    {
      "cell_type": "code",
      "execution_count": null,
      "metadata": {
        "colab": {
          "base_uri": "https://localhost:8080/"
        },
        "id": "IbbTX03Dphau",
        "outputId": "af6af6a6-7926-4c23-b04a-cbb6ef65b2b3"
      },
      "outputs": [
        {
          "output_type": "execute_result",
          "data": {
            "text/plain": [
              "0      41.347476\n",
              "1      46.389702\n",
              "2      52.481777\n",
              "3      54.877204\n",
              "4      56.326290\n",
              "         ...    \n",
              "324    63.597787\n",
              "325    65.555072\n",
              "326    66.138824\n",
              "327    67.443680\n",
              "328    68.817214\n",
              "Name: Adsorption, Length: 295, dtype: float64"
            ]
          },
          "metadata": {},
          "execution_count": 9
        }
      ],
      "source": [
        "# Take only Adsoption column as an array\n",
        "Y = dataset['Adsorption']\n",
        "Yv= ourdata['Adsorption']\n",
        "\n",
        "Y1 = dataset1['Adsorption']\n",
        "Y2 = dataset2['Adsorption']\n",
        "Y3 = dataset3['Adsorption']\n",
        "Y4 = dataset4['Adsorption']\n",
        "Y5 = dataset5['Adsorption']\n",
        "Y6 = dataset6['Adsorption']\n",
        "Y7 = dataset7['Adsorption']\n",
        "Y8 = dataset8['Adsorption']\n",
        "Y10 = dataset10['Adsorption']\n",
        "#Y11 = dataset11['Adsorption']\n",
        "Y12 = dataset12['Adsorption']\n",
        "Y"
      ]
    },
    {
      "cell_type": "code",
      "execution_count": null,
      "metadata": {
        "id": "f4fv5WpUmGzr",
        "colab": {
          "base_uri": "https://localhost:8080/"
        },
        "outputId": "08c32bc1-c721-427f-fc69-ccd26ceb518d"
      },
      "outputs": [
        {
          "output_type": "execute_result",
          "data": {
            "text/plain": [
              "(295,)"
            ]
          },
          "metadata": {},
          "execution_count": 30
        }
      ],
      "source": [
        "Y.shape"
      ]
    },
    {
      "cell_type": "markdown",
      "metadata": {
        "id": "c_ICJW12mBaH"
      },
      "source": [
        "# **Normalisation/Stadarisation **"
      ]
    },
    {
      "cell_type": "code",
      "execution_count": null,
      "metadata": {
        "id": "eNLDIFQel_2k",
        "colab": {
          "base_uri": "https://localhost:8080/"
        },
        "outputId": "7990f763-1244-4a0d-e505-9b50113763e1"
      },
      "outputs": [
        {
          "output_type": "execute_result",
          "data": {
            "text/plain": [
              "array([[0.22221603, 0.        , 0.11392405, 0.0213111 , 0.19212793],\n",
              "       [0.22221603, 0.        , 0.11392405, 0.04367779, 0.19212793],\n",
              "       [0.22221603, 0.        , 0.11392405, 0.06450195, 0.19212793],\n",
              "       ...,\n",
              "       [0.33332404, 0.        , 0.08227848, 0.2493293 , 0.29324789],\n",
              "       [0.33332404, 0.        , 0.08227848, 0.37442863, 0.29324789],\n",
              "       [0.33332404, 0.        , 0.08227848, 0.49952797, 0.29324789]])"
            ]
          },
          "metadata": {},
          "execution_count": 10
        }
      ],
      "source": [
        "from sklearn.preprocessing import Normalizer\n",
        "from sklearn.preprocessing import MinMaxScaler\n",
        "from sklearn.preprocessing import StandardScaler\n",
        "#norm= Normalizer()\n",
        "#Xn=norm.fit_transform(X)\n",
        "#scaler = StandardScaler()\n",
        "scaler = MinMaxScaler()\n",
        "Xs =  scaler.fit_transform(X)\n",
        "Xsv=  scaler.fit_transform(Xv)\n",
        "\n",
        "Xs1= scaler.fit_transform(X1)\n",
        "Xs2= scaler.fit_transform(X2)\n",
        "Xs3= scaler.fit_transform(X3)\n",
        "Xs4= scaler.fit_transform(X4)\n",
        "Xs5= scaler.fit_transform(X5)\n",
        "Xs6= scaler.fit_transform(X6)\n",
        "Xs7= scaler.fit_transform(X7)\n",
        "Xs8= scaler.fit_transform(X8)\n",
        "Xs10= scaler.fit_transform(X10)\n",
        "#Xs11= scaler.fit_transform(X11)\n",
        "Xs12= scaler.fit_transform(X12)\n",
        "Xs"
      ]
    },
    {
      "cell_type": "code",
      "source": [
        "Xsv_merged = pd.DataFrame(Xsv, columns=Xv.columns)\n",
        "\n",
        "Xs1_merged = pd.DataFrame(Xs1, columns=X1.columns)\n",
        "Xs4_merged = pd.DataFrame(Xs4, columns=X4.columns)\n",
        "Xs5_merged = pd.DataFrame(Xs5, columns=X5.columns)\n",
        "Xs6_merged = pd.DataFrame(Xs6, columns=X6.columns)\n",
        "Xs7_merged = pd.DataFrame(Xs7, columns=X7.columns)\n",
        "Xs10_merged = pd.DataFrame(Xs10, columns=X10.columns)"
      ],
      "metadata": {
        "id": "OjrbVFPSUyQL"
      },
      "execution_count": null,
      "outputs": []
    },
    {
      "cell_type": "code",
      "source": [
        "# Merge the normalized 'x' variables\n",
        "merged_Xs = pd.concat([Xs1_merged, Xs5_merged, Xs7_merged, Xs10_merged ], axis=0)#,Xs4_merged,Xs6_merged, Xsv_merged"
      ],
      "metadata": {
        "id": "2t8dWCchVOPU"
      },
      "execution_count": null,
      "outputs": []
    },
    {
      "cell_type": "code",
      "source": [
        "# Merge the 'y' variables\n",
        "merged_y = pd.concat([Y1, Y5, Y7, Y10], axis=0)#,Y4,Y6, Yv\n",
        "merged_y"
      ],
      "metadata": {
        "id": "gzhRC11KVZPm",
        "colab": {
          "base_uri": "https://localhost:8080/"
        },
        "outputId": "8309d6d6-dd0f-46e1-ff08-fc082007690c"
      },
      "execution_count": null,
      "outputs": [
        {
          "output_type": "execute_result",
          "data": {
            "text/plain": [
              "0     41.347476\n",
              "1     46.389702\n",
              "2     52.481777\n",
              "3     54.877204\n",
              "4     56.326290\n",
              "        ...    \n",
              "55    63.597787\n",
              "56    65.555072\n",
              "57    66.138824\n",
              "58    67.443680\n",
              "59    68.817214\n",
              "Name: Adsorption, Length: 295, dtype: float64"
            ]
          },
          "metadata": {},
          "execution_count": 13
        }
      ]
    },
    {
      "cell_type": "code",
      "source": [
        "X_merged  = pd.concat([X1,X5,X7,X10], axis=0)#,X4,X6, Xv"
      ],
      "metadata": {
        "id": "CrcZWGQjWooL"
      },
      "execution_count": null,
      "outputs": []
    },
    {
      "cell_type": "code",
      "source": [
        "# Reset the index for the merged dataframes\n",
        "merged_Xs.reset_index(drop=True, inplace=True)\n",
        "X_merged .reset_index(drop=True, inplace=True)\n",
        "merged_y.reset_index(drop=True, inplace=True)\n",
        "\n",
        "# Merge the normalized 'x' and 'y' variables into a single dataframe\n",
        "mergedXs_data = pd.concat([merged_Xs, merged_y], axis=1)\n",
        "merged_data = pd.concat([X_merged, merged_y], axis=1)\n",
        "merged_data"
      ],
      "metadata": {
        "id": "H9ex6trFVoYk",
        "colab": {
          "base_uri": "https://localhost:8080/",
          "height": 424
        },
        "outputId": "1ad68f10-dd59-4f4a-92b9-d0d3b10c9c13"
      },
      "execution_count": null,
      "outputs": [
        {
          "output_type": "execute_result",
          "data": {
            "text/plain": [
              "      pH  Temperature    Amx        Time  Adsorbent  Adsorption\n",
              "0    4.0         25.0  100.0    5.204221     1000.0   41.347476\n",
              "1    4.0         25.0  100.0   10.578249     1000.0   46.389702\n",
              "2    4.0         25.0  100.0   15.581654     1000.0   52.481777\n",
              "3    4.0         25.0  100.0   30.545542     1000.0   54.877204\n",
              "4    4.0         25.0  100.0   45.463103     1000.0   56.326290\n",
              "..   ...          ...    ...         ...        ...         ...\n",
              "290  5.0         25.0   75.0   30.013843     1500.0   63.597787\n",
              "291  5.0         25.0   75.0   45.015477     1500.0   65.555072\n",
              "292  5.0         25.0   75.0   59.989983     1500.0   66.138824\n",
              "293  5.0         25.0   75.0   90.047506     1500.0   67.443680\n",
              "294  5.0         25.0   75.0  120.105030     1500.0   68.817214\n",
              "\n",
              "[295 rows x 6 columns]"
            ],
            "text/html": [
              "\n",
              "  <div id=\"df-9b0946c6-08fa-44a7-926c-dadd5f9765ad\">\n",
              "    <div class=\"colab-df-container\">\n",
              "      <div>\n",
              "<style scoped>\n",
              "    .dataframe tbody tr th:only-of-type {\n",
              "        vertical-align: middle;\n",
              "    }\n",
              "\n",
              "    .dataframe tbody tr th {\n",
              "        vertical-align: top;\n",
              "    }\n",
              "\n",
              "    .dataframe thead th {\n",
              "        text-align: right;\n",
              "    }\n",
              "</style>\n",
              "<table border=\"1\" class=\"dataframe\">\n",
              "  <thead>\n",
              "    <tr style=\"text-align: right;\">\n",
              "      <th></th>\n",
              "      <th>pH</th>\n",
              "      <th>Temperature</th>\n",
              "      <th>Amx</th>\n",
              "      <th>Time</th>\n",
              "      <th>Adsorbent</th>\n",
              "      <th>Adsorption</th>\n",
              "    </tr>\n",
              "  </thead>\n",
              "  <tbody>\n",
              "    <tr>\n",
              "      <th>0</th>\n",
              "      <td>4.0</td>\n",
              "      <td>25.0</td>\n",
              "      <td>100.0</td>\n",
              "      <td>5.204221</td>\n",
              "      <td>1000.0</td>\n",
              "      <td>41.347476</td>\n",
              "    </tr>\n",
              "    <tr>\n",
              "      <th>1</th>\n",
              "      <td>4.0</td>\n",
              "      <td>25.0</td>\n",
              "      <td>100.0</td>\n",
              "      <td>10.578249</td>\n",
              "      <td>1000.0</td>\n",
              "      <td>46.389702</td>\n",
              "    </tr>\n",
              "    <tr>\n",
              "      <th>2</th>\n",
              "      <td>4.0</td>\n",
              "      <td>25.0</td>\n",
              "      <td>100.0</td>\n",
              "      <td>15.581654</td>\n",
              "      <td>1000.0</td>\n",
              "      <td>52.481777</td>\n",
              "    </tr>\n",
              "    <tr>\n",
              "      <th>3</th>\n",
              "      <td>4.0</td>\n",
              "      <td>25.0</td>\n",
              "      <td>100.0</td>\n",
              "      <td>30.545542</td>\n",
              "      <td>1000.0</td>\n",
              "      <td>54.877204</td>\n",
              "    </tr>\n",
              "    <tr>\n",
              "      <th>4</th>\n",
              "      <td>4.0</td>\n",
              "      <td>25.0</td>\n",
              "      <td>100.0</td>\n",
              "      <td>45.463103</td>\n",
              "      <td>1000.0</td>\n",
              "      <td>56.326290</td>\n",
              "    </tr>\n",
              "    <tr>\n",
              "      <th>...</th>\n",
              "      <td>...</td>\n",
              "      <td>...</td>\n",
              "      <td>...</td>\n",
              "      <td>...</td>\n",
              "      <td>...</td>\n",
              "      <td>...</td>\n",
              "    </tr>\n",
              "    <tr>\n",
              "      <th>290</th>\n",
              "      <td>5.0</td>\n",
              "      <td>25.0</td>\n",
              "      <td>75.0</td>\n",
              "      <td>30.013843</td>\n",
              "      <td>1500.0</td>\n",
              "      <td>63.597787</td>\n",
              "    </tr>\n",
              "    <tr>\n",
              "      <th>291</th>\n",
              "      <td>5.0</td>\n",
              "      <td>25.0</td>\n",
              "      <td>75.0</td>\n",
              "      <td>45.015477</td>\n",
              "      <td>1500.0</td>\n",
              "      <td>65.555072</td>\n",
              "    </tr>\n",
              "    <tr>\n",
              "      <th>292</th>\n",
              "      <td>5.0</td>\n",
              "      <td>25.0</td>\n",
              "      <td>75.0</td>\n",
              "      <td>59.989983</td>\n",
              "      <td>1500.0</td>\n",
              "      <td>66.138824</td>\n",
              "    </tr>\n",
              "    <tr>\n",
              "      <th>293</th>\n",
              "      <td>5.0</td>\n",
              "      <td>25.0</td>\n",
              "      <td>75.0</td>\n",
              "      <td>90.047506</td>\n",
              "      <td>1500.0</td>\n",
              "      <td>67.443680</td>\n",
              "    </tr>\n",
              "    <tr>\n",
              "      <th>294</th>\n",
              "      <td>5.0</td>\n",
              "      <td>25.0</td>\n",
              "      <td>75.0</td>\n",
              "      <td>120.105030</td>\n",
              "      <td>1500.0</td>\n",
              "      <td>68.817214</td>\n",
              "    </tr>\n",
              "  </tbody>\n",
              "</table>\n",
              "<p>295 rows × 6 columns</p>\n",
              "</div>\n",
              "      <button class=\"colab-df-convert\" onclick=\"convertToInteractive('df-9b0946c6-08fa-44a7-926c-dadd5f9765ad')\"\n",
              "              title=\"Convert this dataframe to an interactive table.\"\n",
              "              style=\"display:none;\">\n",
              "        \n",
              "  <svg xmlns=\"http://www.w3.org/2000/svg\" height=\"24px\"viewBox=\"0 0 24 24\"\n",
              "       width=\"24px\">\n",
              "    <path d=\"M0 0h24v24H0V0z\" fill=\"none\"/>\n",
              "    <path d=\"M18.56 5.44l.94 2.06.94-2.06 2.06-.94-2.06-.94-.94-2.06-.94 2.06-2.06.94zm-11 1L8.5 8.5l.94-2.06 2.06-.94-2.06-.94L8.5 2.5l-.94 2.06-2.06.94zm10 10l.94 2.06.94-2.06 2.06-.94-2.06-.94-.94-2.06-.94 2.06-2.06.94z\"/><path d=\"M17.41 7.96l-1.37-1.37c-.4-.4-.92-.59-1.43-.59-.52 0-1.04.2-1.43.59L10.3 9.45l-7.72 7.72c-.78.78-.78 2.05 0 2.83L4 21.41c.39.39.9.59 1.41.59.51 0 1.02-.2 1.41-.59l7.78-7.78 2.81-2.81c.8-.78.8-2.07 0-2.86zM5.41 20L4 18.59l7.72-7.72 1.47 1.35L5.41 20z\"/>\n",
              "  </svg>\n",
              "      </button>\n",
              "      \n",
              "  <style>\n",
              "    .colab-df-container {\n",
              "      display:flex;\n",
              "      flex-wrap:wrap;\n",
              "      gap: 12px;\n",
              "    }\n",
              "\n",
              "    .colab-df-convert {\n",
              "      background-color: #E8F0FE;\n",
              "      border: none;\n",
              "      border-radius: 50%;\n",
              "      cursor: pointer;\n",
              "      display: none;\n",
              "      fill: #1967D2;\n",
              "      height: 32px;\n",
              "      padding: 0 0 0 0;\n",
              "      width: 32px;\n",
              "    }\n",
              "\n",
              "    .colab-df-convert:hover {\n",
              "      background-color: #E2EBFA;\n",
              "      box-shadow: 0px 1px 2px rgba(60, 64, 67, 0.3), 0px 1px 3px 1px rgba(60, 64, 67, 0.15);\n",
              "      fill: #174EA6;\n",
              "    }\n",
              "\n",
              "    [theme=dark] .colab-df-convert {\n",
              "      background-color: #3B4455;\n",
              "      fill: #D2E3FC;\n",
              "    }\n",
              "\n",
              "    [theme=dark] .colab-df-convert:hover {\n",
              "      background-color: #434B5C;\n",
              "      box-shadow: 0px 1px 3px 1px rgba(0, 0, 0, 0.15);\n",
              "      filter: drop-shadow(0px 1px 2px rgba(0, 0, 0, 0.3));\n",
              "      fill: #FFFFFF;\n",
              "    }\n",
              "  </style>\n",
              "\n",
              "      <script>\n",
              "        const buttonEl =\n",
              "          document.querySelector('#df-9b0946c6-08fa-44a7-926c-dadd5f9765ad button.colab-df-convert');\n",
              "        buttonEl.style.display =\n",
              "          google.colab.kernel.accessAllowed ? 'block' : 'none';\n",
              "\n",
              "        async function convertToInteractive(key) {\n",
              "          const element = document.querySelector('#df-9b0946c6-08fa-44a7-926c-dadd5f9765ad');\n",
              "          const dataTable =\n",
              "            await google.colab.kernel.invokeFunction('convertToInteractive',\n",
              "                                                     [key], {});\n",
              "          if (!dataTable) return;\n",
              "\n",
              "          const docLinkHtml = 'Like what you see? Visit the ' +\n",
              "            '<a target=\"_blank\" href=https://colab.research.google.com/notebooks/data_table.ipynb>data table notebook</a>'\n",
              "            + ' to learn more about interactive tables.';\n",
              "          element.innerHTML = '';\n",
              "          dataTable['output_type'] = 'display_data';\n",
              "          await google.colab.output.renderOutput(dataTable, element);\n",
              "          const docLink = document.createElement('div');\n",
              "          docLink.innerHTML = docLinkHtml;\n",
              "          element.appendChild(docLink);\n",
              "        }\n",
              "      </script>\n",
              "    </div>\n",
              "  </div>\n",
              "  "
            ]
          },
          "metadata": {},
          "execution_count": 15
        }
      ]
    },
    {
      "cell_type": "code",
      "source": [
        "merged_y.shape"
      ],
      "metadata": {
        "id": "jXSoHx0qtbmd",
        "colab": {
          "base_uri": "https://localhost:8080/"
        },
        "outputId": "96af89fc-43c2-4c65-bd38-27783b315b40"
      },
      "execution_count": null,
      "outputs": [
        {
          "output_type": "execute_result",
          "data": {
            "text/plain": [
              "(295,)"
            ]
          },
          "metadata": {},
          "execution_count": 37
        }
      ]
    },
    {
      "cell_type": "markdown",
      "source": [
        "# **Merged DATA**\n"
      ],
      "metadata": {
        "id": "WMyYALtmioDo"
      }
    },
    {
      "cell_type": "code",
      "execution_count": null,
      "metadata": {
        "id": "ILma3FpalRD4",
        "colab": {
          "base_uri": "https://localhost:8080/",
          "height": 145,
          "referenced_widgets": [
            "35da579a978c4c0c9ca623e5bedd6fef",
            "14f8f8d78d384eeca0bada1aea0fc20c",
            "38e45b4cb1fc4c2789e52347811c5dc7",
            "3f7468193efb43bb9f678b9d8c02d5fe",
            "77083038290e4723812f6e122e734d39",
            "7705fbdc6f9845bcb0a0122077c4993c",
            "a3d91b77e5ac441ca001f5e08f622a00",
            "bc31ad6fc58b460eb69c8dbb5370b9ec",
            "5f2fef02e94242e1af3ca1b8da05166a",
            "95e9aee5d31c44888ef21c75b1bdef36",
            "b85449301ab74f058c7f7f9fe1314041",
            "9b1d79b247cf487996084868ec73f368",
            "dcf303d3c7ae4590ab22e7dee703c00d",
            "a0eaea825b394d309f05bf4514d223b0",
            "1e36ff7ae6684b5a9586a271751115e8",
            "9a1c5454786f4528899f04a5860c425c",
            "c4a7b2c9ab744e9591e51b3178a86ef3",
            "a996a5074f3344d683469f2f46a13e0c",
            "14215ba14ffd432cad703dc988993337",
            "92e3b9defa064796961eb7252c12e434",
            "ae0b2f61d7124167998d3060ed6b9250",
            "f49515e29e034ef3bbe9e682c1b19147",
            "2ab538e08db34716982ec1532694c9f7",
            "a859d61fb18f4fd3ad059e8cd73379ef",
            "2d33803df1a84543a57ec29b69458822",
            "c0e01e3149b74f85babf3ef1c0e1620f",
            "f40049dcbfe240d9b49fd5d72b3a426d",
            "4f89f9dc19464981939ca2dc1fd05e8c",
            "558fc4fcc74e435ab37091fb07f24ba5",
            "ac193de4de304696a91918e238e88af7",
            "2e72f7ac60234caa8f034b4e5c0d95a4",
            "c4a2a105553448ae90d8cc8c1f65de04",
            "cfb7628446914536b7556f28fe3bfc07",
            "91a7d1ba25644f8dbbbb7790a7043a34",
            "8a6d52d51f9648fe84b3637e8e688b51",
            "12769144d7254fb2a17a77f46ebd852c",
            "3b338157fedb48339bea93760994137f",
            "b1e278ecbb264fc494c69afdb454e80c",
            "a2e6df982a7f4dc79177d42fd1874462",
            "020df035e1e745e083c6587c0bc715ca",
            "c24bf5a57c1f4fa1b63927ec1bfd09e6",
            "08a47cf38e554f2ca457a3a9cff7c422",
            "9c9a9556de424dd994999f6a68ef2e8c",
            "77647ce6559c47a4a04f87139d73ee1a"
          ]
        },
        "outputId": "f47e5db5-c76b-4003-a509-471b7d464401"
      },
      "outputs": [
        {
          "output_type": "display_data",
          "data": {
            "text/plain": [
              "Summarize dataset:   0%|          | 0/5 [00:00<?, ?it/s]"
            ],
            "application/vnd.jupyter.widget-view+json": {
              "version_major": 2,
              "version_minor": 0,
              "model_id": "35da579a978c4c0c9ca623e5bedd6fef"
            }
          },
          "metadata": {}
        },
        {
          "output_type": "display_data",
          "data": {
            "text/plain": [
              "Generate report structure:   0%|          | 0/1 [00:00<?, ?it/s]"
            ],
            "application/vnd.jupyter.widget-view+json": {
              "version_major": 2,
              "version_minor": 0,
              "model_id": "9b1d79b247cf487996084868ec73f368"
            }
          },
          "metadata": {}
        },
        {
          "output_type": "display_data",
          "data": {
            "text/plain": [
              "Render HTML:   0%|          | 0/1 [00:00<?, ?it/s]"
            ],
            "application/vnd.jupyter.widget-view+json": {
              "version_major": 2,
              "version_minor": 0,
              "model_id": "2ab538e08db34716982ec1532694c9f7"
            }
          },
          "metadata": {}
        },
        {
          "output_type": "display_data",
          "data": {
            "text/plain": [
              "Export report to file:   0%|          | 0/1 [00:00<?, ?it/s]"
            ],
            "application/vnd.jupyter.widget-view+json": {
              "version_major": 2,
              "version_minor": 0,
              "model_id": "91a7d1ba25644f8dbbbb7790a7043a34"
            }
          },
          "metadata": {}
        }
      ],
      "source": [
        "profile= ProfileReport(X_merged, title='merged_data', correlations={ \"spearman\": {\"calculate\": True},})\n",
        "profile.to_file(\"report.html\")"
      ]
    },
    {
      "cell_type": "code",
      "execution_count": null,
      "metadata": {
        "id": "UuHu6ovBkQdC",
        "colab": {
          "base_uri": "https://localhost:8080/",
          "height": 300
        },
        "outputId": "97336f90-1ce3-4882-8f0f-94c266b55cea"
      },
      "outputs": [
        {
          "output_type": "execute_result",
          "data": {
            "text/plain": [
              "               pH  Temperature         Amx        Time    Adsorbent  \\\n",
              "count  295.000000   295.000000  295.000000  295.000000   295.000000   \n",
              "mean     7.308781    25.203926  153.084746   75.172989   936.720457   \n",
              "std      2.318649     2.176968  191.673554   63.313531   479.505761   \n",
              "min      2.000000    25.000000   10.000000    0.083819    50.000000   \n",
              "25%      5.000000    25.000000   50.000000   15.281506  1000.000000   \n",
              "50%      9.000000    25.000000  100.000000   60.326344  1000.000000   \n",
              "75%      9.000000    25.000000  100.000000  120.355821  1000.000000   \n",
              "max     11.000251    55.052139  800.000000  240.353071  4994.622118   \n",
              "\n",
              "       Adsorption  \n",
              "count  295.000000  \n",
              "mean    59.029789  \n",
              "std     25.834215  \n",
              "min      0.037530  \n",
              "25%     41.280166  \n",
              "50%     58.512106  \n",
              "75%     79.862001  \n",
              "max     99.756053  "
            ],
            "text/html": [
              "\n",
              "  <div id=\"df-a8ac33d8-9bed-4d86-85ca-ea210f1e4277\">\n",
              "    <div class=\"colab-df-container\">\n",
              "      <div>\n",
              "<style scoped>\n",
              "    .dataframe tbody tr th:only-of-type {\n",
              "        vertical-align: middle;\n",
              "    }\n",
              "\n",
              "    .dataframe tbody tr th {\n",
              "        vertical-align: top;\n",
              "    }\n",
              "\n",
              "    .dataframe thead th {\n",
              "        text-align: right;\n",
              "    }\n",
              "</style>\n",
              "<table border=\"1\" class=\"dataframe\">\n",
              "  <thead>\n",
              "    <tr style=\"text-align: right;\">\n",
              "      <th></th>\n",
              "      <th>pH</th>\n",
              "      <th>Temperature</th>\n",
              "      <th>Amx</th>\n",
              "      <th>Time</th>\n",
              "      <th>Adsorbent</th>\n",
              "      <th>Adsorption</th>\n",
              "    </tr>\n",
              "  </thead>\n",
              "  <tbody>\n",
              "    <tr>\n",
              "      <th>count</th>\n",
              "      <td>295.000000</td>\n",
              "      <td>295.000000</td>\n",
              "      <td>295.000000</td>\n",
              "      <td>295.000000</td>\n",
              "      <td>295.000000</td>\n",
              "      <td>295.000000</td>\n",
              "    </tr>\n",
              "    <tr>\n",
              "      <th>mean</th>\n",
              "      <td>7.308781</td>\n",
              "      <td>25.203926</td>\n",
              "      <td>153.084746</td>\n",
              "      <td>75.172989</td>\n",
              "      <td>936.720457</td>\n",
              "      <td>59.029789</td>\n",
              "    </tr>\n",
              "    <tr>\n",
              "      <th>std</th>\n",
              "      <td>2.318649</td>\n",
              "      <td>2.176968</td>\n",
              "      <td>191.673554</td>\n",
              "      <td>63.313531</td>\n",
              "      <td>479.505761</td>\n",
              "      <td>25.834215</td>\n",
              "    </tr>\n",
              "    <tr>\n",
              "      <th>min</th>\n",
              "      <td>2.000000</td>\n",
              "      <td>25.000000</td>\n",
              "      <td>10.000000</td>\n",
              "      <td>0.083819</td>\n",
              "      <td>50.000000</td>\n",
              "      <td>0.037530</td>\n",
              "    </tr>\n",
              "    <tr>\n",
              "      <th>25%</th>\n",
              "      <td>5.000000</td>\n",
              "      <td>25.000000</td>\n",
              "      <td>50.000000</td>\n",
              "      <td>15.281506</td>\n",
              "      <td>1000.000000</td>\n",
              "      <td>41.280166</td>\n",
              "    </tr>\n",
              "    <tr>\n",
              "      <th>50%</th>\n",
              "      <td>9.000000</td>\n",
              "      <td>25.000000</td>\n",
              "      <td>100.000000</td>\n",
              "      <td>60.326344</td>\n",
              "      <td>1000.000000</td>\n",
              "      <td>58.512106</td>\n",
              "    </tr>\n",
              "    <tr>\n",
              "      <th>75%</th>\n",
              "      <td>9.000000</td>\n",
              "      <td>25.000000</td>\n",
              "      <td>100.000000</td>\n",
              "      <td>120.355821</td>\n",
              "      <td>1000.000000</td>\n",
              "      <td>79.862001</td>\n",
              "    </tr>\n",
              "    <tr>\n",
              "      <th>max</th>\n",
              "      <td>11.000251</td>\n",
              "      <td>55.052139</td>\n",
              "      <td>800.000000</td>\n",
              "      <td>240.353071</td>\n",
              "      <td>4994.622118</td>\n",
              "      <td>99.756053</td>\n",
              "    </tr>\n",
              "  </tbody>\n",
              "</table>\n",
              "</div>\n",
              "      <button class=\"colab-df-convert\" onclick=\"convertToInteractive('df-a8ac33d8-9bed-4d86-85ca-ea210f1e4277')\"\n",
              "              title=\"Convert this dataframe to an interactive table.\"\n",
              "              style=\"display:none;\">\n",
              "        \n",
              "  <svg xmlns=\"http://www.w3.org/2000/svg\" height=\"24px\"viewBox=\"0 0 24 24\"\n",
              "       width=\"24px\">\n",
              "    <path d=\"M0 0h24v24H0V0z\" fill=\"none\"/>\n",
              "    <path d=\"M18.56 5.44l.94 2.06.94-2.06 2.06-.94-2.06-.94-.94-2.06-.94 2.06-2.06.94zm-11 1L8.5 8.5l.94-2.06 2.06-.94-2.06-.94L8.5 2.5l-.94 2.06-2.06.94zm10 10l.94 2.06.94-2.06 2.06-.94-2.06-.94-.94-2.06-.94 2.06-2.06.94z\"/><path d=\"M17.41 7.96l-1.37-1.37c-.4-.4-.92-.59-1.43-.59-.52 0-1.04.2-1.43.59L10.3 9.45l-7.72 7.72c-.78.78-.78 2.05 0 2.83L4 21.41c.39.39.9.59 1.41.59.51 0 1.02-.2 1.41-.59l7.78-7.78 2.81-2.81c.8-.78.8-2.07 0-2.86zM5.41 20L4 18.59l7.72-7.72 1.47 1.35L5.41 20z\"/>\n",
              "  </svg>\n",
              "      </button>\n",
              "      \n",
              "  <style>\n",
              "    .colab-df-container {\n",
              "      display:flex;\n",
              "      flex-wrap:wrap;\n",
              "      gap: 12px;\n",
              "    }\n",
              "\n",
              "    .colab-df-convert {\n",
              "      background-color: #E8F0FE;\n",
              "      border: none;\n",
              "      border-radius: 50%;\n",
              "      cursor: pointer;\n",
              "      display: none;\n",
              "      fill: #1967D2;\n",
              "      height: 32px;\n",
              "      padding: 0 0 0 0;\n",
              "      width: 32px;\n",
              "    }\n",
              "\n",
              "    .colab-df-convert:hover {\n",
              "      background-color: #E2EBFA;\n",
              "      box-shadow: 0px 1px 2px rgba(60, 64, 67, 0.3), 0px 1px 3px 1px rgba(60, 64, 67, 0.15);\n",
              "      fill: #174EA6;\n",
              "    }\n",
              "\n",
              "    [theme=dark] .colab-df-convert {\n",
              "      background-color: #3B4455;\n",
              "      fill: #D2E3FC;\n",
              "    }\n",
              "\n",
              "    [theme=dark] .colab-df-convert:hover {\n",
              "      background-color: #434B5C;\n",
              "      box-shadow: 0px 1px 3px 1px rgba(0, 0, 0, 0.15);\n",
              "      filter: drop-shadow(0px 1px 2px rgba(0, 0, 0, 0.3));\n",
              "      fill: #FFFFFF;\n",
              "    }\n",
              "  </style>\n",
              "\n",
              "      <script>\n",
              "        const buttonEl =\n",
              "          document.querySelector('#df-a8ac33d8-9bed-4d86-85ca-ea210f1e4277 button.colab-df-convert');\n",
              "        buttonEl.style.display =\n",
              "          google.colab.kernel.accessAllowed ? 'block' : 'none';\n",
              "\n",
              "        async function convertToInteractive(key) {\n",
              "          const element = document.querySelector('#df-a8ac33d8-9bed-4d86-85ca-ea210f1e4277');\n",
              "          const dataTable =\n",
              "            await google.colab.kernel.invokeFunction('convertToInteractive',\n",
              "                                                     [key], {});\n",
              "          if (!dataTable) return;\n",
              "\n",
              "          const docLinkHtml = 'Like what you see? Visit the ' +\n",
              "            '<a target=\"_blank\" href=https://colab.research.google.com/notebooks/data_table.ipynb>data table notebook</a>'\n",
              "            + ' to learn more about interactive tables.';\n",
              "          element.innerHTML = '';\n",
              "          dataTable['output_type'] = 'display_data';\n",
              "          await google.colab.output.renderOutput(dataTable, element);\n",
              "          const docLink = document.createElement('div');\n",
              "          docLink.innerHTML = docLinkHtml;\n",
              "          element.appendChild(docLink);\n",
              "        }\n",
              "      </script>\n",
              "    </div>\n",
              "  </div>\n",
              "  "
            ]
          },
          "metadata": {},
          "execution_count": 39
        }
      ],
      "source": [
        "merged_data.describe()"
      ]
    },
    {
      "cell_type": "code",
      "execution_count": null,
      "metadata": {
        "id": "H0Cnze0bv2aX",
        "colab": {
          "base_uri": "https://localhost:8080/",
          "height": 424
        },
        "outputId": "5d2ae508-bea7-4e51-f3b8-d444933c5ba6"
      },
      "outputs": [
        {
          "output_type": "execute_result",
          "data": {
            "text/plain": [
              "        pH  Temperature    Amx   Time  Adsorbent  Adsorption\n",
              "0    False        False  False  False      False       False\n",
              "1    False        False  False  False      False       False\n",
              "2    False        False  False  False      False       False\n",
              "3    False        False  False  False      False       False\n",
              "4    False        False  False  False      False       False\n",
              "..     ...          ...    ...    ...        ...         ...\n",
              "290  False        False  False  False      False       False\n",
              "291  False        False  False  False      False       False\n",
              "292  False        False  False  False      False       False\n",
              "293  False        False  False  False      False       False\n",
              "294  False        False  False  False      False       False\n",
              "\n",
              "[295 rows x 6 columns]"
            ],
            "text/html": [
              "\n",
              "  <div id=\"df-09d5fae7-aca8-4629-ba71-5396afbe2901\">\n",
              "    <div class=\"colab-df-container\">\n",
              "      <div>\n",
              "<style scoped>\n",
              "    .dataframe tbody tr th:only-of-type {\n",
              "        vertical-align: middle;\n",
              "    }\n",
              "\n",
              "    .dataframe tbody tr th {\n",
              "        vertical-align: top;\n",
              "    }\n",
              "\n",
              "    .dataframe thead th {\n",
              "        text-align: right;\n",
              "    }\n",
              "</style>\n",
              "<table border=\"1\" class=\"dataframe\">\n",
              "  <thead>\n",
              "    <tr style=\"text-align: right;\">\n",
              "      <th></th>\n",
              "      <th>pH</th>\n",
              "      <th>Temperature</th>\n",
              "      <th>Amx</th>\n",
              "      <th>Time</th>\n",
              "      <th>Adsorbent</th>\n",
              "      <th>Adsorption</th>\n",
              "    </tr>\n",
              "  </thead>\n",
              "  <tbody>\n",
              "    <tr>\n",
              "      <th>0</th>\n",
              "      <td>False</td>\n",
              "      <td>False</td>\n",
              "      <td>False</td>\n",
              "      <td>False</td>\n",
              "      <td>False</td>\n",
              "      <td>False</td>\n",
              "    </tr>\n",
              "    <tr>\n",
              "      <th>1</th>\n",
              "      <td>False</td>\n",
              "      <td>False</td>\n",
              "      <td>False</td>\n",
              "      <td>False</td>\n",
              "      <td>False</td>\n",
              "      <td>False</td>\n",
              "    </tr>\n",
              "    <tr>\n",
              "      <th>2</th>\n",
              "      <td>False</td>\n",
              "      <td>False</td>\n",
              "      <td>False</td>\n",
              "      <td>False</td>\n",
              "      <td>False</td>\n",
              "      <td>False</td>\n",
              "    </tr>\n",
              "    <tr>\n",
              "      <th>3</th>\n",
              "      <td>False</td>\n",
              "      <td>False</td>\n",
              "      <td>False</td>\n",
              "      <td>False</td>\n",
              "      <td>False</td>\n",
              "      <td>False</td>\n",
              "    </tr>\n",
              "    <tr>\n",
              "      <th>4</th>\n",
              "      <td>False</td>\n",
              "      <td>False</td>\n",
              "      <td>False</td>\n",
              "      <td>False</td>\n",
              "      <td>False</td>\n",
              "      <td>False</td>\n",
              "    </tr>\n",
              "    <tr>\n",
              "      <th>...</th>\n",
              "      <td>...</td>\n",
              "      <td>...</td>\n",
              "      <td>...</td>\n",
              "      <td>...</td>\n",
              "      <td>...</td>\n",
              "      <td>...</td>\n",
              "    </tr>\n",
              "    <tr>\n",
              "      <th>290</th>\n",
              "      <td>False</td>\n",
              "      <td>False</td>\n",
              "      <td>False</td>\n",
              "      <td>False</td>\n",
              "      <td>False</td>\n",
              "      <td>False</td>\n",
              "    </tr>\n",
              "    <tr>\n",
              "      <th>291</th>\n",
              "      <td>False</td>\n",
              "      <td>False</td>\n",
              "      <td>False</td>\n",
              "      <td>False</td>\n",
              "      <td>False</td>\n",
              "      <td>False</td>\n",
              "    </tr>\n",
              "    <tr>\n",
              "      <th>292</th>\n",
              "      <td>False</td>\n",
              "      <td>False</td>\n",
              "      <td>False</td>\n",
              "      <td>False</td>\n",
              "      <td>False</td>\n",
              "      <td>False</td>\n",
              "    </tr>\n",
              "    <tr>\n",
              "      <th>293</th>\n",
              "      <td>False</td>\n",
              "      <td>False</td>\n",
              "      <td>False</td>\n",
              "      <td>False</td>\n",
              "      <td>False</td>\n",
              "      <td>False</td>\n",
              "    </tr>\n",
              "    <tr>\n",
              "      <th>294</th>\n",
              "      <td>False</td>\n",
              "      <td>False</td>\n",
              "      <td>False</td>\n",
              "      <td>False</td>\n",
              "      <td>False</td>\n",
              "      <td>False</td>\n",
              "    </tr>\n",
              "  </tbody>\n",
              "</table>\n",
              "<p>295 rows × 6 columns</p>\n",
              "</div>\n",
              "      <button class=\"colab-df-convert\" onclick=\"convertToInteractive('df-09d5fae7-aca8-4629-ba71-5396afbe2901')\"\n",
              "              title=\"Convert this dataframe to an interactive table.\"\n",
              "              style=\"display:none;\">\n",
              "        \n",
              "  <svg xmlns=\"http://www.w3.org/2000/svg\" height=\"24px\"viewBox=\"0 0 24 24\"\n",
              "       width=\"24px\">\n",
              "    <path d=\"M0 0h24v24H0V0z\" fill=\"none\"/>\n",
              "    <path d=\"M18.56 5.44l.94 2.06.94-2.06 2.06-.94-2.06-.94-.94-2.06-.94 2.06-2.06.94zm-11 1L8.5 8.5l.94-2.06 2.06-.94-2.06-.94L8.5 2.5l-.94 2.06-2.06.94zm10 10l.94 2.06.94-2.06 2.06-.94-2.06-.94-.94-2.06-.94 2.06-2.06.94z\"/><path d=\"M17.41 7.96l-1.37-1.37c-.4-.4-.92-.59-1.43-.59-.52 0-1.04.2-1.43.59L10.3 9.45l-7.72 7.72c-.78.78-.78 2.05 0 2.83L4 21.41c.39.39.9.59 1.41.59.51 0 1.02-.2 1.41-.59l7.78-7.78 2.81-2.81c.8-.78.8-2.07 0-2.86zM5.41 20L4 18.59l7.72-7.72 1.47 1.35L5.41 20z\"/>\n",
              "  </svg>\n",
              "      </button>\n",
              "      \n",
              "  <style>\n",
              "    .colab-df-container {\n",
              "      display:flex;\n",
              "      flex-wrap:wrap;\n",
              "      gap: 12px;\n",
              "    }\n",
              "\n",
              "    .colab-df-convert {\n",
              "      background-color: #E8F0FE;\n",
              "      border: none;\n",
              "      border-radius: 50%;\n",
              "      cursor: pointer;\n",
              "      display: none;\n",
              "      fill: #1967D2;\n",
              "      height: 32px;\n",
              "      padding: 0 0 0 0;\n",
              "      width: 32px;\n",
              "    }\n",
              "\n",
              "    .colab-df-convert:hover {\n",
              "      background-color: #E2EBFA;\n",
              "      box-shadow: 0px 1px 2px rgba(60, 64, 67, 0.3), 0px 1px 3px 1px rgba(60, 64, 67, 0.15);\n",
              "      fill: #174EA6;\n",
              "    }\n",
              "\n",
              "    [theme=dark] .colab-df-convert {\n",
              "      background-color: #3B4455;\n",
              "      fill: #D2E3FC;\n",
              "    }\n",
              "\n",
              "    [theme=dark] .colab-df-convert:hover {\n",
              "      background-color: #434B5C;\n",
              "      box-shadow: 0px 1px 3px 1px rgba(0, 0, 0, 0.15);\n",
              "      filter: drop-shadow(0px 1px 2px rgba(0, 0, 0, 0.3));\n",
              "      fill: #FFFFFF;\n",
              "    }\n",
              "  </style>\n",
              "\n",
              "      <script>\n",
              "        const buttonEl =\n",
              "          document.querySelector('#df-09d5fae7-aca8-4629-ba71-5396afbe2901 button.colab-df-convert');\n",
              "        buttonEl.style.display =\n",
              "          google.colab.kernel.accessAllowed ? 'block' : 'none';\n",
              "\n",
              "        async function convertToInteractive(key) {\n",
              "          const element = document.querySelector('#df-09d5fae7-aca8-4629-ba71-5396afbe2901');\n",
              "          const dataTable =\n",
              "            await google.colab.kernel.invokeFunction('convertToInteractive',\n",
              "                                                     [key], {});\n",
              "          if (!dataTable) return;\n",
              "\n",
              "          const docLinkHtml = 'Like what you see? Visit the ' +\n",
              "            '<a target=\"_blank\" href=https://colab.research.google.com/notebooks/data_table.ipynb>data table notebook</a>'\n",
              "            + ' to learn more about interactive tables.';\n",
              "          element.innerHTML = '';\n",
              "          dataTable['output_type'] = 'display_data';\n",
              "          await google.colab.output.renderOutput(dataTable, element);\n",
              "          const docLink = document.createElement('div');\n",
              "          docLink.innerHTML = docLinkHtml;\n",
              "          element.appendChild(docLink);\n",
              "        }\n",
              "      </script>\n",
              "    </div>\n",
              "  </div>\n",
              "  "
            ]
          },
          "metadata": {},
          "execution_count": 40
        }
      ],
      "source": [
        "merged_data.isna()"
      ]
    },
    {
      "cell_type": "code",
      "execution_count": null,
      "metadata": {
        "colab": {
          "base_uri": "https://localhost:8080/",
          "height": 526
        },
        "id": "vcFzibG91YHh",
        "outputId": "6c56c04e-22c5-4796-8c02-43e46fb28386"
      },
      "outputs": [
        {
          "output_type": "display_data",
          "data": {
            "text/plain": [
              "<Figure size 640x480 with 2 Axes>"
            ],
            "image/png": "[encoded data removed]"
          },
          "metadata": {}
        }
      ],
      "source": [
        "# Compute the correlation matrix\n",
        "correlation_matrix = mergedXs_data.corr(method='spearman', min_periods=1, numeric_only=True)\n",
        "\n",
        "# Visualize the correlation matrix using a heatmap\n",
        "sns.heatmap(correlation_matrix, annot=True, cmap='coolwarm')\n",
        "plt.title('Correlation Matrix')\n",
        "plt.show()"
      ]
    },
    {
      "cell_type": "code",
      "execution_count": null,
      "metadata": {
        "id": "Yab7WGIZvHoD",
        "colab": {
          "base_uri": "https://localhost:8080/",
          "height": 526
        },
        "outputId": "60b280ec-9d30-4006-bada-0afffe722515"
      },
      "outputs": [
        {
          "output_type": "display_data",
          "data": {
            "text/plain": [
              "<Figure size 640x480 with 2 Axes>"
            ],
            "image/png": "[encoded data removed]"
          },
          "metadata": {}
        }
      ],
      "source": [
        "# Compute the correlation matrix\n",
        "correlation_matrix = merged_data.corr(method='spearman', min_periods=1, numeric_only=True)\n",
        "\n",
        "# Visualize the correlation matrix using a heatmap\n",
        "sns.heatmap(correlation_matrix, annot=True, cmap='coolwarm')\n",
        "plt.title('Correlation Matrix')\n",
        "plt.show()"
      ]
    },
    {
      "cell_type": "markdown",
      "metadata": {
        "id": "lb3cQu7U9nQB"
      },
      "source": [
        "# **Training the model**"
      ]
    },
    {
      "cell_type": "markdown",
      "metadata": {
        "id": "m7VgdrclmQ_B"
      },
      "source": [
        "# **1/ with merged data **"
      ]
    },
    {
      "cell_type": "code",
      "execution_count": null,
      "metadata": {
        "id": "CLxXnWTOTc2C"
      },
      "outputs": [],
      "source": [
        "from sklearn.model_selection import train_test_split\n",
        "X_train, X_test, y_train, y_test = train_test_split(X_merged, merged_y, test_size=0.2, random_state=42,shuffle=True)"
      ]
    },
    {
      "cell_type": "code",
      "execution_count": null,
      "metadata": {
        "id": "zVO0y-iWmYbK",
        "colab": {
          "base_uri": "https://localhost:8080/"
        },
        "outputId": "fd4219a4-bf24-4a52-811f-e71b89cde9b0"
      },
      "outputs": [
        {
          "output_type": "execute_result",
          "data": {
            "text/plain": [
              "(236, 5)"
            ]
          },
          "metadata": {},
          "execution_count": 44
        }
      ],
      "source": [
        "X_train.shape"
      ]
    },
    {
      "cell_type": "code",
      "execution_count": null,
      "metadata": {
        "id": "D4cKbkkhmdem",
        "colab": {
          "base_uri": "https://localhost:8080/"
        },
        "outputId": "836d2d21-db8b-438f-a41f-dbf70c6f1bac"
      },
      "outputs": [
        {
          "output_type": "execute_result",
          "data": {
            "text/plain": [
              "(236,)"
            ]
          },
          "metadata": {},
          "execution_count": 45
        }
      ],
      "source": [
        "y_train.shape"
      ]
    },
    {
      "cell_type": "code",
      "execution_count": null,
      "metadata": {
        "colab": {
          "base_uri": "https://localhost:8080/",
          "height": 75
        },
        "id": "bZGsTdA-mjQd",
        "outputId": "e9c0bc89-d7aa-4463-853c-2b0fd795e1e8"
      },
      "outputs": [
        {
          "output_type": "execute_result",
          "data": {
            "text/plain": [
              "RandomForestRegressor(max_depth=16, random_state=42)"
            ],
            "text/html": [
              "<style>#sk-container-id-4 {color: black;background-color: white;}#sk-container-id-4 pre{padding: 0;}#sk-container-id-4 div.sk-toggleable {background-color: white;}#sk-container-id-4 label.sk-toggleable__label {cursor: pointer;display: block;width: 100%;margin-bottom: 0;padding: 0.3em;box-sizing: border-box;text-align: center;}#sk-container-id-4 label.sk-toggleable__label-arrow:before {content: \"▸\";float: left;margin-right: 0.25em;color: #696969;}#sk-container-id-4 label.sk-toggleable__label-arrow:hover:before {color: black;}#sk-container-id-4 div.sk-estimator:hover label.sk-toggleable__label-arrow:before {color: black;}#sk-container-id-4 div.sk-toggleable__content {max-height: 0;max-width: 0;overflow: hidden;text-align: left;background-color: #f0f8ff;}#sk-container-id-4 div.sk-toggleable__content pre {margin: 0.2em;color: black;border-radius: 0.25em;background-color: #f0f8ff;}#sk-container-id-4 input.sk-toggleable__control:checked~div.sk-toggleable__content {max-height: 200px;max-width: 100%;overflow: auto;}#sk-container-id-4 input.sk-toggleable__control:checked~label.sk-toggleable__label-arrow:before {content: \"▾\";}#sk-container-id-4 div.sk-estimator input.sk-toggleable__control:checked~label.sk-toggleable__label {background-color: #d4ebff;}#sk-container-id-4 div.sk-label input.sk-toggleable__control:checked~label.sk-toggleable__label {background-color: #d4ebff;}#sk-container-id-4 input.sk-hidden--visually {border: 0;clip: rect(1px 1px 1px 1px);clip: rect(1px, 1px, 1px, 1px);height: 1px;margin: -1px;overflow: hidden;padding: 0;position: absolute;width: 1px;}#sk-container-id-4 div.sk-estimator {font-family: monospace;background-color: #f0f8ff;border: 1px dotted black;border-radius: 0.25em;box-sizing: border-box;margin-bottom: 0.5em;}#sk-container-id-4 div.sk-estimator:hover {background-color: #d4ebff;}#sk-container-id-4 div.sk-parallel-item::after {content: \"\";width: 100%;border-bottom: 1px solid gray;flex-grow: 1;}#sk-container-id-4 div.sk-label:hover label.sk-toggleable__label {background-color: #d4ebff;}#sk-container-id-4 div.sk-serial::before {content: \"\";position: absolute;border-left: 1px solid gray;box-sizing: border-box;top: 0;bottom: 0;left: 50%;z-index: 0;}#sk-container-id-4 div.sk-serial {display: flex;flex-direction: column;align-items: center;background-color: white;padding-right: 0.2em;padding-left: 0.2em;position: relative;}#sk-container-id-4 div.sk-item {position: relative;z-index: 1;}#sk-container-id-4 div.sk-parallel {display: flex;align-items: stretch;justify-content: center;background-color: white;position: relative;}#sk-container-id-4 div.sk-item::before, #sk-container-id-4 div.sk-parallel-item::before {content: \"\";position: absolute;border-left: 1px solid gray;box-sizing: border-box;top: 0;bottom: 0;left: 50%;z-index: -1;}#sk-container-id-4 div.sk-parallel-item {display: flex;flex-direction: column;z-index: 1;position: relative;background-color: white;}#sk-container-id-4 div.sk-parallel-item:first-child::after {align-self: flex-end;width: 50%;}#sk-container-id-4 div.sk-parallel-item:last-child::after {align-self: flex-start;width: 50%;}#sk-container-id-4 div.sk-parallel-item:only-child::after {width: 0;}#sk-container-id-4 div.sk-dashed-wrapped {border: 1px dashed gray;margin: 0 0.4em 0.5em 0.4em;box-sizing: border-box;padding-bottom: 0.4em;background-color: white;}#sk-container-id-4 div.sk-label label {font-family: monospace;font-weight: bold;display: inline-block;line-height: 1.2em;}#sk-container-id-4 div.sk-label-container {text-align: center;}#sk-container-id-4 div.sk-container {/* jupyter's `normalize.less` sets `[hidden] { display: none; }` but bootstrap.min.css set `[hidden] { display: none !important; }` so we also need the `!important` here to be able to override the default hidden behavior on the sphinx rendered scikit-learn.org. See: https://github.com/scikit-learn/scikit-learn/issues/21755 */display: inline-block !important;position: relative;}#sk-container-id-4 div.sk-text-repr-fallback {display: none;}</style><div id=\"sk-container-id-4\" class=\"sk-top-container\"><div class=\"sk-text-repr-fallback\"><pre>RandomForestRegressor(max_depth=16, random_state=42)</pre><b>In a Jupyter environment, please rerun this cell to show the HTML representation or trust the notebook. <br />On GitHub, the HTML representation is unable to render, please try loading this page with nbviewer.org.</b></div><div class=\"sk-container\" hidden><div class=\"sk-item\"><div class=\"sk-estimator sk-toggleable\"><input class=\"sk-toggleable__control sk-hidden--visually\" id=\"sk-estimator-id-4\" type=\"checkbox\" checked><label for=\"sk-estimator-id-4\" class=\"sk-toggleable__label sk-toggleable__label-arrow\">RandomForestRegressor</label><div class=\"sk-toggleable__content\"><pre>RandomForestRegressor(max_depth=16, random_state=42)</pre></div></div></div></div></div>"
            ]
          },
          "metadata": {},
          "execution_count": 58
        }
      ],
      "source": [
        "from sklearn.ensemble import RandomForestRegressor\n",
        "rf_model = RandomForestRegressor(random_state=42, n_estimators=100, max_depth=16, min_samples_split=2, bootstrap=True)\n",
        "rf_model.fit(X_train ,y_train)"
      ]
    },
    {
      "cell_type": "code",
      "execution_count": null,
      "metadata": {
        "id": "tgtEHA-QnEZ5",
        "colab": {
          "base_uri": "https://localhost:8080/"
        },
        "outputId": "c8f7ff7d-fc7a-47aa-87a6-b9e6af3dc65c"
      },
      "outputs": [
        {
          "output_type": "stream",
          "name": "stdout",
          "text": [
            "(59, 5)\n"
          ]
        }
      ],
      "source": [
        "print(X_test.shape)"
      ]
    },
    {
      "cell_type": "markdown",
      "metadata": {
        "id": "gBU0lNvfnInd"
      },
      "source": [
        "# **Evaluation du modèle en utilisant la partie Teste**\n",
        "\n",
        "---\n",
        "\n"
      ]
    },
    {
      "cell_type": "code",
      "execution_count": null,
      "metadata": {
        "id": "zqV0m5sunKtR"
      },
      "outputs": [],
      "source": [
        "from sklearn.metrics import *\n",
        "y_pred = rf_model.predict(X_test)"
      ]
    },
    {
      "cell_type": "code",
      "execution_count": null,
      "metadata": {
        "id": "D2YCuxYsnSFY",
        "colab": {
          "base_uri": "https://localhost:8080/"
        },
        "outputId": "37bc10aa-b1da-4185-b8fd-c901436b35c8"
      },
      "outputs": [
        {
          "output_type": "stream",
          "name": "stdout",
          "text": [
            "(59,)\n"
          ]
        }
      ],
      "source": [
        "print(y_pred.shape)"
      ]
    },
    {
      "cell_type": "code",
      "execution_count": null,
      "metadata": {
        "id": "ev5hNrAanT3H",
        "colab": {
          "base_uri": "https://localhost:8080/"
        },
        "outputId": "626cbcfc-bdc2-4def-87c9-7387853b312f"
      },
      "outputs": [
        {
          "output_type": "stream",
          "name": "stdout",
          "text": [
            "[27.92609367 51.50679315 69.1198601  58.93958806 47.94877534 57.12841691\n",
            " 42.35671165 80.2735201  84.20906639 82.00361253 70.30902868 68.22156365\n",
            " 32.22195578 80.16395266 61.7992554  57.75792533 56.91556409 75.13037894\n",
            " 11.5938471  80.49847078 63.56717476 61.0859335  70.33558771 84.12911517\n",
            " 73.14790353 57.40411951 77.14774217 66.33008812 35.20314194 23.81745578\n",
            " 23.1526058  53.36645861 10.15648983 79.97932003 57.55610295 52.53467073\n",
            " 23.93389339 98.30269099  9.6821748  78.12091622 86.79524175 39.60620483\n",
            " 40.11860775 95.64652258 33.0206198  11.41773092 57.44545932 55.66730631\n",
            " 57.61717224 39.88808807 56.79266033 45.68638789 52.2017037  58.90617485\n",
            " 81.26249662 56.79266033 38.46253613 66.00477673 99.0252207 ]\n"
          ]
        }
      ],
      "source": [
        "print(y_pred)"
      ]
    },
    {
      "cell_type": "code",
      "execution_count": null,
      "metadata": {
        "id": "ZgFvF8nvnWgG",
        "colab": {
          "base_uri": "https://localhost:8080/"
        },
        "outputId": "6b72db0b-4e27-4c24-b156-ab053c9c69ba"
      },
      "outputs": [
        {
          "output_type": "stream",
          "name": "stdout",
          "text": [
            "273     9.755279\n",
            "155    53.457931\n",
            "84     71.639786\n",
            "82     56.394747\n",
            "261    25.825619\n",
            "9      57.390925\n",
            "42     43.062720\n",
            "278    81.556736\n",
            "281    83.857404\n",
            "92     82.003212\n",
            "148    70.551726\n",
            "211    63.714547\n",
            "60     32.706916\n",
            "218    81.286106\n",
            "262    50.514882\n",
            "46     57.790162\n",
            "45     56.060132\n",
            "236    79.729048\n",
            "228     8.443035\n",
            "132    80.208076\n",
            "143    65.251006\n",
            "167    59.498286\n",
            "152    70.305180\n",
            "93     83.643755\n",
            "113    79.221895\n",
            "5      56.060132\n",
            "238    75.068394\n",
            "251    73.384212\n",
            "170    35.172502\n",
            "186    22.187793\n",
            "193    23.625972\n",
            "33     53.812570\n",
            "222     6.464042\n",
            "216    79.106956\n",
            "197    43.474492\n",
            "73     52.833570\n",
            "182    18.818343\n",
            "119    98.740050\n",
            "284     2.406875\n",
            "202    85.234368\n",
            "204    88.161169\n",
            "179    41.212857\n",
            "177    39.733586\n",
            "111    96.287935\n",
            "59     31.066374\n",
            "226     8.291097\n",
            "25     60.303883\n",
            "77     57.355064\n",
            "6      56.459369\n",
            "175    38.048862\n",
            "164    55.635746\n",
            "140    51.074662\n",
            "30     43.728116\n",
            "22     60.303883\n",
            "245    84.859523\n",
            "24     60.703120\n",
            "56     35.947988\n",
            "144    63.566281\n",
            "124    98.740050\n",
            "Name: Adsorption, dtype: float64\n"
          ]
        }
      ],
      "source": [
        "print(y_test)"
      ]
    },
    {
      "cell_type": "code",
      "execution_count": null,
      "metadata": {
        "id": "unIu9Za8nasl"
      },
      "outputs": [],
      "source": [
        "y_pred = rf_model.predict(X_test)\n",
        "mae = mean_absolute_error(y_test,y_pred)\n",
        "mse = mean_squared_error(y_test,y_pred)\n",
        "r2 = r2_score(y_test,y_pred)\n",
        "rmse = np.sqrt(mean_squared_error(y_test, y_pred))"
      ]
    },
    {
      "cell_type": "code",
      "execution_count": null,
      "metadata": {
        "colab": {
          "base_uri": "https://localhost:8080/"
        },
        "id": "dIg6y94-rTfa",
        "outputId": "74ffb319-ec2d-4f93-c10d-6a6507ecfe9a"
      },
      "outputs": [
        {
          "output_type": "stream",
          "name": "stdout",
          "text": [
            "3.9285136479814633 66.67028830891991 0.8974869787774852 8.165187585654104\n"
          ]
        }
      ],
      "source": [
        "print(mae,mse,r2,rmse)"
      ]
    },
    {
      "cell_type": "markdown",
      "source": [
        "# **validation Croisser**\n",
        "for better results I want to try repeting the spliting 10 times and calculate the avredge"
      ],
      "metadata": {
        "id": "VDOHcR4Ru-tT"
      }
    },
    {
      "cell_type": "code",
      "source": [
        "import numpy as np\n",
        "from sklearn.model_selection import cross_val_score, KFold\n",
        "from sklearn.ensemble import RandomForestRegressor\n",
        "\n",
        "model_cv = RandomForestRegressor(random_state=42, n_estimators=300, max_depth=16, min_samples_split=2, bootstrap=True)\n",
        "\n",
        "# Create a KFold object with the desired number of folds (e.g., 5) and shuffle the data\n",
        "kf = KFold(n_splits=5, shuffle=True, random_state=42)\n",
        "\n",
        "mse_scores = cross_val_score(model_cv, X_merged,merged_y , scoring='neg_mean_squared_error', cv=kf)\n",
        "r2_scores = cross_val_score(model_cv, X_merged, merged_y, scoring='r2', cv=kf)\n",
        "\n",
        "mse_scores = -mse_scores\n",
        "\n",
        "print(f'MSE: {(mse_scores.mean())}')\n",
        "print(f'R2: {(r2_scores.mean())}')\n"
      ],
      "metadata": {
        "id": "2fD0MgjBvCF0",
        "colab": {
          "base_uri": "https://localhost:8080/"
        },
        "outputId": "db48d087-766f-4ef3-e884-57642ddc80ee"
      },
      "execution_count": null,
      "outputs": [
        {
          "output_type": "stream",
          "name": "stdout",
          "text": [
            "MSE: 73.20455069371923\n",
            "R2: 0.8872111157896516\n"
          ]
        }
      ]
    },
    {
      "cell_type": "markdown",
      "metadata": {
        "id": "6Z674-ccl-6y"
      },
      "source": [
        "# **1/ with simple data  **"
      ]
    },
    {
      "cell_type": "code",
      "execution_count": null,
      "metadata": {
        "id": "uAmzqLHLl-7D"
      },
      "outputs": [],
      "source": [
        "from sklearn.model_selection import train_test_split\n",
        "X_train, X_test, y_train, y_test = train_test_split(X, Y, test_size=0.3, random_state=42,shuffle=True)"
      ]
    },
    {
      "cell_type": "code",
      "execution_count": null,
      "metadata": {
        "colab": {
          "base_uri": "https://localhost:8080/"
        },
        "outputId": "09f60a0b-3e5e-4c56-dfc1-318618dd9197",
        "id": "oeGO0Vhol-7E"
      },
      "outputs": [
        {
          "output_type": "execute_result",
          "data": {
            "text/plain": [
              "(206, 5)"
            ]
          },
          "metadata": {},
          "execution_count": 56
        }
      ],
      "source": [
        "X_train.shape"
      ]
    },
    {
      "cell_type": "code",
      "execution_count": null,
      "metadata": {
        "colab": {
          "base_uri": "https://localhost:8080/"
        },
        "outputId": "797be790-7000-4a1d-8ec4-8563ee9fab7a",
        "id": "tmcwCkPAl-7F"
      },
      "outputs": [
        {
          "output_type": "execute_result",
          "data": {
            "text/plain": [
              "(206,)"
            ]
          },
          "metadata": {},
          "execution_count": 57
        }
      ],
      "source": [
        "y_train.shape"
      ]
    },
    {
      "cell_type": "code",
      "execution_count": null,
      "metadata": {
        "colab": {
          "base_uri": "https://localhost:8080/"
        },
        "outputId": "45f26e75-b895-423f-c02b-e6fa7ed276c6",
        "id": "e9xq6fIjl-7F"
      },
      "outputs": [
        {
          "output_type": "execute_result",
          "data": {
            "text/plain": [
              "RandomForestRegressor(max_depth=16, n_estimators=300, random_state=42)"
            ],
            "text/html": [
              "<style>#sk-container-id-2 {color: black;background-color: white;}#sk-container-id-2 pre{padding: 0;}#sk-container-id-2 div.sk-toggleable {background-color: white;}#sk-container-id-2 label.sk-toggleable__label {cursor: pointer;display: block;width: 100%;margin-bottom: 0;padding: 0.3em;box-sizing: border-box;text-align: center;}#sk-container-id-2 label.sk-toggleable__label-arrow:before {content: \"▸\";float: left;margin-right: 0.25em;color: #696969;}#sk-container-id-2 label.sk-toggleable__label-arrow:hover:before {color: black;}#sk-container-id-2 div.sk-estimator:hover label.sk-toggleable__label-arrow:before {color: black;}#sk-container-id-2 div.sk-toggleable__content {max-height: 0;max-width: 0;overflow: hidden;text-align: left;background-color: #f0f8ff;}#sk-container-id-2 div.sk-toggleable__content pre {margin: 0.2em;color: black;border-radius: 0.25em;background-color: #f0f8ff;}#sk-container-id-2 input.sk-toggleable__control:checked~div.sk-toggleable__content {max-height: 200px;max-width: 100%;overflow: auto;}#sk-container-id-2 input.sk-toggleable__control:checked~label.sk-toggleable__label-arrow:before {content: \"▾\";}#sk-container-id-2 div.sk-estimator input.sk-toggleable__control:checked~label.sk-toggleable__label {background-color: #d4ebff;}#sk-container-id-2 div.sk-label input.sk-toggleable__control:checked~label.sk-toggleable__label {background-color: #d4ebff;}#sk-container-id-2 input.sk-hidden--visually {border: 0;clip: rect(1px 1px 1px 1px);clip: rect(1px, 1px, 1px, 1px);height: 1px;margin: -1px;overflow: hidden;padding: 0;position: absolute;width: 1px;}#sk-container-id-2 div.sk-estimator {font-family: monospace;background-color: #f0f8ff;border: 1px dotted black;border-radius: 0.25em;box-sizing: border-box;margin-bottom: 0.5em;}#sk-container-id-2 div.sk-estimator:hover {background-color: #d4ebff;}#sk-container-id-2 div.sk-parallel-item::after {content: \"\";width: 100%;border-bottom: 1px solid gray;flex-grow: 1;}#sk-container-id-2 div.sk-label:hover label.sk-toggleable__label {background-color: #d4ebff;}#sk-container-id-2 div.sk-serial::before {content: \"\";position: absolute;border-left: 1px solid gray;box-sizing: border-box;top: 0;bottom: 0;left: 50%;z-index: 0;}#sk-container-id-2 div.sk-serial {display: flex;flex-direction: column;align-items: center;background-color: white;padding-right: 0.2em;padding-left: 0.2em;position: relative;}#sk-container-id-2 div.sk-item {position: relative;z-index: 1;}#sk-container-id-2 div.sk-parallel {display: flex;align-items: stretch;justify-content: center;background-color: white;position: relative;}#sk-container-id-2 div.sk-item::before, #sk-container-id-2 div.sk-parallel-item::before {content: \"\";position: absolute;border-left: 1px solid gray;box-sizing: border-box;top: 0;bottom: 0;left: 50%;z-index: -1;}#sk-container-id-2 div.sk-parallel-item {display: flex;flex-direction: column;z-index: 1;position: relative;background-color: white;}#sk-container-id-2 div.sk-parallel-item:first-child::after {align-self: flex-end;width: 50%;}#sk-container-id-2 div.sk-parallel-item:last-child::after {align-self: flex-start;width: 50%;}#sk-container-id-2 div.sk-parallel-item:only-child::after {width: 0;}#sk-container-id-2 div.sk-dashed-wrapped {border: 1px dashed gray;margin: 0 0.4em 0.5em 0.4em;box-sizing: border-box;padding-bottom: 0.4em;background-color: white;}#sk-container-id-2 div.sk-label label {font-family: monospace;font-weight: bold;display: inline-block;line-height: 1.2em;}#sk-container-id-2 div.sk-label-container {text-align: center;}#sk-container-id-2 div.sk-container {/* jupyter's `normalize.less` sets `[hidden] { display: none; }` but bootstrap.min.css set `[hidden] { display: none !important; }` so we also need the `!important` here to be able to override the default hidden behavior on the sphinx rendered scikit-learn.org. See: https://github.com/scikit-learn/scikit-learn/issues/21755 */display: inline-block !important;position: relative;}#sk-container-id-2 div.sk-text-repr-fallback {display: none;}</style><div id=\"sk-container-id-2\" class=\"sk-top-container\"><div class=\"sk-text-repr-fallback\"><pre>RandomForestRegressor(max_depth=16, n_estimators=300, random_state=42)</pre><b>In a Jupyter environment, please rerun this cell to show the HTML representation or trust the notebook. <br />On GitHub, the HTML representation is unable to render, please try loading this page with nbviewer.org.</b></div><div class=\"sk-container\" hidden><div class=\"sk-item\"><div class=\"sk-estimator sk-toggleable\"><input class=\"sk-toggleable__control sk-hidden--visually\" id=\"sk-estimator-id-2\" type=\"checkbox\" checked><label for=\"sk-estimator-id-2\" class=\"sk-toggleable__label sk-toggleable__label-arrow\">RandomForestRegressor</label><div class=\"sk-toggleable__content\"><pre>RandomForestRegressor(max_depth=16, n_estimators=300, random_state=42)</pre></div></div></div></div></div>"
            ]
          },
          "metadata": {},
          "execution_count": 58
        }
      ],
      "source": [
        "from sklearn.ensemble import RandomForestRegressor\n",
        "model = RandomForestRegressor(random_state=42, n_estimators=300, max_depth=16, min_samples_split=2, bootstrap=True)\n",
        "model.fit(X_train ,y_train)"
      ]
    },
    {
      "cell_type": "code",
      "execution_count": null,
      "metadata": {
        "colab": {
          "base_uri": "https://localhost:8080/"
        },
        "outputId": "b756e89f-d9ef-4ca4-f346-c9338b750142",
        "id": "VM289EDXl-7G"
      },
      "outputs": [
        {
          "output_type": "stream",
          "name": "stdout",
          "text": [
            "(89, 5)\n"
          ]
        }
      ],
      "source": [
        "print(X_test.shape)"
      ]
    },
    {
      "cell_type": "markdown",
      "metadata": {
        "id": "l6bRE4stl-7G"
      },
      "source": [
        "# **Evaluation du modèle en utilisant la partie Teste**\n",
        "\n",
        "---\n",
        "\n"
      ]
    },
    {
      "cell_type": "code",
      "execution_count": null,
      "metadata": {
        "id": "WMrPOV0Tl-7H"
      },
      "outputs": [],
      "source": [
        "from sklearn.metrics import *\n",
        "y_pred = model.predict(X_test)"
      ]
    },
    {
      "cell_type": "code",
      "execution_count": null,
      "metadata": {
        "id": "ooxDOEkXl-7H",
        "colab": {
          "base_uri": "https://localhost:8080/"
        },
        "outputId": "b84abb43-d008-4690-9493-e41de328dfa2"
      },
      "outputs": [
        {
          "output_type": "stream",
          "name": "stdout",
          "text": [
            "(89,)\n"
          ]
        }
      ],
      "source": [
        "print(y_pred.shape)"
      ]
    },
    {
      "cell_type": "code",
      "execution_count": null,
      "metadata": {
        "id": "6c5ljOBWl-7H",
        "colab": {
          "base_uri": "https://localhost:8080/"
        },
        "outputId": "b5db6724-20d3-4c1a-c111-85197bfbc0e0"
      },
      "outputs": [
        {
          "output_type": "stream",
          "name": "stdout",
          "text": [
            "[25.7431172  50.98785645 65.82350346 58.66242977 47.75983849 56.96201503\n",
            " 40.47726383 79.21803867 83.67624125 82.2371564  70.31194661 66.88809554\n",
            " 32.3382609  81.09529964 63.52805507 57.76606892 56.64894999 74.33109291\n",
            " 14.11224279 80.50437495 63.34363821 61.14344072 70.36348383 83.83688523\n",
            " 73.18815591 57.23432742 77.0969161  65.80485229 35.1810641  24.03537427\n",
            " 23.10384466 53.50873602 13.7750656  81.43841835 61.13891258 53.09432241\n",
            " 28.20581756 98.47966194  8.53295519 77.98577065 86.1914161  40.71750964\n",
            " 40.19910051 95.4822016  33.03048973 11.79055812 57.54866343 57.18154022\n",
            " 57.60090751 39.94123224 56.80794402 41.85389791 51.03637836 58.7371901\n",
            " 80.7210522  56.80794402 41.52729415 65.74417159 98.22865461 84.47536297\n",
            " 32.95419785 57.69131425 78.67985245 79.30478945 23.35626392 86.65817732\n",
            " 56.11572122  0.61161336 35.65202302 40.57412121 41.15361426 54.39875362\n",
            " 58.66927062 95.61504551 59.01374591 97.59693474 50.76448554 50.10907758\n",
            " 56.74113957 93.9548967  34.23142007 98.22865461 55.9399114  55.88919534\n",
            " 66.15482248 81.42998083 92.62534706 34.23035305 80.82402259]\n"
          ]
        }
      ],
      "source": [
        "print(y_pred)"
      ]
    },
    {
      "cell_type": "code",
      "execution_count": null,
      "metadata": {
        "id": "_5Tg02YIl-7H",
        "colab": {
          "base_uri": "https://localhost:8080/"
        },
        "outputId": "36c376ab-2005-4f5c-d860-39b351857c40"
      },
      "outputs": [
        {
          "output_type": "stream",
          "name": "stdout",
          "text": [
            "307     9.755279\n",
            "155    53.457931\n",
            "84     71.639786\n",
            "82     56.394747\n",
            "295    25.825619\n",
            "         ...    \n",
            "326    66.138824\n",
            "139    81.892801\n",
            "300    89.282861\n",
            "67     35.307776\n",
            "90     80.722789\n",
            "Name: Adsorption, Length: 89, dtype: float64\n"
          ]
        }
      ],
      "source": [
        "print(y_test)"
      ]
    },
    {
      "cell_type": "code",
      "execution_count": null,
      "metadata": {
        "id": "KcwUMIgLl-7I"
      },
      "outputs": [],
      "source": [
        "y_pred = model.predict(X_test)\n",
        "mae = mean_absolute_error(y_test,y_pred)\n",
        "mse = mean_squared_error(y_test,y_pred)\n",
        "r2 = r2_score(y_test,y_pred)\n",
        "rmse = np.sqrt(mean_squared_error(y_test, y_pred))"
      ]
    },
    {
      "cell_type": "code",
      "execution_count": null,
      "metadata": {
        "colab": {
          "base_uri": "https://localhost:8080/"
        },
        "outputId": "5cad53b1-e50a-43e5-9a61-dfb741ff4c7b",
        "id": "bC6yM2x_l-7I"
      },
      "outputs": [
        {
          "output_type": "stream",
          "name": "stdout",
          "text": [
            "2.803164147725266 23.4845350481981 0.9609740430883659 4.846084506918766\n"
          ]
        }
      ],
      "source": [
        "print(mae,mse,r2,rmse)"
      ]
    },
    {
      "cell_type": "markdown",
      "source": [
        "# **N_estemator for RF**"
      ],
      "metadata": {
        "id": "78aiaRmAd4o3"
      }
    },
    {
      "cell_type": "code",
      "source": [
        "from sklearn.ensemble import RandomForestRegressor\n",
        "from sklearn.metrics import r2_score, mean_squared_error\n",
        "from sklearn.model_selection import train_test_split\n",
        "import numpy as np\n",
        "\n",
        "\n",
        "# Split the data into training and testing sets\n",
        "X_train, X_test, y_train, y_test = train_test_split(X_merged, merged_y,random_state=42, test_size=0.3,shuffle=True)\n",
        "\n",
        "# Define the range of number of trees to iterate over\n",
        "num_trees_range = [10, 20, 30, 40, 50,100,150,200,300,400,500]\n",
        "\n",
        "results = []  # To store the results\n",
        "\n",
        "# Iterate over the number of trees\n",
        "for num_trees in num_trees_range:\n",
        "    # Create a Random Forest Regressor with the current number of trees\n",
        "    rf_regressor = RandomForestRegressor(n_estimators=num_trees,random_state=42, max_depth=16, min_samples_split=2, bootstrap=True)\n",
        "\n",
        "    # Train the model on the training data\n",
        "    rf_regressor.fit(X_train, y_train)\n",
        "\n",
        "    # Make predictions on the test data\n",
        "    y_pred = rf_regressor.predict(X_test)\n",
        "\n",
        "    # Calculate R2 score and MSE\n",
        "    r2 = r2_score(y_test, y_pred)\n",
        "    mse = mean_squared_error(y_test, y_pred)\n",
        "    rmse = np.sqrt(mean_squared_error(y_test, y_pred))\n",
        "\n",
        "    # Print the results\n",
        "    print(f\"Number of Trees: {num_trees}, R2 Score: {r2:.4f}, MSE: {mse:.4f}, RMSE: {rmse:.4f}\")\n",
        "\n",
        "    # Append the results to the list\n",
        "    results.append({'Number of Trees': num_trees, 'R2 Score': r2, 'MSE': mse , 'RMSE': rmse })\n",
        "\n",
        "# Create a pandas DataFrame from the results list\n",
        "rf_results = pd.DataFrame(results)\n",
        "\n",
        "# Save the results to a CSV file\n",
        "rf_results.to_csv('RF_results.csv', index=False)\n",
        "\n"
      ],
      "metadata": {
        "colab": {
          "base_uri": "https://localhost:8080/"
        },
        "id": "hI1xC4Knd9Dg",
        "outputId": "fda4fde1-0db2-4ca8-87d2-481ebc097cd1"
      },
      "execution_count": null,
      "outputs": [
        {
          "output_type": "stream",
          "name": "stdout",
          "text": [
            "Number of Trees: 10, R2 Score: 0.9329, MSE: 40.3596, RMSE: 6.3529\n",
            "Number of Trees: 20, R2 Score: 0.9433, MSE: 34.1194, RMSE: 5.8412\n",
            "Number of Trees: 30, R2 Score: 0.9546, MSE: 27.2912, RMSE: 5.2241\n",
            "Number of Trees: 40, R2 Score: 0.9563, MSE: 26.3058, RMSE: 5.1289\n",
            "Number of Trees: 50, R2 Score: 0.9576, MSE: 25.5214, RMSE: 5.0519\n",
            "Number of Trees: 100, R2 Score: 0.9597, MSE: 24.2530, RMSE: 4.9247\n",
            "Number of Trees: 150, R2 Score: 0.9616, MSE: 23.1048, RMSE: 4.8067\n",
            "Number of Trees: 200, R2 Score: 0.9608, MSE: 23.5774, RMSE: 4.8557\n",
            "Number of Trees: 300, R2 Score: 0.9610, MSE: 23.4845, RMSE: 4.8461\n",
            "Number of Trees: 400, R2 Score: 0.9595, MSE: 24.3771, RMSE: 4.9373\n",
            "Number of Trees: 500, R2 Score: 0.9597, MSE: 24.2626, RMSE: 4.9257\n"
          ]
        }
      ]
    },
    {
      "cell_type": "markdown",
      "source": [
        "\n",
        "# **N_estemator for GBT**"
      ],
      "metadata": {
        "id": "3Wi9wpbNe65J"
      }
    },
    {
      "cell_type": "code",
      "source": [
        "from sklearn.ensemble import RandomForestRegressor\n",
        "from sklearn.metrics import r2_score, mean_squared_error\n",
        "from sklearn.model_selection import train_test_split\n",
        "import numpy as np\n",
        "\n",
        "\n",
        "# Split the data into training and testing sets\n",
        "X_train, X_test, y_train, y_test = train_test_split(X_merged, merged_y, test_size=0.3,random_state=42, shuffle=True)\n",
        "\n",
        "# Define the range of number of trees to iterate over\n",
        "num_trees_range = [10, 20, 30, 40, 50,100,150,200,300,400,500]\n",
        "\n",
        "results = []  # To store the results\n",
        "\n",
        "# Iterate over the number of trees\n",
        "for num_trees in num_trees_range:\n",
        "    # Create a Random Forest Regressor with the current number of trees\n",
        "    gbt = GradientBoostingRegressor(\n",
        "    n_estimators=num_trees,  # Number of boosting stages (trees) to perform\n",
        "    learning_rate=0.1,  # Shrinkage parameter to control the contribution of each tree\n",
        "    max_depth=4,  # Maximum depth of each tree\n",
        "    min_samples_split=3,  # Minimum number of samples required to split an internal node\n",
        "    min_samples_leaf=1,  # Minimum number of samples required to be at a leaf node\n",
        "    subsample=1.0,  # Fraction of samples used for fitting each tree\n",
        "    max_features=None,  # Number of features to consider when looking for the best split\n",
        "    random_state=42  # Random seed for reproducibility\n",
        ")\n",
        "\n",
        "    gbt.fit(X_train, y_train)\n",
        "    # Make predictions on the test set\n",
        "    y_pred = gbt.predict(X_test)\n",
        "\n",
        "\n",
        "    # Calculate R2 score and MSE\n",
        "    r2 = r2_score(y_test, y_pred)\n",
        "    mse = mean_squared_error(y_test, y_pred)\n",
        "    rmse = np.sqrt(mean_squared_error(y_test, y_pred))\n",
        "\n",
        "    # Print the results\n",
        "    print(f\"Number of Trees: {num_trees}, R2 Score: {r2:.4f}, MSE: {mse:.4f}, RMSE: {rmse:.4f}\")\n",
        "\n",
        "        # Append the results to the list\n",
        "    results.append({'Number of Trees': num_trees, 'R2 Score': r2, 'MSE': mse , 'RMSE': rmse })\n",
        "\n",
        "# Create a pandas DataFrame from the results list\n",
        "df_results = pd.DataFrame(results)\n",
        "\n",
        "# Save the results to a CSV file\n",
        "df_results.to_csv('GBT_results.csv', index=False)\n"
      ],
      "metadata": {
        "colab": {
          "base_uri": "https://localhost:8080/"
        },
        "outputId": "7524df87-2468-44f8-ccb3-47e672118d94",
        "id": "xDz5F8rBe65K"
      },
      "execution_count": null,
      "outputs": [
        {
          "output_type": "stream",
          "name": "stdout",
          "text": [
            "Number of Trees: 10, R2 Score: 0.6396, MSE: 216.8698, RMSE: 14.7265\n",
            "Number of Trees: 20, R2 Score: 0.8404, MSE: 96.0690, RMSE: 9.8015\n",
            "Number of Trees: 30, R2 Score: 0.9080, MSE: 55.3594, RMSE: 7.4404\n",
            "Number of Trees: 40, R2 Score: 0.9357, MSE: 38.7033, RMSE: 6.2212\n",
            "Number of Trees: 50, R2 Score: 0.9490, MSE: 30.7062, RMSE: 5.5413\n",
            "Number of Trees: 100, R2 Score: 0.9637, MSE: 21.8593, RMSE: 4.6754\n",
            "Number of Trees: 150, R2 Score: 0.9632, MSE: 22.1173, RMSE: 4.7029\n",
            "Number of Trees: 200, R2 Score: 0.9629, MSE: 22.3135, RMSE: 4.7237\n",
            "Number of Trees: 300, R2 Score: 0.9632, MSE: 22.1606, RMSE: 4.7075\n",
            "Number of Trees: 400, R2 Score: 0.9630, MSE: 22.2446, RMSE: 4.7164\n",
            "Number of Trees: 500, R2 Score: 0.9629, MSE: 22.3448, RMSE: 4.7270\n"
          ]
        }
      ]
    },
    {
      "cell_type": "markdown",
      "source": [
        "# **validation Croisser**\n",
        "for better results I want to try repeting the spliting 10 times and calculate the avredge"
      ],
      "metadata": {
        "id": "OQRzdjbnl-7I"
      }
    },
    {
      "cell_type": "code",
      "source": [
        "import numpy as np\n",
        "from sklearn.model_selection import cross_val_score, KFold\n",
        "from sklearn.ensemble import RandomForestRegressor\n",
        "\n",
        "model_cv = RandomForestRegressor(random_state=42, n_estimators=300, max_depth=16, min_samples_split=2, bootstrap=True)\n",
        "\n",
        "# Create a KFold object with the desired number of folds (e.g., 5) and shuffle the data\n",
        "kf = KFold(n_splits=5, shuffle=True, random_state=42)\n",
        "\n",
        "mse_scores = cross_val_score(model_cv, X_merged, merged_y, scoring='neg_mean_squared_error', cv=kf)\n",
        "r2_scores = cross_val_score(model_cv, X_merged, merged_y, scoring='r2', cv=kf)\n",
        "\n",
        "mse_scores = -mse_scores\n",
        "\n",
        "print(f'MSE: {(mse_scores.mean())}')\n",
        "print(f'R2: {(r2_scores.mean())}')\n"
      ],
      "metadata": {
        "colab": {
          "base_uri": "https://localhost:8080/"
        },
        "outputId": "f6e23be0-597b-4956-9151-a42c3bce248d",
        "id": "U1PvlzD3l-7J"
      },
      "execution_count": null,
      "outputs": [
        {
          "output_type": "stream",
          "name": "stdout",
          "text": [
            "MSE: 64.52340118628186\n",
            "R2: 0.9050465533342672\n"
          ]
        }
      ]
    },
    {
      "cell_type": "code",
      "source": [
        "from sklearn.model_selection import cross_val_score\n",
        "from sklearn.metrics import r2_score, mean_squared_error, mean_absolute_error\n",
        "from sklearn.ensemble import RandomForestRegressor\n",
        "import numpy as np\n",
        "\n",
        "# Define your model and data\n",
        "model_cv= RandomForestRegressor(random_state=42, n_estimators=300, max_depth=16, min_samples_split=2, bootstrap=True)  # Instantiate your Random Forest model with desired parameters\n",
        "\n",
        "kf = KFold(n_splits=5, shuffle=True, random_state=42)\n",
        "\n",
        "# Perform cross-validation and store evaluation metrics\n",
        "r2_scores = cross_val_score(model_cv, X,Y, cv=kf, scoring='r2')\n",
        "mse_scores = cross_val_score(model_cv, X,Y, cv=kf, scoring='neg_mean_squared_error')\n",
        "mse_scores = -mse_scores\n",
        "rmse_scores = np.sqrt(mse_scores)\n",
        "mae_scores = cross_val_score(model_cv, X,Y, cv=kf, scoring='neg_mean_absolute_error')\n",
        "mae_scores = -mae_scores\n",
        "\n",
        "# Calculate the average of evaluation metrics\n",
        "avg_r2 = np.mean(r2_scores)\n",
        "avg_mse = np.mean(mse_scores)\n",
        "avg_rmse = np.mean(rmse_scores)\n",
        "avg_mae = np.mean(mae_scores)\n",
        "\n",
        "print(\"R2 Scores:\", r2_scores)\n",
        "print(\"MSE Scores:\", mse_scores)\n",
        "print(\"RMSE Scores:\", rmse_scores)\n",
        "print(\"MAE Scores:\", mae_scores)\n",
        "print(\"Average R2:\", avg_r2)\n",
        "print(\"Average MSE:\", avg_mse)\n",
        "print(\"Average RMSE:\", avg_rmse)\n",
        "print(\"Average MAE:\", avg_mae)\n",
        "\n",
        "\n"
      ],
      "metadata": {
        "colab": {
          "base_uri": "https://localhost:8080/"
        },
        "id": "8tfHdLa9xJqS",
        "outputId": "81430204-b978-4c4d-d17c-71e09cd4a4ad"
      },
      "execution_count": null,
      "outputs": [
        {
          "output_type": "stream",
          "name": "stdout",
          "text": [
            "R2 Scores: [0.94618752 0.91303581 0.85363582 0.8563183  0.95605532]\n",
            "MSE Scores: [ 32.08717753  49.33881856  93.39087333 121.96768393  25.83245258]\n",
            "RMSE Scores: [ 5.66455449  7.02415963  9.66389535 11.04389804  5.08256358]\n",
            "MAE Scores: [3.32289303 3.41421662 5.23619975 5.5905529  2.53566218]\n",
            "Average R2: 0.9050465533342672\n",
            "Average MSE: 64.52340118628186\n",
            "Average RMSE: 7.69581421876438\n",
            "Average MAE: 4.019904897619803\n"
          ]
        }
      ]
    },
    {
      "cell_type": "markdown",
      "source": [
        "# **Validation with our data **"
      ],
      "metadata": {
        "id": "A0hbFaHDkNmq"
      }
    },
    {
      "cell_type": "code",
      "execution_count": null,
      "metadata": {
        "id": "oUPktMFztS9E",
        "colab": {
          "base_uri": "https://localhost:8080/",
          "height": 217
        },
        "outputId": "e4d4ac60-bb8f-4666-9169-db0cf25af773"
      },
      "outputs": [
        {
          "output_type": "error",
          "ename": "NameError",
          "evalue": "ignored",
          "traceback": [
            "\u001b[0;31m---------------------------------------------------------------------------\u001b[0m",
            "\u001b[0;31mNameError\u001b[0m                                 Traceback (most recent call last)",
            "\u001b[0;32m<ipython-input-71-d1d4e721827d>\u001b[0m in \u001b[0;36m<cell line: 6>\u001b[0;34m()\u001b[0m\n\u001b[1;32m      4\u001b[0m \u001b[0;31m#scaler = StandardScaler()\u001b[0m\u001b[0;34m\u001b[0m\u001b[0;34m\u001b[0m\u001b[0m\n\u001b[1;32m      5\u001b[0m \u001b[0mscaler\u001b[0m \u001b[0;34m=\u001b[0m \u001b[0mMinMaxScaler\u001b[0m\u001b[0;34m(\u001b[0m\u001b[0;34m)\u001b[0m\u001b[0;34m\u001b[0m\u001b[0;34m\u001b[0m\u001b[0m\n\u001b[0;32m----> 6\u001b[0;31m \u001b[0mXs_val\u001b[0m\u001b[0;34m=\u001b[0m \u001b[0mscaler\u001b[0m\u001b[0;34m.\u001b[0m\u001b[0mfit_transform\u001b[0m\u001b[0;34m(\u001b[0m\u001b[0mX_val\u001b[0m\u001b[0;34m)\u001b[0m\u001b[0;34m\u001b[0m\u001b[0;34m\u001b[0m\u001b[0m\n\u001b[0m\u001b[1;32m      7\u001b[0m \u001b[0mXs_val\u001b[0m\u001b[0;34m\u001b[0m\u001b[0;34m\u001b[0m\u001b[0m\n",
            "\u001b[0;31mNameError\u001b[0m: name 'X_val' is not defined"
          ]
        }
      ],
      "source": [
        "from sklearn.preprocessing import Normalizer\n",
        "from sklearn.preprocessing import MinMaxScaler\n",
        "from sklearn.preprocessing import StandardScaler\n",
        "#scaler = StandardScaler()\n",
        "scaler = MinMaxScaler()\n",
        "Xs_val= scaler.fit_transform(X_val)\n",
        "Xs_val"
      ]
    },
    {
      "cell_type": "code",
      "execution_count": null,
      "metadata": {
        "id": "9QAXmC7fRPw4"
      },
      "outputs": [],
      "source": [
        "train_data.info()"
      ]
    },
    {
      "cell_type": "code",
      "execution_count": null,
      "metadata": {
        "id": "YJlUVZwRRPw5"
      },
      "outputs": [],
      "source": [
        "train_data.describe()"
      ]
    },
    {
      "cell_type": "code",
      "execution_count": null,
      "metadata": {
        "id": "1shL2SDmRPw5"
      },
      "outputs": [],
      "source": [
        "print(train_data)"
      ]
    },
    {
      "cell_type": "code",
      "execution_count": null,
      "metadata": {
        "id": "fPeRynP-RPw6"
      },
      "outputs": [],
      "source": [
        "train_data.isna()"
      ]
    },
    {
      "cell_type": "code",
      "execution_count": null,
      "metadata": {
        "id": "mVfw1-wJRPw6"
      },
      "outputs": [],
      "source": [
        "(train_data.isna()).value_counts()"
      ]
    },
    {
      "cell_type": "code",
      "source": [
        "(train_data==0).value_counts()"
      ],
      "metadata": {
        "id": "RiQmN76fRPw6"
      },
      "execution_count": null,
      "outputs": []
    },
    {
      "cell_type": "markdown",
      "source": [
        "# **Validation doesn't work **"
      ],
      "metadata": {
        "id": "dAZonhpqXikJ"
      }
    },
    {
      "cell_type": "code",
      "source": [
        "from sklearn.metrics import *\n",
        "\n",
        "import pandas as pd\n",
        "from sklearn.utils import shuffle\n",
        "ourdata= pd.read_csv('drive/MyDrive/dataset1.csv')\n",
        "ourdata= shuffle (ourdata, random_state= 42 )\n",
        "\n",
        "X_val=ourdata.iloc[:,:5]\n",
        "y_val= ourdata['Adsorption']\n",
        "\n",
        "print(ourdata)"
      ],
      "metadata": {
        "id": "EomIqNCJLNOI"
      },
      "execution_count": null,
      "outputs": []
    },
    {
      "cell_type": "code",
      "source": [
        "import pandas as pd\n",
        "from sklearn.utils import shuffle\n",
        "\n",
        "# Load the validation data from a CSV file\n",
        "validation_data = pd.read_csv('drive/MyDrive/ourdata.csv')\n",
        "validation_data['Time'] = validation_data['Time'].apply(lambda x: 0 if x < 0 else x)\n",
        "validation_data = validation_data[validation_data['Adsorption'] >= 0]\n",
        "\n",
        "validation_data = shuffle(validation_data , random_state=42)\n",
        "X_val = validation_data.iloc [:,:5]\n",
        "y_val = validation_data['Adsorption']\n",
        "\n",
        "\n",
        "# Shuffle the validation data\n",
        "\n",
        "X_val,y_val= shuffle(X_val, y_val, random_state=42 )\n",
        "print(validation_data)\n",
        "X_val.head()"
      ],
      "metadata": {
        "id": "684RZpfNOR0W"
      },
      "execution_count": null,
      "outputs": []
    },
    {
      "cell_type": "code",
      "source": [
        "y_val_pred = model.predict(X_val)\n",
        "\n",
        "mae_val = mean_absolute_error(y_val,y_val_pred)\n",
        "mse_val = mean_squared_error(y_val,y_val_pred)\n",
        "r2_val = r2_score(y_val,y_val_pred)\n",
        "rmse_val = np.sqrt(mean_squared_error(y_val, y_val_pred))\n",
        "\n",
        "print(mae_val,mse_val,r2_val,rmse_val)"
      ],
      "metadata": {
        "id": "kDMotU6iQhT5"
      },
      "execution_count": null,
      "outputs": []
    },
    {
      "cell_type": "code",
      "execution_count": null,
      "metadata": {
        "id": "htiYQ5ZY3tVF"
      },
      "outputs": [],
      "source": [
        "#1 = 1.887946499416155 9.697658924690943 0.9785910742889371 3.114106440809457"
      ]
    },
    {
      "cell_type": "code",
      "execution_count": null,
      "metadata": {
        "id": "XPGdztfjXzxl"
      },
      "outputs": [],
      "source": [
        "#4 = 5.352711779224747 60.98180775875839 0.22756621477331385 7.8090849501563495"
      ]
    },
    {
      "cell_type": "code",
      "execution_count": null,
      "metadata": {
        "id": "wMyAMIeNZbKT"
      },
      "outputs": [],
      "source": [
        "#5 = 3.29584260535542 21.32577078444135 0.8699756746257994 4.6179834110184235"
      ]
    },
    {
      "cell_type": "code",
      "execution_count": null,
      "metadata": {
        "id": "SxbRDRQ8aJq7"
      },
      "outputs": [],
      "source": [
        "#6 = 11.792442835271968 331.1439430027698 0.3133545085645384 18.19736088015979"
      ]
    },
    {
      "cell_type": "code",
      "execution_count": null,
      "metadata": {
        "id": "4z4HHm3gbB3D"
      },
      "outputs": [],
      "source": [
        "#7 = 6.837707425026873 158.57541072102245 0.8758283593509961 12.592672898198478"
      ]
    },
    {
      "cell_type": "code",
      "execution_count": null,
      "metadata": {
        "id": "HJdqQNRrb8Vx"
      },
      "outputs": [],
      "source": [
        "#8 = 9.828731204898336 207.1256755361736 -3.643170218791786 14.391861434024912"
      ]
    },
    {
      "cell_type": "code",
      "execution_count": null,
      "metadata": {
        "id": "q0sUeog9dMGN"
      },
      "outputs": [],
      "source": [
        "#10 = 8.452951729235147 170.43041842631635 0.8717607325093865 13.054900169144013"
      ]
    },
    {
      "cell_type": "code",
      "execution_count": null,
      "metadata": {
        "id": "ABEYZyvbkpvW"
      },
      "outputs": [],
      "source": [
        "#11 = 5.483615642436442 48.60204678253479 0.8500622092915173 6.9715168207883425"
      ]
    },
    {
      "cell_type": "code",
      "execution_count": null,
      "metadata": {
        "id": "DxHgY4Dtlol8"
      },
      "outputs": [],
      "source": [
        "#12 = 13.320591115231057 275.4675059170795 0.13971435416955635 16.59721379982434"
      ]
    },
    {
      "cell_type": "markdown",
      "source": [
        "# **GBT model**"
      ],
      "metadata": {
        "id": "FUl8ELUDngK0"
      }
    },
    {
      "cell_type": "code",
      "source": [
        "from sklearn.ensemble import GradientBoostingRegressor\n",
        "from sklearn.model_selection import train_test_split\n",
        "from sklearn.metrics import mean_squared_error\n",
        "\n",
        "# Split the data into training and testing sets\n",
        "X_train, X_test, y_train, y_test = train_test_split(X_merged,merged_y, test_size=0.2, random_state=42)\n",
        "\n",
        "# Initialize and train the Gradient Boosting Trees model\n",
        "\n",
        "gbt_model = GradientBoostingRegressor(\n",
        "    n_estimators=300,  # Number of boosting stages (trees) to perform\n",
        "    learning_rate=0.03, # Shrinkage parameter to control the contribution of each tree\n",
        "    max_depth=4,  # Maximum depth of each tree\n",
        "    min_samples_split=3,  # Minimum number of samples required to split an internal node\n",
        "    min_samples_leaf=1,  # Minimum number of samples required to be at a leaf node\n",
        "    subsample=1.0,  # Fraction of samples used for fitting each tree\n",
        "    max_features=None,  # Number of features to consider when looking for the best split\n",
        "    random_state=42  # Random seed for reproducibility\n",
        ")\n",
        "\n",
        "gbt_model.fit(X_train, y_train)\n",
        "# Make predictions on the test set\n",
        "y_pred = gbt_model.predict(X_test)\n",
        "\n",
        "\n",
        "mae = mean_absolute_error(y_test,y_pred)\n",
        "mse = mean_squared_error(y_test,y_pred)\n",
        "r2 = r2_score(y_test,y_pred)\n",
        "rmse = np.sqrt(mean_squared_error(y_test, y_pred))\n",
        "print(mae,mse,r2,rmse)\n"
      ],
      "metadata": {
        "colab": {
          "base_uri": "https://localhost:8080/"
        },
        "id": "IgQ7-VmC-GNw",
        "outputId": "d450d365-d171-42fe-b4bf-f2cabf35391a"
      },
      "execution_count": null,
      "outputs": [
        {
          "output_type": "stream",
          "name": "stdout",
          "text": [
            "4.02808773374429 46.165279525835686 0.9290157219982781 6.794503626155165\n"
          ]
        }
      ]
    },
    {
      "cell_type": "code",
      "source": [
        "from sklearn.model_selection import cross_val_score\n",
        "from sklearn.metrics import r2_score, mean_squared_error, mean_absolute_error\n",
        "from sklearn.ensemble import RandomForestRegressor\n",
        "import numpy as np\n",
        "\n",
        "\n",
        "\n",
        "kf = KFold(n_splits=5, shuffle=True, random_state=42)\n",
        "\n",
        "# Perform cross-validation and store evaluation metrics\n",
        "r2_scores = cross_val_score(gbt_model, X_merged, merged_y, cv=kf, scoring='r2')\n",
        "mse_scores = cross_val_score(gbt_model, X_merged, merged_y, cv=kf, scoring='neg_mean_squared_error')\n",
        "mse_scores = -mse_scores\n",
        "rmse_scores = np.sqrt(mse_scores)\n",
        "mae_scores = cross_val_score(gbt_model, X_merged, merged_y, cv=kf, scoring='neg_mean_absolute_error')\n",
        "mae_scores = -mae_scores\n",
        "\n",
        "# Calculate the average of evaluation metrics\n",
        "avg_r2 = np.mean(r2_scores)\n",
        "avg_mse = np.mean(mse_scores)\n",
        "avg_rmse = np.mean(rmse_scores)\n",
        "avg_mae = np.mean(mae_scores)\n",
        "\n",
        "print(\"R2 Scores:\", r2_scores)\n",
        "print(\"MSE Scores:\", mse_scores)\n",
        "print(\"RMSE Scores:\", rmse_scores)\n",
        "print(\"MAE Scores:\", mae_scores)\n",
        "print(\"Average R2:\", avg_r2)\n",
        "print(\"Average MSE:\", avg_mse)\n",
        "print(\"Average RMSE:\", avg_rmse)\n",
        "print(\"Average MAE:\", avg_mae)\n"
      ],
      "metadata": {
        "colab": {
          "base_uri": "https://localhost:8080/",
          "height": 235
        },
        "outputId": "25868ba4-168f-4828-e9cf-fe2f5271defa",
        "id": "fLNr-BZ6B0_o"
      },
      "execution_count": null,
      "outputs": [
        {
          "output_type": "error",
          "ename": "NameError",
          "evalue": "ignored",
          "traceback": [
            "\u001b[0;31m---------------------------------------------------------------------------\u001b[0m",
            "\u001b[0;31mNameError\u001b[0m                                 Traceback (most recent call last)",
            "\u001b[0;32m<ipython-input-19-b4a06e181772>\u001b[0m in \u001b[0;36m<cell line: 8>\u001b[0;34m()\u001b[0m\n\u001b[1;32m      6\u001b[0m \u001b[0;34m\u001b[0m\u001b[0m\n\u001b[1;32m      7\u001b[0m \u001b[0;34m\u001b[0m\u001b[0m\n\u001b[0;32m----> 8\u001b[0;31m \u001b[0mkf\u001b[0m \u001b[0;34m=\u001b[0m \u001b[0mKFold\u001b[0m\u001b[0;34m(\u001b[0m\u001b[0mn_splits\u001b[0m\u001b[0;34m=\u001b[0m\u001b[0;36m5\u001b[0m\u001b[0;34m,\u001b[0m \u001b[0mshuffle\u001b[0m\u001b[0;34m=\u001b[0m\u001b[0;32mTrue\u001b[0m\u001b[0;34m,\u001b[0m \u001b[0mrandom_state\u001b[0m\u001b[0;34m=\u001b[0m\u001b[0;36m42\u001b[0m\u001b[0;34m)\u001b[0m\u001b[0;34m\u001b[0m\u001b[0;34m\u001b[0m\u001b[0m\n\u001b[0m\u001b[1;32m      9\u001b[0m \u001b[0;34m\u001b[0m\u001b[0m\n\u001b[1;32m     10\u001b[0m \u001b[0;31m# Perform cross-validation and store evaluation metrics\u001b[0m\u001b[0;34m\u001b[0m\u001b[0;34m\u001b[0m\u001b[0m\n",
            "\u001b[0;31mNameError\u001b[0m: name 'KFold' is not defined"
          ]
        }
      ]
    },
    {
      "cell_type": "markdown",
      "metadata": {
        "id": "uZ0iAkGpl9tj"
      },
      "source": [
        "# ***scatterplot MLPN ***"
      ]
    },
    {
      "cell_type": "code",
      "execution_count": null,
      "metadata": {
        "id": "f92GcOkBl9tk"
      },
      "outputs": [],
      "source": [
        "y_train_pred = gbt_model.predict(X_train)"
      ]
    },
    {
      "cell_type": "code",
      "execution_count": null,
      "metadata": {
        "id": "ZtC6BjzFl9tl",
        "colab": {
          "base_uri": "https://localhost:8080/",
          "height": 489
        },
        "outputId": "2b3b8455-84b0-4328-cd0f-d2eae9943f43"
      },
      "outputs": [
        {
          "output_type": "execute_result",
          "data": {
            "text/plain": [
              "Text(0, 0.5, 'PREDICTED VALUES')"
            ]
          },
          "metadata": {},
          "execution_count": 88
        },
        {
          "output_type": "display_data",
          "data": {
            "text/plain": [
              "<Figure size 640x480 with 1 Axes>"
            ],
            "image/png": "[encoded data removed]"
          },
          "metadata": {}
        }
      ],
      "source": [
        " # Scatterplot of y_train and y_train_pred\n",
        " plt.scatter(y_train, y_train_pred)\n",
        " plt.plot(y_test, y_test, color='r') # Plot the line\n",
        "\n",
        " # Labels\n",
        " plt.title('ACTUAL VS PREDICTED VALUES')\n",
        " plt.xlabel('ACTUAL VALUES')\n",
        " plt.ylabel('PREDICTED VALUES')"
      ]
    },
    {
      "cell_type": "code",
      "execution_count": null,
      "metadata": {
        "id": "t2UpsUspl9tl"
      },
      "outputs": [],
      "source": [
        "# KDE train set\n",
        "ax = sns.kdeplot(y_train, color='r', label='Actual Values') #actual values\n",
        "sns.kdeplot(y_train_pred, color='b', label='Predicted Values', ax=ax) #predicted values\n",
        "\n",
        "# Show title\n",
        "plt.title('Actual vs Predicted values')\n",
        "# Show legend\n",
        "plt.legend()"
      ]
    },
    {
      "cell_type": "code",
      "execution_count": null,
      "metadata": {
        "id": "MxrBOKIal9tm"
      },
      "outputs": [],
      "source": [
        "# KDE train set\n",
        "ax_test = sns.kdeplot(y_test, color='r', label='Actual Values') #actual values\n",
        "sns.kdeplot(y_pred, color='b', label='Predicted Values', ax=ax_test) #predicted values\n",
        "\n",
        "# Show title\n",
        "plt.title('Actual vs Predicted values')\n",
        "# Show legend\n",
        "plt.legend()"
      ]
    },
    {
      "cell_type": "markdown",
      "metadata": {
        "id": "i4w-ZltOyJuQ"
      },
      "source": [
        "# ***scatterplot ***"
      ]
    },
    {
      "cell_type": "code",
      "execution_count": null,
      "metadata": {
        "id": "5oPfxaUUsdAt"
      },
      "outputs": [],
      "source": [
        "y_train_pred = rf_model.predict(X_train)"
      ]
    },
    {
      "cell_type": "code",
      "execution_count": null,
      "metadata": {
        "id": "zrnJ8EJNsUBI",
        "colab": {
          "base_uri": "https://localhost:8080/",
          "height": 489
        },
        "outputId": "32305bc3-782b-4e41-9823-b7d43decd89a"
      },
      "outputs": [
        {
          "output_type": "execute_result",
          "data": {
            "text/plain": [
              "Text(0, 0.5, 'PREDICTED VALUES')"
            ]
          },
          "metadata": {},
          "execution_count": 90
        },
        {
          "output_type": "display_data",
          "data": {
            "text/plain": [
              "<Figure size 640x480 with 1 Axes>"
            ],
            "image/png": "[encoded data removed]"
          },
          "metadata": {}
        }
      ],
      "source": [
        " # Scatterplot of y_train and y_train_pred\n",
        " plt.scatter(y_train, y_train_pred)\n",
        " plt.plot(y_test, y_test, color='r') # Plot the line\n",
        "\n",
        " # Labels\n",
        " plt.title('ACTUAL VS PREDICTED VALUES')\n",
        " plt.xlabel('ACTUAL VALUES')\n",
        " plt.ylabel('PREDICTED VALUES')"
      ]
    },
    {
      "cell_type": "code",
      "execution_count": null,
      "metadata": {
        "id": "G7G4EFJussV6"
      },
      "outputs": [],
      "source": [
        "# KDE train set\n",
        "ax = sns.kdeplot(y_train, color='r', label='Actual Values') #actual values\n",
        "sns.kdeplot(y_train_pred, color='b', label='Predicted Values', ax=ax) #predicted values\n",
        "\n",
        "# Show title\n",
        "plt.title('Actual vs Predicted values')\n",
        "# Show legend\n",
        "plt.legend()"
      ]
    },
    {
      "cell_type": "code",
      "execution_count": null,
      "metadata": {
        "id": "ZApeTSxas8C2"
      },
      "outputs": [],
      "source": [
        "# KDE train set\n",
        "ax_test = sns.kdeplot(y_test, color='r', label='Actual Values') #actual values\n",
        "sns.kdeplot(y_pred, color='b', label='Predicted Values', ax=ax_test) #predicted values\n",
        "\n",
        "# Show title\n",
        "plt.title('Actual vs Predicted values')\n",
        "# Show legend\n",
        "plt.legend()"
      ]
    },
    {
      "cell_type": "markdown",
      "metadata": {
        "id": "ZiaUFuEfziWD"
      },
      "source": [
        "# **ANN model **\n"
      ]
    },
    {
      "cell_type": "code",
      "source": [
        "import numpy as np\n",
        "import tensorflow as tf\n",
        "from tensorflow import keras\n",
        "from sklearn.model_selection import train_test_split\n",
        "from sklearn.preprocessing import StandardScaler\n",
        "from sklearn.metrics import mean_squared_error\n",
        "\n",
        "# Assuming you have your feature matrix 'X' and target vector 'y'\n",
        "\n",
        "# Split the data into training and testing sets\n",
        "X_train, X_test, y_train, y_test = train_test_split(merged_Xs, merged_y, test_size=0.2, random_state=42)\n",
        "\n",
        "# Perform feature scaling on the input data\n",
        "scaler = StandardScaler()\n",
        "X_train_scaled = scaler.fit_transform(X_train)\n",
        "X_test_scaled = scaler.transform(X_test)\n",
        "\n",
        "# Create a sequential model\n",
        "ann = keras.Sequential([\n",
        "    keras.layers.Dense(64, activation='relu', input_shape=(X_train.shape[1],)),\n",
        "    keras.layers.Dense(64, activation='relu'),\n",
        "    keras.layers.Dense(1, activation='linear')\n",
        "])\n",
        "\n",
        "# Compile the model\n",
        "ann.compile(optimizer='adam', loss='mean_squared_error')\n",
        "\n",
        "# Train the model\n",
        "ann.fit(X_train, y_train, epochs=400, batch_size=16, verbose=0)\n",
        "\n",
        "# Make predictions on the test data\n",
        "y_pred = ann.predict(X_test)\n",
        "\n",
        "mae = mean_absolute_error(y_test,y_pred)\n",
        "mse = mean_squared_error(y_test,y_pred)\n",
        "r2 = r2_score(y_test,y_pred)\n",
        "rmse = np.sqrt(mean_squared_error(y_test, y_pred))\n",
        "print(r2, mae, mse, rmse)\n"
      ],
      "metadata": {
        "id": "QO8wSoxppPIs",
        "colab": {
          "base_uri": "https://localhost:8080/"
        },
        "outputId": "bd45c303-9be8-4674-f8ef-618f37af0d3a"
      },
      "execution_count": null,
      "outputs": [
        {
          "output_type": "stream",
          "name": "stdout",
          "text": [
            "2/2 [==============================] - 0s 4ms/step\n",
            "0.6677699345126641 9.026633123860806 198.1013487224912 14.074848088789135\n"
          ]
        }
      ]
    },
    {
      "cell_type": "markdown",
      "source": [
        "# ***MLPN Model ***"
      ],
      "metadata": {
        "id": "QQRJFXrAngob"
      }
    },
    {
      "cell_type": "code",
      "source": [
        "from tensorflow.keras.models import Sequential\n",
        "from tensorflow.keras.layers import Dense\n",
        "from sklearn.neural_network import MLPRegressor\n",
        "from sklearn.metrics import mean_squared_error\n",
        "from sklearn.model_selection import train_test_split\n",
        "from sklearn.preprocessing import StandardScaler\n",
        "from sklearn.preprocessing import MinMaxScaler\n",
        "from sklearn.preprocessing import RobustScaler\n",
        "import numpy as np"
      ],
      "metadata": {
        "id": "gqUzJq9RMxPW"
      },
      "execution_count": null,
      "outputs": []
    },
    {
      "cell_type": "code",
      "source": [
        "# Data normalization\n",
        "scaler = StandardScaler()\n",
        "scaler1 = MinMaxScaler()\n",
        "scaler2 = RobustScaler()\n",
        "X_scaled = scaler.fit_transform(X_merged)\n",
        "X_scaled1 = scaler1.fit_transform(X_merged)\n",
        "X_scaled2 = scaler2.fit_transform(X_merged)\n",
        "# Split the data into training and testing sets\n",
        "X_train, X_test, y_train, y_test = train_test_split(merged_Xs, merged_y, test_size=0.3, random_state=42,shuffle=True)\n",
        "\n",
        "# Create and train the MLP model\n",
        "mlp = MLPRegressor(hidden_layer_sizes=(64,64),\n",
        "                   activation='relu',\n",
        "                   solver='adam',\n",
        "                   random_state=42,\n",
        "                   max_iter = 2000,\n",
        "                   verbose=0,\n",
        "                   learning_rate_init = 0.001,\n",
        "                   batch_size =32,\n",
        "                   )\n",
        "mlp.fit(X_train, y_train)"
      ],
      "metadata": {
        "colab": {
          "base_uri": "https://localhost:8080/",
          "height": 92
        },
        "id": "k6Z3XDa7nlgz",
        "outputId": "a72d64aa-feb6-4810-c001-39d756ae5b55"
      },
      "execution_count": null,
      "outputs": [
        {
          "output_type": "execute_result",
          "data": {
            "text/plain": [
              "MLPRegressor(batch_size=32, hidden_layer_sizes=(64, 64), max_iter=2000,\n",
              "             random_state=42, verbose=0)"
            ],
            "text/html": [
              "<style>#sk-container-id-1 {color: black;background-color: white;}#sk-container-id-1 pre{padding: 0;}#sk-container-id-1 div.sk-toggleable {background-color: white;}#sk-container-id-1 label.sk-toggleable__label {cursor: pointer;display: block;width: 100%;margin-bottom: 0;padding: 0.3em;box-sizing: border-box;text-align: center;}#sk-container-id-1 label.sk-toggleable__label-arrow:before {content: \"▸\";float: left;margin-right: 0.25em;color: #696969;}#sk-container-id-1 label.sk-toggleable__label-arrow:hover:before {color: black;}#sk-container-id-1 div.sk-estimator:hover label.sk-toggleable__label-arrow:before {color: black;}#sk-container-id-1 div.sk-toggleable__content {max-height: 0;max-width: 0;overflow: hidden;text-align: left;background-color: #f0f8ff;}#sk-container-id-1 div.sk-toggleable__content pre {margin: 0.2em;color: black;border-radius: 0.25em;background-color: #f0f8ff;}#sk-container-id-1 input.sk-toggleable__control:checked~div.sk-toggleable__content {max-height: 200px;max-width: 100%;overflow: auto;}#sk-container-id-1 input.sk-toggleable__control:checked~label.sk-toggleable__label-arrow:before {content: \"▾\";}#sk-container-id-1 div.sk-estimator input.sk-toggleable__control:checked~label.sk-toggleable__label {background-color: #d4ebff;}#sk-container-id-1 div.sk-label input.sk-toggleable__control:checked~label.sk-toggleable__label {background-color: #d4ebff;}#sk-container-id-1 input.sk-hidden--visually {border: 0;clip: rect(1px 1px 1px 1px);clip: rect(1px, 1px, 1px, 1px);height: 1px;margin: -1px;overflow: hidden;padding: 0;position: absolute;width: 1px;}#sk-container-id-1 div.sk-estimator {font-family: monospace;background-color: #f0f8ff;border: 1px dotted black;border-radius: 0.25em;box-sizing: border-box;margin-bottom: 0.5em;}#sk-container-id-1 div.sk-estimator:hover {background-color: #d4ebff;}#sk-container-id-1 div.sk-parallel-item::after {content: \"\";width: 100%;border-bottom: 1px solid gray;flex-grow: 1;}#sk-container-id-1 div.sk-label:hover label.sk-toggleable__label {background-color: #d4ebff;}#sk-container-id-1 div.sk-serial::before {content: \"\";position: absolute;border-left: 1px solid gray;box-sizing: border-box;top: 0;bottom: 0;left: 50%;z-index: 0;}#sk-container-id-1 div.sk-serial {display: flex;flex-direction: column;align-items: center;background-color: white;padding-right: 0.2em;padding-left: 0.2em;position: relative;}#sk-container-id-1 div.sk-item {position: relative;z-index: 1;}#sk-container-id-1 div.sk-parallel {display: flex;align-items: stretch;justify-content: center;background-color: white;position: relative;}#sk-container-id-1 div.sk-item::before, #sk-container-id-1 div.sk-parallel-item::before {content: \"\";position: absolute;border-left: 1px solid gray;box-sizing: border-box;top: 0;bottom: 0;left: 50%;z-index: -1;}#sk-container-id-1 div.sk-parallel-item {display: flex;flex-direction: column;z-index: 1;position: relative;background-color: white;}#sk-container-id-1 div.sk-parallel-item:first-child::after {align-self: flex-end;width: 50%;}#sk-container-id-1 div.sk-parallel-item:last-child::after {align-self: flex-start;width: 50%;}#sk-container-id-1 div.sk-parallel-item:only-child::after {width: 0;}#sk-container-id-1 div.sk-dashed-wrapped {border: 1px dashed gray;margin: 0 0.4em 0.5em 0.4em;box-sizing: border-box;padding-bottom: 0.4em;background-color: white;}#sk-container-id-1 div.sk-label label {font-family: monospace;font-weight: bold;display: inline-block;line-height: 1.2em;}#sk-container-id-1 div.sk-label-container {text-align: center;}#sk-container-id-1 div.sk-container {/* jupyter's `normalize.less` sets `[hidden] { display: none; }` but bootstrap.min.css set `[hidden] { display: none !important; }` so we also need the `!important` here to be able to override the default hidden behavior on the sphinx rendered scikit-learn.org. See: https://github.com/scikit-learn/scikit-learn/issues/21755 */display: inline-block !important;position: relative;}#sk-container-id-1 div.sk-text-repr-fallback {display: none;}</style><div id=\"sk-container-id-1\" class=\"sk-top-container\"><div class=\"sk-text-repr-fallback\"><pre>MLPRegressor(batch_size=32, hidden_layer_sizes=(64, 64), max_iter=2000,\n",
              "             random_state=42, verbose=0)</pre><b>In a Jupyter environment, please rerun this cell to show the HTML representation or trust the notebook. <br />On GitHub, the HTML representation is unable to render, please try loading this page with nbviewer.org.</b></div><div class=\"sk-container\" hidden><div class=\"sk-item\"><div class=\"sk-estimator sk-toggleable\"><input class=\"sk-toggleable__control sk-hidden--visually\" id=\"sk-estimator-id-1\" type=\"checkbox\" checked><label for=\"sk-estimator-id-1\" class=\"sk-toggleable__label sk-toggleable__label-arrow\">MLPRegressor</label><div class=\"sk-toggleable__content\"><pre>MLPRegressor(batch_size=32, hidden_layer_sizes=(64, 64), max_iter=2000,\n",
              "             random_state=42, verbose=0)</pre></div></div></div></div></div>"
            ]
          },
          "metadata": {},
          "execution_count": 17
        }
      ]
    },
    {
      "cell_type": "code",
      "source": [
        "# Evaluate the model's performance using Mean Squared Error (MSE)\n",
        "y_pred = mlp.predict(X_test)\n",
        "mae = mean_absolute_error(y_test,y_pred)\n",
        "mse = mean_squared_error(y_test,y_pred)\n",
        "r2 = r2_score(y_test,y_pred)\n",
        "rmse = np.sqrt(mean_squared_error(y_test, y_pred))\n",
        "print(r2, mae, mse, rmse)"
      ],
      "metadata": {
        "colab": {
          "base_uri": "https://localhost:8080/"
        },
        "id": "Vsx8OnwVnyWB",
        "outputId": "dff3071b-3efa-4f90-ef3f-070ae1fbe37e"
      },
      "execution_count": null,
      "outputs": [
        {
          "output_type": "stream",
          "name": "stdout",
          "text": [
            "0.8885218664289238 4.987677545948799 67.08386781868218 8.190474212076012\n"
          ]
        }
      ]
    },
    {
      "cell_type": "code",
      "source": [
        "import matplotlib.pyplot as plt\n",
        "\n",
        "# Assuming you have your lab results (y_lab) and predictions (y_pred)\n",
        "\n",
        "# Get the values of each parameter from your lab results and predictions\n",
        "parameter_tm_lab = Xv[:, 1]\n",
        "parameter_ph_lab = Xv[:, 1]\n",
        "parameter_time_lab = Xv[:, 2]\n",
        "parameter_amoxicillin_concentration_lab = Xv[:, 3]\n",
        "parameter_adsorbant_dosage_lab = Xv[:, 4]\n",
        "\n",
        "parameter_tm_pred = Xv[:, 0]\n",
        "parameter_ph_pred = Xv[:, 1]\n",
        "parameter_time_pred = Xv[:, 2]\n",
        "parameter_amoxicillin_concentration_pred = Xv[:, 3]\n",
        "parameter_adsorbant_dosage_pred = Xv[:, 4]\n",
        "\n",
        "# Plot the validation results for each parameter\n",
        "plt.figure(figsize=(10, 6))\n",
        "\n",
        "plt.subplot(2, 3, 1)\n",
        "plt.scatter(parameter_tm_lab, Yv, label='Lab Results')\n",
        "plt.scatter(parameter_tm_pred, y_pred, label='MLP Predictions')\n",
        "plt.xlabel('Temperature (tm)')\n",
        "plt.ylabel('Adsorption Efficiency')\n",
        "plt.legend()\n",
        "\n",
        "plt.subplot(2, 3, 2)\n",
        "plt.scatter(parameter_ph_lab, Yv, label='Lab Results')\n",
        "plt.scatter(parameter_ph_pred, y_pred, label='MLP Predictions')\n",
        "plt.xlabel('pH')\n",
        "plt.ylabel('Adsorption Efficiency')\n",
        "plt.legend()\n",
        "\n",
        "plt.subplot(2, 3, 3)\n",
        "plt.scatter(parameter_time_lab, Yv, label='Lab Results')\n",
        "plt.scatter(parameter_time_pred, y_pred, label='MLP Predictions')\n",
        "plt.xlabel('Time')\n",
        "plt.ylabel('Adsorption Efficiency')\n",
        "plt.legend()\n",
        "\n",
        "plt.subplot(2, 3, 4)\n",
        "plt.scatter(parameter_amoxicillin_concentration_lab, Yv, label='Lab Results')\n",
        "plt.scatter(parameter_amoxicillin_concentration_pred, y_pred, label='MLP Predictions')\n",
        "plt.xlabel('Amoxicillin Concentration')\n",
        "plt.ylabel('Adsorption Efficiency')\n",
        "plt.legend()\n",
        "\n",
        "plt.subplot(2, 3, 5)\n",
        "plt.scatter(parameter_adsorbant_dosage_lab, Yv, label='Lab Results')\n",
        "plt.scatter(parameter_adsorbant_dosage_pred, y_pred, label='MLP Predictions')\n",
        "plt.xlabel('Adsorbant Dosage')\n",
        "plt.ylabel('Adsorption Efficiency')\n",
        "plt.legend()\n",
        "\n",
        "plt.tight_layout()\n",
        "plt.show()\n"
      ],
      "metadata": {
        "colab": {
          "base_uri": "https://localhost:8080/",
          "height": 432
        },
        "id": "4mZTCAVdpJ2m",
        "outputId": "38c0fd38-7088-44fa-eb86-3bfa85e95934"
      },
      "execution_count": null,
      "outputs": [
        {
          "output_type": "error",
          "ename": "InvalidIndexError",
          "evalue": "ignored",
          "traceback": [
            "\u001b[0;31m---------------------------------------------------------------------------\u001b[0m",
            "\u001b[0;31mTypeError\u001b[0m                                 Traceback (most recent call last)",
            "\u001b[0;32m/usr/local/lib/python3.10/dist-packages/pandas/core/indexes/base.py\u001b[0m in \u001b[0;36mget_loc\u001b[0;34m(self, key, method, tolerance)\u001b[0m\n\u001b[1;32m   3801\u001b[0m             \u001b[0;32mtry\u001b[0m\u001b[0;34m:\u001b[0m\u001b[0;34m\u001b[0m\u001b[0;34m\u001b[0m\u001b[0m\n\u001b[0;32m-> 3802\u001b[0;31m                 \u001b[0;32mreturn\u001b[0m \u001b[0mself\u001b[0m\u001b[0;34m.\u001b[0m\u001b[0m_engine\u001b[0m\u001b[0;34m.\u001b[0m\u001b[0mget_loc\u001b[0m\u001b[0;34m(\u001b[0m\u001b[0mcasted_key\u001b[0m\u001b[0;34m)\u001b[0m\u001b[0;34m\u001b[0m\u001b[0;34m\u001b[0m\u001b[0m\n\u001b[0m\u001b[1;32m   3803\u001b[0m             \u001b[0;32mexcept\u001b[0m \u001b[0mKeyError\u001b[0m \u001b[0;32mas\u001b[0m \u001b[0merr\u001b[0m\u001b[0;34m:\u001b[0m\u001b[0;34m\u001b[0m\u001b[0;34m\u001b[0m\u001b[0m\n",
            "\u001b[0;32m/usr/local/lib/python3.10/dist-packages/pandas/_libs/index.pyx\u001b[0m in \u001b[0;36mpandas._libs.index.IndexEngine.get_loc\u001b[0;34m()\u001b[0m\n",
            "\u001b[0;32m/usr/local/lib/python3.10/dist-packages/pandas/_libs/index.pyx\u001b[0m in \u001b[0;36mpandas._libs.index.IndexEngine.get_loc\u001b[0;34m()\u001b[0m\n",
            "\u001b[0;31mTypeError\u001b[0m: '(slice(None, None, None), 1)' is an invalid key",
            "\nDuring handling of the above exception, another exception occurred:\n",
            "\u001b[0;31mInvalidIndexError\u001b[0m                         Traceback (most recent call last)",
            "\u001b[0;32m<ipython-input-25-06755ea7770c>\u001b[0m in \u001b[0;36m<cell line: 6>\u001b[0;34m()\u001b[0m\n\u001b[1;32m      4\u001b[0m \u001b[0;34m\u001b[0m\u001b[0m\n\u001b[1;32m      5\u001b[0m \u001b[0;31m# Get the values of each parameter from your lab results and predictions\u001b[0m\u001b[0;34m\u001b[0m\u001b[0;34m\u001b[0m\u001b[0m\n\u001b[0;32m----> 6\u001b[0;31m \u001b[0mparameter_tm_lab\u001b[0m \u001b[0;34m=\u001b[0m \u001b[0mXv\u001b[0m\u001b[0;34m[\u001b[0m\u001b[0;34m:\u001b[0m\u001b[0;34m,\u001b[0m \u001b[0;36m1\u001b[0m\u001b[0;34m]\u001b[0m\u001b[0;34m\u001b[0m\u001b[0;34m\u001b[0m\u001b[0m\n\u001b[0m\u001b[1;32m      7\u001b[0m \u001b[0mparameter_ph_lab\u001b[0m \u001b[0;34m=\u001b[0m \u001b[0mXv\u001b[0m\u001b[0;34m[\u001b[0m\u001b[0;34m:\u001b[0m\u001b[0;34m,\u001b[0m \u001b[0;36m1\u001b[0m\u001b[0;34m]\u001b[0m\u001b[0;34m\u001b[0m\u001b[0;34m\u001b[0m\u001b[0m\n\u001b[1;32m      8\u001b[0m \u001b[0mparameter_time_lab\u001b[0m \u001b[0;34m=\u001b[0m \u001b[0mXv\u001b[0m\u001b[0;34m[\u001b[0m\u001b[0;34m:\u001b[0m\u001b[0;34m,\u001b[0m \u001b[0;36m2\u001b[0m\u001b[0;34m]\u001b[0m\u001b[0;34m\u001b[0m\u001b[0;34m\u001b[0m\u001b[0m\n",
            "\u001b[0;32m/usr/local/lib/python3.10/dist-packages/pandas/core/frame.py\u001b[0m in \u001b[0;36m__getitem__\u001b[0;34m(self, key)\u001b[0m\n\u001b[1;32m   3805\u001b[0m             \u001b[0;32mif\u001b[0m \u001b[0mself\u001b[0m\u001b[0;34m.\u001b[0m\u001b[0mcolumns\u001b[0m\u001b[0;34m.\u001b[0m\u001b[0mnlevels\u001b[0m \u001b[0;34m>\u001b[0m \u001b[0;36m1\u001b[0m\u001b[0;34m:\u001b[0m\u001b[0;34m\u001b[0m\u001b[0;34m\u001b[0m\u001b[0m\n\u001b[1;32m   3806\u001b[0m                 \u001b[0;32mreturn\u001b[0m \u001b[0mself\u001b[0m\u001b[0;34m.\u001b[0m\u001b[0m_getitem_multilevel\u001b[0m\u001b[0;34m(\u001b[0m\u001b[0mkey\u001b[0m\u001b[0;34m)\u001b[0m\u001b[0;34m\u001b[0m\u001b[0;34m\u001b[0m\u001b[0m\n\u001b[0;32m-> 3807\u001b[0;31m             \u001b[0mindexer\u001b[0m \u001b[0;34m=\u001b[0m \u001b[0mself\u001b[0m\u001b[0;34m.\u001b[0m\u001b[0mcolumns\u001b[0m\u001b[0;34m.\u001b[0m\u001b[0mget_loc\u001b[0m\u001b[0;34m(\u001b[0m\u001b[0mkey\u001b[0m\u001b[0;34m)\u001b[0m\u001b[0;34m\u001b[0m\u001b[0;34m\u001b[0m\u001b[0m\n\u001b[0m\u001b[1;32m   3808\u001b[0m             \u001b[0;32mif\u001b[0m \u001b[0mis_integer\u001b[0m\u001b[0;34m(\u001b[0m\u001b[0mindexer\u001b[0m\u001b[0;34m)\u001b[0m\u001b[0;34m:\u001b[0m\u001b[0;34m\u001b[0m\u001b[0;34m\u001b[0m\u001b[0m\n\u001b[1;32m   3809\u001b[0m                 \u001b[0mindexer\u001b[0m \u001b[0;34m=\u001b[0m \u001b[0;34m[\u001b[0m\u001b[0mindexer\u001b[0m\u001b[0;34m]\u001b[0m\u001b[0;34m\u001b[0m\u001b[0;34m\u001b[0m\u001b[0m\n",
            "\u001b[0;32m/usr/local/lib/python3.10/dist-packages/pandas/core/indexes/base.py\u001b[0m in \u001b[0;36mget_loc\u001b[0;34m(self, key, method, tolerance)\u001b[0m\n\u001b[1;32m   3807\u001b[0m                 \u001b[0;31m#  InvalidIndexError. Otherwise we fall through and re-raise\u001b[0m\u001b[0;34m\u001b[0m\u001b[0;34m\u001b[0m\u001b[0m\n\u001b[1;32m   3808\u001b[0m                 \u001b[0;31m#  the TypeError.\u001b[0m\u001b[0;34m\u001b[0m\u001b[0;34m\u001b[0m\u001b[0m\n\u001b[0;32m-> 3809\u001b[0;31m                 \u001b[0mself\u001b[0m\u001b[0;34m.\u001b[0m\u001b[0m_check_indexing_error\u001b[0m\u001b[0;34m(\u001b[0m\u001b[0mkey\u001b[0m\u001b[0;34m)\u001b[0m\u001b[0;34m\u001b[0m\u001b[0;34m\u001b[0m\u001b[0m\n\u001b[0m\u001b[1;32m   3810\u001b[0m                 \u001b[0;32mraise\u001b[0m\u001b[0;34m\u001b[0m\u001b[0;34m\u001b[0m\u001b[0m\n\u001b[1;32m   3811\u001b[0m \u001b[0;34m\u001b[0m\u001b[0m\n",
            "\u001b[0;32m/usr/local/lib/python3.10/dist-packages/pandas/core/indexes/base.py\u001b[0m in \u001b[0;36m_check_indexing_error\u001b[0;34m(self, key)\u001b[0m\n\u001b[1;32m   5923\u001b[0m             \u001b[0;31m# if key is not a scalar, directly raise an error (the code below\u001b[0m\u001b[0;34m\u001b[0m\u001b[0;34m\u001b[0m\u001b[0m\n\u001b[1;32m   5924\u001b[0m             \u001b[0;31m# would convert to numpy arrays and raise later any way) - GH29926\u001b[0m\u001b[0;34m\u001b[0m\u001b[0;34m\u001b[0m\u001b[0m\n\u001b[0;32m-> 5925\u001b[0;31m             \u001b[0;32mraise\u001b[0m \u001b[0mInvalidIndexError\u001b[0m\u001b[0;34m(\u001b[0m\u001b[0mkey\u001b[0m\u001b[0;34m)\u001b[0m\u001b[0;34m\u001b[0m\u001b[0;34m\u001b[0m\u001b[0m\n\u001b[0m\u001b[1;32m   5926\u001b[0m \u001b[0;34m\u001b[0m\u001b[0m\n\u001b[1;32m   5927\u001b[0m     \u001b[0;34m@\u001b[0m\u001b[0mcache_readonly\u001b[0m\u001b[0;34m\u001b[0m\u001b[0;34m\u001b[0m\u001b[0m\n",
            "\u001b[0;31mInvalidIndexError\u001b[0m: (slice(None, None, None), 1)"
          ]
        }
      ]
    },
    {
      "cell_type": "code",
      "source": [
        "0.8885218664289238 4.987677545948799 67.08386781868218 8.190474212076012"
      ],
      "metadata": {
        "id": "idKMakvwNdjN"
      },
      "execution_count": null,
      "outputs": []
    },
    {
      "cell_type": "code",
      "source": [
        "from sklearn.model_selection import cross_val_score\n",
        "from sklearn.metrics import r2_score, mean_squared_error, mean_absolute_error\n",
        "from sklearn.ensemble import RandomForestRegressor\n",
        "import numpy as np\n",
        "\n",
        "\n",
        "\n",
        "kf = KFold(n_splits=5, shuffle=True, random_state=42)\n",
        "\n",
        "# Perform cross-validation and store evaluation metrics\n",
        "r2_scores = cross_val_score(mlp, X,Y, cv=kf, scoring='r2')\n",
        "mse_scores = cross_val_score(mlp, X,Y, cv=kf, scoring='neg_mean_squared_error')\n",
        "mse_scores = -mse_scores\n",
        "rmse_scores = np.sqrt(mse_scores)\n",
        "mae_scores = cross_val_score(mlp, X,Y, cv=kf, scoring='neg_mean_absolute_error')\n",
        "mae_scores = -mae_scores\n",
        "\n",
        "# Calculate the average of evaluation metrics\n",
        "avg_r2 = np.mean(r2_scores)\n",
        "avg_mse = np.mean(mse_scores)\n",
        "avg_rmse = np.mean(rmse_scores)\n",
        "avg_mae = np.mean(mae_scores)\n",
        "\n",
        "print(\"R2 Scores:\", r2_scores)\n",
        "print(\"MSE Scores:\", mse_scores)\n",
        "print(\"RMSE Scores:\", rmse_scores)\n",
        "print(\"MAE Scores:\", mae_scores)\n",
        "print(\"Average R2:\", avg_r2)\n",
        "print(\"Average MSE:\", avg_mse)\n",
        "print(\"Average RMSE:\", avg_rmse)\n",
        "print(\"Average MAE:\", avg_mae)\n"
      ],
      "metadata": {
        "colab": {
          "base_uri": "https://localhost:8080/"
        },
        "outputId": "4d9ab6c7-b1f9-41dd-dcfb-71a5c0595198",
        "id": "8eHSkYv3MKj_"
      },
      "execution_count": null,
      "outputs": [
        {
          "output_type": "stream",
          "name": "stdout",
          "text": [
            "R2 Scores: [0.86031809 0.71132105 0.57801659 0.66047489 0.70914154]\n",
            "MSE Scores: [ 83.28919673 163.7809596  269.25575689 288.21409789 170.97831636]\n",
            "RMSE Scores: [ 9.12629151 12.79769353 16.4090145  16.9768695  13.07586771]\n",
            "MAE Scores: [ 6.41308281  7.00970811 10.48024689 12.2096847   8.25282141]\n",
            "Average R2: 0.7038544321954182\n",
            "Average MSE: 195.10366549329464\n",
            "Average RMSE: 13.677147348680132\n",
            "Average MAE: 8.873108783605346\n"
          ]
        }
      ]
    },
    {
      "cell_type": "code",
      "source": [
        "# 0.8815871861984131 4.930271272501663 71.25692989862632 8.441381989853696"
      ],
      "metadata": {
        "id": "cgjS8UcixsE0"
      },
      "execution_count": null,
      "outputs": []
    },
    {
      "cell_type": "code",
      "source": [
        "y_pred_val = mlp.predict(Xs_val)\n",
        "mae_val = mean_absolute_error(y_val,y_pred_val)\n",
        "mse_val = mean_squared_error(y_val,y_pred_val)\n",
        "r2_val = r2_score(y_val,y_pred_val)\n",
        "rmse_val = np.sqrt(mean_squared_error(y_val, y_pred_val))\n",
        "print(r2_val,mae_val,mse_val,rmse_val)"
      ],
      "metadata": {
        "id": "LsiJXpYKs_x2"
      },
      "execution_count": null,
      "outputs": []
    },
    {
      "cell_type": "code",
      "source": [
        "y_pred_val = mlp.predict(X_val)\n",
        "mae_val = mean_absolute_error(y_val,y_pred_val)\n",
        "mse_val = mean_squared_error(y_val,y_pred_val)\n",
        "r2_val = r2_score(y_val,y_pred_val)\n",
        "rmse_val = np.sqrt(mean_squared_error(y_val, y_pred_val))"
      ],
      "metadata": {
        "id": "i-V4LAeaWEkw"
      },
      "execution_count": null,
      "outputs": []
    },
    {
      "cell_type": "code",
      "source": [
        "print(mae_val,mse_val,r2_val,rmse_val)"
      ],
      "metadata": {
        "id": "JAef83reWEkx"
      },
      "execution_count": null,
      "outputs": []
    },
    {
      "cell_type": "markdown",
      "source": [
        "# **number of layers MLPN **"
      ],
      "metadata": {
        "id": "6ZlYbvDQzrNF"
      }
    },
    {
      "cell_type": "code",
      "source": [
        "import pandas as pd\n",
        "from sklearn.neural_network import MLPRegressor\n",
        "from sklearn.metrics import r2_score, mean_squared_error\n",
        "from sklearn.model_selection import train_test_split\n",
        "import numpy as np\n",
        "\n",
        "# Generate dummy regression data for demonstration\n",
        "X = np.random.random((100, 5))  # 100 samples with 5 features\n",
        "y = np.random.random(100)  # Target variable\n",
        "\n",
        "# Split the data into training and testing sets\n",
        "X_train, X_test, y_train, y_test = train_test_split(X, y, test_size=0.2)\n",
        "\n",
        "# Define the range of number of hidden layers to iterate over\n",
        "num_hidden_layers_range = [1, 2, 3, 4, 5]\n",
        "\n",
        "results = []  # To store the results\n",
        "\n",
        "# Iterate over the number of hidden layers\n",
        "for num_hidden_layers in num_hidden_layers_range:\n",
        "    # Create an MLP Regressor with the current number of hidden layers\n",
        "    mlp_regressor = MLPRegressor(hidden_layer_sizes=(100,) * num_hidden_layers)\n",
        "\n",
        "    # Train the model on the training data\n",
        "    mlp_regressor.fit(X_train, y_train)\n",
        "\n",
        "    # Make predictions on the test data\n",
        "    y_pred = mlp_regressor.predict(X_test)\n",
        "\n",
        "    # Calculate R2 score and MSE\n",
        "    r2 = r2_score(y_test, y_pred)\n",
        "    mse = mean_squared_error(y_test, y_pred)\n",
        "\n",
        "    # Append the results to the list\n",
        "    results.append({'Number of Hidden Layers': num_hidden_layers, 'R2 Score': r2, 'MSE': mse})\n",
        "\n",
        "# Create a pandas DataFrame from the results list\n",
        "df_results = pd.DataFrame(results)\n",
        "\n",
        "# Save the results to a CSV file\n",
        "df_results.to_csv('results.csv', index=False)\n"
      ],
      "metadata": {
        "id": "NnKb_bYHzwE1"
      },
      "execution_count": null,
      "outputs": []
    },
    {
      "cell_type": "markdown",
      "source": [
        "# **mlp estemator for nerons in  hiden layer **"
      ],
      "metadata": {
        "id": "uOzqbAsBn_Ib"
      }
    },
    {
      "cell_type": "code",
      "source": [
        "# Split the data into training and testing sets\n",
        "X_train, X_test, y_train, y_test = train_test_split(merged_Xs, merged_y, test_size=0.2, random_state=42,shuffle=True)\n",
        "\n",
        "# Define the range of number of hidden layers to iterate over\n",
        "\n",
        "neurons_range = [8, 16, 32, 64, 128]\n",
        "results = []  # To store the results\n",
        "\n",
        "# Iterate over the number of neurons in hidden layers\n",
        "for num_neurons in neurons_range:\n",
        "      mlp = MLPRegressor(hidden_layer_sizes=(num_neurons,num_neurons),\n",
        "                   activation='relu',\n",
        "                   solver='adam',\n",
        "                   random_state=84,\n",
        "                   max_iter = 3000,\n",
        "                   verbose=0,\n",
        "                   learning_rate_init = 0.001,\n",
        "                   batch_size =16,\n",
        "                   )\n",
        "      mlp.fit(X_train, y_train)\n",
        "\n",
        "\n",
        "# Make predictions on the test data\n",
        "      y_pred = mlp.predict(X_test)\n",
        "\n",
        "\n",
        "        # Calculate R2 score and MSE\n",
        "      r2 = r2_score(y_test, y_pred)\n",
        "      mse = mean_squared_error(y_test, y_pred)\n",
        "      rmse = np.sqrt(mean_squared_error(y_test, y_pred))\n",
        "\n",
        "        # Print the results\n",
        "      print(f\"'Number of Neurons': {num_neurons}, R2 Score: {r2:.4f}, MSE: {mse:.4f}, RMSE: {rmse:.4f}\")\n",
        "\n",
        "        # Append the results to the list\n",
        "      results.append({'Number of Neurons': num_neurons, 'R2 Score': r2, 'MSE': mse , 'RMSE': rmse })\n",
        "\n",
        "\n",
        "# Create a pandas DataFrame from the results list\n",
        "df_results = pd.DataFrame(results)\n",
        "\n",
        "# Save the results to a CSV file\n",
        "df_results.to_csv('mlpresults.csv', index=False)"
      ],
      "metadata": {
        "id": "4Pnqyj5_n_Iq"
      },
      "execution_count": null,
      "outputs": []
    },
    {
      "cell_type": "markdown",
      "metadata": {
        "id": "pKUMJKf5rHPK"
      },
      "source": [
        "# ***scatterplot MLPN ***"
      ]
    },
    {
      "cell_type": "code",
      "execution_count": null,
      "metadata": {
        "id": "uMnFxM_arHPZ"
      },
      "outputs": [],
      "source": [
        "y_train_pred = mlp.predict(X_train)"
      ]
    },
    {
      "cell_type": "code",
      "execution_count": null,
      "metadata": {
        "id": "ftyxirDorHPZ"
      },
      "outputs": [],
      "source": [
        " # Scatterplot of y_train and y_train_pred\n",
        " plt.scatter(y_train, y_train_pred)\n",
        " plt.plot(y_test, y_test, color='r') # Plot the line\n",
        "\n",
        " # Labels\n",
        " plt.title('ACTUAL VS PREDICTED VALUES')\n",
        " plt.xlabel('ACTUAL VALUES')\n",
        " plt.ylabel('PREDICTED VALUES')"
      ]
    },
    {
      "cell_type": "code",
      "execution_count": null,
      "metadata": {
        "id": "GDdKQIdPrHPa"
      },
      "outputs": [],
      "source": [
        "# KDE train set\n",
        "ax = sns.kdeplot(y_train, color='r', label='Actual Values') #actual values\n",
        "sns.kdeplot(y_train_pred, color='b', label='Predicted Values', ax=ax) #predicted values\n",
        "\n",
        "# Show title\n",
        "plt.title('Actual vs Predicted values')\n",
        "# Show legend\n",
        "plt.legend()"
      ]
    },
    {
      "cell_type": "code",
      "execution_count": null,
      "metadata": {
        "id": "05Z1FDv_rHPa"
      },
      "outputs": [],
      "source": [
        "# KDE train set\n",
        "ax_test = sns.kdeplot(y_test, color='r', label='Actual Values') #actual values\n",
        "sns.kdeplot(y_pred, color='b', label='Predicted Values', ax=ax_test) #predicted values\n",
        "\n",
        "# Show title\n",
        "plt.title('Actual vs Predicted values')\n",
        "# Show legend\n",
        "plt.legend()"
      ]
    },
    {
      "cell_type": "markdown",
      "source": [
        "# **seq model **"
      ],
      "metadata": {
        "id": "sBuZyJRrljFL"
      }
    },
    {
      "cell_type": "code",
      "source": [
        "from tensorflow.keras.models import Sequential\n",
        "from tensorflow.keras.layers import Dense\n",
        "from sklearn.model_selection import train_test_split\n",
        "from sklearn.preprocessing import StandardScaler\n",
        "from sklearn.preprocessing import MinMaxScaler\n",
        "from sklearn.preprocessing import RobustScaler\n",
        "import numpy as np\n",
        "from sklearn.neural_network import MLPRegressor\n",
        "from sklearn.metrics import r2_score, mean_squared_error"
      ],
      "metadata": {
        "id": "Psj3KGZvNUtY"
      },
      "execution_count": null,
      "outputs": []
    },
    {
      "cell_type": "code",
      "source": [
        "# Data normalization\n",
        "scaler = StandardScaler()\n",
        "scaler1 = MinMaxScaler()\n",
        "scaler2 = RobustScaler()\n",
        "X_scaled = scaler.fit_transform(X_merged)\n",
        "X_scaled1 = scaler1.fit_transform(X_merged)\n",
        "X_scaled2 = scaler2.fit_transform(X_merged)\n",
        "X_train, X_test, y_train, y_test = train_test_split(merged_Xs, merged_y, test_size=0.2, random_state=42,shuffle=True)\n",
        "\n",
        "# Create the FNN model\n",
        "seq = Sequential()\n",
        "seq.add(Dense(units=64, input_shape=(5,), activation='relu'))  # Input layer with 5 neurons\n",
        "seq.add(Dense(units=64, activation='relu'))  # Hidden layer with 64 neurons\n",
        "seq.add(Dense(units=1, activation='linear'))  # Output layer with 1 neuron\n",
        "\n",
        "# Compile the model\n",
        "seq.compile(loss='mean_squared_error', optimizer='adam')\n",
        "\n",
        "# Train the model\n",
        "seq.fit(X_train, y_train, epochs=400, batch_size=16, verbose =0)"
      ],
      "metadata": {
        "id": "K0TnnENRTgne"
      },
      "execution_count": null,
      "outputs": []
    },
    {
      "cell_type": "code",
      "source": [
        "# Evaluate the model's performance using Mean Squared Error (MSE)\n",
        "y_pred = seq.predict(X_test)\n",
        "mae = mean_absolute_error(y_test,y_pred)\n",
        "mse = mean_squared_error(y_test,y_pred)\n",
        "r2 = r2_score(y_test,y_pred)\n",
        "rmse = np.sqrt(mean_squared_error(y_test, y_pred))\n",
        "print(r2,mae, mse, rmse)"
      ],
      "metadata": {
        "id": "IEyHex5KTtlT"
      },
      "execution_count": null,
      "outputs": []
    },
    {
      "cell_type": "code",
      "source": [
        "#0.8141857233690943 7.619167238239245 110.09412822321956 10.492574909106894"
      ],
      "metadata": {
        "id": "wh9ghi2j1uGs"
      },
      "execution_count": null,
      "outputs": []
    },
    {
      "cell_type": "markdown",
      "metadata": {
        "id": "HOcMHVZ04eD6"
      },
      "source": [
        "\n",
        "# ***scatterplot seq ***"
      ]
    },
    {
      "cell_type": "code",
      "execution_count": null,
      "metadata": {
        "id": "irtWTkJy4eD7"
      },
      "outputs": [],
      "source": [
        "y_train_pred = seq.predict(X_train)"
      ]
    },
    {
      "cell_type": "code",
      "execution_count": null,
      "metadata": {
        "id": "84TYKCwf4eD7"
      },
      "outputs": [],
      "source": [
        " # Scatterplot of y_train and y_train_pred\n",
        " plt.scatter(y_train, y_train_pred)\n",
        " plt.plot(y_test, y_test, color='r') # Plot the line\n",
        "\n",
        " # Labels\n",
        " plt.title('ACTUAL VS PREDICTED VALUES')\n",
        " plt.xlabel('ACTUAL VALUES')\n",
        " plt.ylabel('PREDICTED VALUES')"
      ]
    },
    {
      "cell_type": "code",
      "execution_count": null,
      "metadata": {
        "id": "LXk0velt4eD8"
      },
      "outputs": [],
      "source": [
        "# KDE train set\n",
        "ax = sns.kdeplot(y_train, color='r', label='Actual Values') #actual values\n",
        "sns.kdeplot(y_train_pred, color='b', label='Predicted Values', ax=ax) #predicted values\n",
        "\n",
        "# Show title\n",
        "plt.title('Actual vs Predicted values')\n",
        "# Show legend\n",
        "plt.legend()"
      ]
    },
    {
      "cell_type": "code",
      "execution_count": null,
      "metadata": {
        "id": "4RdmX0T74eD8"
      },
      "outputs": [],
      "source": [
        "# KDE train set\n",
        "ax_test = sns.kdeplot(y_test, color='r', label='Actual Values') #actual values\n",
        "sns.kdeplot(y_pred, color='b', label='Predicted Values', ax=ax_test) #predicted values\n",
        "\n",
        "# Show title\n",
        "plt.title('Actual vs Predicted values')\n",
        "# Show legend\n",
        "plt.legend()"
      ]
    },
    {
      "cell_type": "markdown",
      "source": [
        "# **sequentiel estemator for nerons in  hiden layer **"
      ],
      "metadata": {
        "id": "FbNao5Un2JrD"
      }
    },
    {
      "cell_type": "code",
      "source": [
        "# Split the data into training and testing sets\n",
        "X_train, X_test, y_train, y_test = train_test_split(merged_Xs, merged_y, test_size=0.2, random_state=42,shuffle=True)\n",
        "\n",
        "# Define the range of number of hidden layers to iterate over\n",
        "\n",
        "neurons_range = [8, 16, 32, 64, 128]\n",
        "results = []  # To store the results\n",
        "\n",
        "# Iterate over the number of neurons in hidden layers\n",
        "for num_neurons in neurons_range:\n",
        "    # Create a Sequential model\n",
        "    model = Sequential()\n",
        "\n",
        "    # Add the input layer\n",
        "    model.add(Dense(num_neurons, input_shape=(5,), activation='relu'))\n",
        "\n",
        "    # Add a single hidden layer\n",
        "    model.add(Dense(num_neurons, activation='relu'))\n",
        "\n",
        "    # Add the output layer\n",
        "    model.add(Dense(units=1, activation='linear'))\n",
        "\n",
        "    # Compile the model\n",
        "    model.compile(loss='mean_squared_error', optimizer='adam')\n",
        "\n",
        "    # Train the model on the training data\n",
        "    model.fit(X_train, y_train, epochs=400, batch_size=16, verbose=0)\n",
        "\n",
        "# Make predictions on the test data\n",
        "    y_pred = model.predict(X_test)\n",
        "\n",
        "\n",
        "    # Calculate R2 score and MSE\n",
        "    r2 = r2_score(y_test, y_pred)\n",
        "    mse = mean_squared_error(y_test, y_pred)\n",
        "    rmse = np.sqrt(mean_squared_error(y_test, y_pred))\n",
        "\n",
        "    # Print the results\n",
        "    print(f\"'Number of Neurons': {num_neurons}, R2 Score: {r2:.4f}, MSE: {mse:.4f}, RMSE: {rmse:.4f}\")\n",
        "\n",
        "    # Append the results to the list\n",
        "    results.append({'Number of Neurons': num_neurons, 'R2 Score': r2, 'MSE': mse , 'RMSE': rmse })\n",
        "\n",
        "\n",
        "# Create a pandas DataFrame from the results list\n",
        "df_results = pd.DataFrame(results)\n",
        "\n",
        "# Save the results to a CSV file\n",
        "df_results.to_csv('results.csv', index=False)"
      ],
      "metadata": {
        "id": "PyHAUf6T2Npl"
      },
      "execution_count": null,
      "outputs": []
    },
    {
      "cell_type": "markdown",
      "source": [
        "# **MLP**"
      ],
      "metadata": {
        "id": "cjReA9ALas68"
      }
    },
    {
      "cell_type": "code",
      "source": [
        "from keras.models import Sequential\n",
        "from keras.layers import Dense, Dropout\n",
        "from keras.optimizers import *\n",
        "from keras.callbacks import EarlyStopping\n",
        "\n",
        "# Initialize the MLP model\n",
        "model = Sequential()\n",
        "\n",
        "# Add input layer and first hidden layer with dropout\n",
        "model.add(Dense(units=64, activation='relu', input_dim=5))\n",
        "model.add(Dropout(0.2))\n",
        "\n",
        "# Add additional hidden layers with dropout\n",
        "model.add(Dense(units=64, activation='relu'))\n",
        "model.add(Dropout(0.2))\n",
        "#model.add(Dense(units=16, activation='relu'))\n",
        "#model.add(Dropout(0.2))\n",
        "\n",
        "# Add output layer\n",
        "model.add(Dense(units=1, activation='linear'))\n",
        "\n",
        "# Define the optimizer\n",
        "optimizer = Adam(learning_rate=0.01)\n",
        "\n",
        "# Compile the model\n",
        "model.compile(optimizer=optimizer, loss='mean_squared_error')\n",
        "\n",
        "# Define early stopping callback\n",
        "early_stopping = EarlyStopping(monitor='val_loss', patience=10)\n",
        "\n",
        "# Train the model with defined hyperparameters\n",
        "model.fit(X_train, y_train, epochs=300, batch_size=16 ,validation_data=(X_val, y_val),callbacks=[early_stopping], verbose=0) #\n"
      ],
      "metadata": {
        "id": "XAt_uc5ebfQ_"
      },
      "execution_count": null,
      "outputs": []
    },
    {
      "cell_type": "code",
      "source": [
        "# Evaluate the model's performance using Mean Squared Error (MSE)\n",
        "y_pred = model.predict(X_test)\n",
        "mae = mean_absolute_error(y_test,y_pred)\n",
        "mse = mean_squared_error(y_test,y_pred)\n",
        "r2 = r2_score(y_test,y_pred)\n",
        "rmse = np.sqrt(mean_squared_error(y_test, y_pred))\n",
        "print(r2, mae, mse, rmse)"
      ],
      "metadata": {
        "id": "3CEnRa96a14D"
      },
      "execution_count": null,
      "outputs": []
    },
    {
      "cell_type": "markdown",
      "source": [
        "# **Support Vector Machine**"
      ],
      "metadata": {
        "id": "aybn_LPUd0mJ"
      }
    },
    {
      "cell_type": "code",
      "source": [
        "import numpy as np\n",
        "from sklearn.svm import SVR\n",
        "from sklearn.model_selection import train_test_split\n",
        "from sklearn.preprocessing import StandardScaler\n",
        "from sklearn.metrics import mean_squared_error"
      ],
      "metadata": {
        "id": "FxAqx9w7d724"
      },
      "execution_count": null,
      "outputs": []
    },
    {
      "cell_type": "code",
      "source": [
        "X_train, X_test, y_train, y_test = train_test_split(merged_Xs, merged_y, test_size=0.2, random_state=84)\n",
        "model = SVR(kernel='rbf', C=2.0, epsilon=1.0, degree = 3)  # Radial basis function kernel\n",
        "model.fit(X_train, y_train)"
      ],
      "metadata": {
        "id": "AewhBdP6d-fQ"
      },
      "execution_count": null,
      "outputs": []
    },
    {
      "cell_type": "code",
      "source": [
        "# Evaluate the model's performance using Mean Squared Error (MSE)\n",
        "y_pred = model.predict(X_test)\n",
        "mae = mean_absolute_error(y_test,y_pred)\n",
        "mse = mean_squared_error(y_test,y_pred)\n",
        "r2 = r2_score(y_test,y_pred)\n",
        "rmse = np.sqrt(mean_squared_error(y_test, y_pred))\n",
        "print(r2,mae, mse, rmse)"
      ],
      "metadata": {
        "id": "YftHI8LUeKzl"
      },
      "execution_count": null,
      "outputs": []
    },
    {
      "cell_type": "markdown",
      "source": [
        "# **Box plot for all models **"
      ],
      "metadata": {
        "id": "qPM-TDrxI8Z_"
      }
    },
    {
      "cell_type": "code",
      "source": [
        "import matplotlib.pyplot as plt\n",
        "import pandas as pd\n",
        "\n",
        "import matplotlib.pyplot as plt\n",
        "\n",
        "# Results for each model\n",
        "rf_scores = [5.664,\t7.024,\t9.663,11.043,5.082\t,7.695]\n",
        "gbt_scores = [5.490,\t6.585,\t6.925,\t10.759\t,5.959\t,7.144]\n",
        "mlp_scores = [9.126,\t12.797\t,11.409  \t,10.976 , \t9.075,\t10.676]\n",
        "\n",
        "# Create a list of scores for each model\n",
        "all_scores = [rf_scores, gbt_scores, mlp_scores]\n",
        "\n",
        "# Customization options\n",
        "boxprops = dict(color='blue' , facecolor='lightblue')\n",
        "whiskerprops = dict(color='black', linestyle='--')\n",
        "capprops = dict(color='black')\n",
        "flierprops = dict(marker='o', markerfacecolor='red', markersize=5)\n",
        "\n",
        "# Create the box plot with customized properties\n",
        "plt.boxplot(all_scores, labels=['Random Forest', 'Gradient Boosting Trees', 'MLP'],\n",
        "            boxprops=boxprops, whiskerprops=whiskerprops,\n",
        "            capprops=capprops, flierprops=flierprops, patch_artist=True , widths=0.5)\n",
        "\n",
        "\n",
        "plt.xlabel('Model')\n",
        "plt.ylabel('RMSE Score')\n",
        "plt.title('Performance Comparison of Models')\n",
        "plt.show()\n",
        "plt.savefig('boxplotAll.jpg')"
      ],
      "metadata": {
        "id": "IhSIup52JAPX",
        "colab": {
          "base_uri": "https://localhost:8080/",
          "height": 489
        },
        "outputId": "98712ed0-773e-4e0b-f8fb-5c44397a6326"
      },
      "execution_count": null,
      "outputs": [
        {
          "output_type": "display_data",
          "data": {
            "text/plain": [
              "<Figure size 640x480 with 1 Axes>"
            ],
            "image/png": "[encoded data removed]"
          },
          "metadata": {}
        },
        {
          "output_type": "display_data",
          "data": {
            "text/plain": [
              "<Figure size 640x480 with 0 Axes>"
            ]
          },
          "metadata": {}
        }
      ]
    },
    {
      "cell_type": "markdown",
      "source": [
        "# ***features importance ***"
      ],
      "metadata": {
        "id": "1qWUBECoyBVW"
      }
    },
    {
      "cell_type": "code",
      "source": [
        "importances = gbt_model.feature_importances_"
      ],
      "metadata": {
        "id": "kzKM-QU1yFiH"
      },
      "execution_count": null,
      "outputs": []
    },
    {
      "cell_type": "code",
      "source": [
        "# Get indices of top 5 features based on importance values\n",
        "top_features_indices = importances.argsort()[-5:][::-1]\n",
        "\n",
        "# Get the names of the top 5 features\n",
        "top_features_names = [merged_data.columns[i] for i in top_features_indices]\n",
        "\n",
        "# Create box plots for the top 5 features\n",
        "fig, axes = plt.subplots(nrows=1, ncols=len(top_features_names), figsize=(10, 3))\n",
        "\n",
        "for i, feature_name in enumerate(top_features_names):\n",
        "    axes[i].boxplot(merged_data[feature_name])\n",
        "    axes[i].set_title(feature_name)\n",
        "\n",
        "plt.tight_layout()\n",
        "plt.show()\n",
        "plt.savefig('boxpltf.jpg')"
      ],
      "metadata": {
        "colab": {
          "base_uri": "https://localhost:8080/",
          "height": 324
        },
        "id": "Pb7bRIqCyiGn",
        "outputId": "2f957dda-ec44-41b8-f08b-8de806b03d46"
      },
      "execution_count": null,
      "outputs": [
        {
          "output_type": "display_data",
          "data": {
            "text/plain": [
              "<Figure size 1000x300 with 5 Axes>"
            ],
            "image/png": "[encoded data removed]"
          },
          "metadata": {}
        },
        {
          "output_type": "display_data",
          "data": {
            "text/plain": [
              "<Figure size 640x480 with 0 Axes>"
            ]
          },
          "metadata": {}
        }
      ]
    },
    {
      "cell_type": "code",
      "source": [
        "import numpy as np\n",
        "import matplotlib.pyplot as plt\n",
        "\n",
        "# Assuming you have a trained GBT model called 'gbt_model'\n",
        "feature_importances = gbt_model.feature_importances_\n",
        "\n",
        "# Get the feature names\n",
        "feature_names = ['pH'\t,'Temperature',\t'Amx'\t,'Time'\t,'Adsorbent'\t,'Adsorption']  # Replace with your actual feature names\n",
        "\n",
        "# Sort the feature importances in ascending order\n",
        "sorted_indices = np.argsort(feature_importances)\n",
        "sorted_importances = feature_importances[sorted_indices]\n",
        "sorted_names = [feature_names[i] for i in sorted_indices]\n",
        "\n",
        "# Create the histogram\n",
        "plt.figure(figsize=(10, 6))\n",
        "plt.barh(range(len(sorted_importances)), sorted_importances, color='darkblue')\n",
        "plt.yticks(range(len(sorted_importances)), sorted_names)\n",
        "plt.xlabel('Feature Importance')\n",
        "plt.ylabel('Features')\n",
        "plt.title('Feature Importances for GBT Model')\n",
        "plt.tight_layout()\n",
        "plt.show()\n",
        "\n"
      ],
      "metadata": {
        "colab": {
          "base_uri": "https://localhost:8080/",
          "height": 607
        },
        "id": "eregvEo6-ca4",
        "outputId": "2711c6fc-e7c6-49ad-a085-edd048bafe6a"
      },
      "execution_count": null,
      "outputs": [
        {
          "output_type": "display_data",
          "data": {
            "text/plain": [
              "<Figure size 1000x600 with 1 Axes>"
            ],
            "image/png": "[encoded data removed]"
          },
          "metadata": {}
        }
      ]
    },
    {
      "cell_type": "code",
      "source": [
        "import numpy as np\n",
        "import matplotlib.pyplot as plt\n",
        "from sklearn.ensemble import RandomForestClassifier  # Replace with RandomForestRegressor for regression\n",
        "\n",
        "# Assuming you have a trained RF model called 'rf_model'\n",
        "feature_importances = rf_model.feature_importances_\n",
        "\n",
        "# Get the feature names\n",
        "feature_names = ['pH'\t,'Temperature',\t'Amx'\t,'Time'\t,'Adsorbent'\t,'Adsorption']  # Replace with your actual feature names\n",
        "\n",
        "# Sort the feature importances in ascending order\n",
        "sorted_indices = np.argsort(feature_importances)\n",
        "sorted_importances = feature_importances[sorted_indices]\n",
        "sorted_names = [feature_names[i] for i in sorted_indices]\n",
        "\n",
        "# Create the histogram\n",
        "plt.figure(figsize=(10, 6))\n",
        "plt.barh(range(len(sorted_importances)), sorted_importances, color='darkblue')\n",
        "plt.yticks(range(len(sorted_importances)), sorted_names)\n",
        "plt.xlabel('Feature Importance')\n",
        "plt.ylabel('Features')\n",
        "plt.title('Feature Importances for RF Model')\n",
        "plt.tight_layout()\n",
        "plt.show()\n"
      ],
      "metadata": {
        "colab": {
          "base_uri": "https://localhost:8080/",
          "height": 607
        },
        "id": "cFeuflxj--KS",
        "outputId": "03dfa968-d350-4ac4-ba6d-c08b2713040b"
      },
      "execution_count": null,
      "outputs": [
        {
          "output_type": "display_data",
          "data": {
            "text/plain": [
              "<Figure size 1000x600 with 1 Axes>"
            ],
            "image/png": "[encoded data removed]"
          },
          "metadata": {}
        }
      ]
    }
  ],
  "metadata": {
    "colab": {
      "provenance": [],
      "collapsed_sections": [
        "VDOHcR4Ru-tT",
        "6Z674-ccl-6y",
        "l6bRE4stl-7G",
        "78aiaRmAd4o3",
        "3Wi9wpbNe65J",
        "OQRzdjbnl-7I"
      ],
      "authorship_tag": "ABX9TyN8/qaB54R2Rw4SwfuETUV7",
      "include_colab_link": true
    },
    "kernelspec": {
      "display_name": "Python 3",
      "name": "python3"
    },
    "language_info": {
      "name": "python"
    },
    "widgets": {
      "application/vnd.jupyter.widget-state+json": {
        "5e6f1724244a4441901c37757dc323b6": {
          "model_module": "@jupyter-widgets/controls",
          "model_name": "HBoxModel",
          "model_module_version": "1.5.0",
          "state": {
            "_dom_classes": [],
            "_model_module": "@jupyter-widgets/controls",
            "_model_module_version": "1.5.0",
            "_model_name": "HBoxModel",
            "_view_count": null,
            "_view_module": "@jupyter-widgets/controls",
            "_view_module_version": "1.5.0",
            "_view_name": "HBoxView",
            "box_style": "",
            "children": [
              "IPY_MODEL_c7d7d03420f14c2e9d550ff1291cf1d5",
              "IPY_MODEL_75cab707d84a432cb3fedbc7bda84f65",
              "IPY_MODEL_ccf62c0e2842437c8418e4093e968e59"
            ],
            "layout": "IPY_MODEL_9080348ccd7a4466981145ac01a9a545"
          }
        },
        "c7d7d03420f14c2e9d550ff1291cf1d5": {
          "model_module": "@jupyter-widgets/controls",
          "model_name": "HTMLModel",
          "model_module_version": "1.5.0",
          "state": {
            "_dom_classes": [],
            "_model_module": "@jupyter-widgets/controls",
            "_model_module_version": "1.5.0",
            "_model_name": "HTMLModel",
            "_view_count": null,
            "_view_module": "@jupyter-widgets/controls",
            "_view_module_version": "1.5.0",
            "_view_name": "HTMLView",
            "description": "",
            "description_tooltip": null,
            "layout": "IPY_MODEL_a916eafa108547a085668ef6be18695a",
            "placeholder": "​",
            "style": "IPY_MODEL_4588888a43ad4e59896dc9790f702edb",
            "value": "Summarize dataset: 100%"
          }
        },
        "75cab707d84a432cb3fedbc7bda84f65": {
          "model_module": "@jupyter-widgets/controls",
          "model_name": "FloatProgressModel",
          "model_module_version": "1.5.0",
          "state": {
            "_dom_classes": [],
            "_model_module": "@jupyter-widgets/controls",
            "_model_module_version": "1.5.0",
            "_model_name": "FloatProgressModel",
            "_view_count": null,
            "_view_module": "@jupyter-widgets/controls",
            "_view_module_version": "1.5.0",
            "_view_name": "ProgressView",
            "bar_style": "success",
            "description": "",
            "description_tooltip": null,
            "layout": "IPY_MODEL_9e1497abc9264bd39a9012921babd4f9",
            "max": 5,
            "min": 0,
            "orientation": "horizontal",
            "style": "IPY_MODEL_1f50093b39f540578494c877e838cd06",
            "value": 5
          }
        },
        "ccf62c0e2842437c8418e4093e968e59": {
          "model_module": "@jupyter-widgets/controls",
          "model_name": "HTMLModel",
          "model_module_version": "1.5.0",
          "state": {
            "_dom_classes": [],
            "_model_module": "@jupyter-widgets/controls",
            "_model_module_version": "1.5.0",
            "_model_name": "HTMLModel",
            "_view_count": null,
            "_view_module": "@jupyter-widgets/controls",
            "_view_module_version": "1.5.0",
            "_view_name": "HTMLView",
            "description": "",
            "description_tooltip": null,
            "layout": "IPY_MODEL_3dc4a693d1ed47b2aa5e4307f93e69d0",
            "placeholder": "​",
            "style": "IPY_MODEL_68cfe6afec104ef7acba29dd6a5a9cd7",
            "value": " 52/52 [00:12&lt;00:00,  2.15it/s, Completed]"
          }
        },
        "9080348ccd7a4466981145ac01a9a545": {
          "model_module": "@jupyter-widgets/base",
          "model_name": "LayoutModel",
          "model_module_version": "1.2.0",
          "state": {
            "_model_module": "@jupyter-widgets/base",
            "_model_module_version": "1.2.0",
            "_model_name": "LayoutModel",
            "_view_count": null,
            "_view_module": "@jupyter-widgets/base",
            "_view_module_version": "1.2.0",
            "_view_name": "LayoutView",
            "align_content": null,
            "align_items": null,
            "align_self": null,
            "border": null,
            "bottom": null,
            "display": null,
            "flex": null,
            "flex_flow": null,
            "grid_area": null,
            "grid_auto_columns": null,
            "grid_auto_flow": null,
            "grid_auto_rows": null,
            "grid_column": null,
            "grid_gap": null,
            "grid_row": null,
            "grid_template_areas": null,
            "grid_template_columns": null,
            "grid_template_rows": null,
            "height": null,
            "justify_content": null,
            "justify_items": null,
            "left": null,
            "margin": null,
            "max_height": null,
            "max_width": null,
            "min_height": null,
            "min_width": null,
            "object_fit": null,
            "object_position": null,
            "order": null,
            "overflow": null,
            "overflow_x": null,
            "overflow_y": null,
            "padding": null,
            "right": null,
            "top": null,
            "visibility": null,
            "width": null
          }
        },
        "a916eafa108547a085668ef6be18695a": {
          "model_module": "@jupyter-widgets/base",
          "model_name": "LayoutModel",
          "model_module_version": "1.2.0",
          "state": {
            "_model_module": "@jupyter-widgets/base",
            "_model_module_version": "1.2.0",
            "_model_name": "LayoutModel",
            "_view_count": null,
            "_view_module": "@jupyter-widgets/base",
            "_view_module_version": "1.2.0",
            "_view_name": "LayoutView",
            "align_content": null,
            "align_items": null,
            "align_self": null,
            "border": null,
            "bottom": null,
            "display": null,
            "flex": null,
            "flex_flow": null,
            "grid_area": null,
            "grid_auto_columns": null,
            "grid_auto_flow": null,
            "grid_auto_rows": null,
            "grid_column": null,
            "grid_gap": null,
            "grid_row": null,
            "grid_template_areas": null,
            "grid_template_columns": null,
            "grid_template_rows": null,
            "height": null,
            "justify_content": null,
            "justify_items": null,
            "left": null,
            "margin": null,
            "max_height": null,
            "max_width": null,
            "min_height": null,
            "min_width": null,
            "object_fit": null,
            "object_position": null,
            "order": null,
            "overflow": null,
            "overflow_x": null,
            "overflow_y": null,
            "padding": null,
            "right": null,
            "top": null,
            "visibility": null,
            "width": null
          }
        },
        "4588888a43ad4e59896dc9790f702edb": {
          "model_module": "@jupyter-widgets/controls",
          "model_name": "DescriptionStyleModel",
          "model_module_version": "1.5.0",
          "state": {
            "_model_module": "@jupyter-widgets/controls",
            "_model_module_version": "1.5.0",
            "_model_name": "DescriptionStyleModel",
            "_view_count": null,
            "_view_module": "@jupyter-widgets/base",
            "_view_module_version": "1.2.0",
            "_view_name": "StyleView",
            "description_width": ""
          }
        },
        "9e1497abc9264bd39a9012921babd4f9": {
          "model_module": "@jupyter-widgets/base",
          "model_name": "LayoutModel",
          "model_module_version": "1.2.0",
          "state": {
            "_model_module": "@jupyter-widgets/base",
            "_model_module_version": "1.2.0",
            "_model_name": "LayoutModel",
            "_view_count": null,
            "_view_module": "@jupyter-widgets/base",
            "_view_module_version": "1.2.0",
            "_view_name": "LayoutView",
            "align_content": null,
            "align_items": null,
            "align_self": null,
            "border": null,
            "bottom": null,
            "display": null,
            "flex": null,
            "flex_flow": null,
            "grid_area": null,
            "grid_auto_columns": null,
            "grid_auto_flow": null,
            "grid_auto_rows": null,
            "grid_column": null,
            "grid_gap": null,
            "grid_row": null,
            "grid_template_areas": null,
            "grid_template_columns": null,
            "grid_template_rows": null,
            "height": null,
            "justify_content": null,
            "justify_items": null,
            "left": null,
            "margin": null,
            "max_height": null,
            "max_width": null,
            "min_height": null,
            "min_width": null,
            "object_fit": null,
            "object_position": null,
            "order": null,
            "overflow": null,
            "overflow_x": null,
            "overflow_y": null,
            "padding": null,
            "right": null,
            "top": null,
            "visibility": null,
            "width": null
          }
        },
        "1f50093b39f540578494c877e838cd06": {
          "model_module": "@jupyter-widgets/controls",
          "model_name": "ProgressStyleModel",
          "model_module_version": "1.5.0",
          "state": {
            "_model_module": "@jupyter-widgets/controls",
            "_model_module_version": "1.5.0",
            "_model_name": "ProgressStyleModel",
            "_view_count": null,
            "_view_module": "@jupyter-widgets/base",
            "_view_module_version": "1.2.0",
            "_view_name": "StyleView",
            "bar_color": null,
            "description_width": ""
          }
        },
        "3dc4a693d1ed47b2aa5e4307f93e69d0": {
          "model_module": "@jupyter-widgets/base",
          "model_name": "LayoutModel",
          "model_module_version": "1.2.0",
          "state": {
            "_model_module": "@jupyter-widgets/base",
            "_model_module_version": "1.2.0",
            "_model_name": "LayoutModel",
            "_view_count": null,
            "_view_module": "@jupyter-widgets/base",
            "_view_module_version": "1.2.0",
            "_view_name": "LayoutView",
            "align_content": null,
            "align_items": null,
            "align_self": null,
            "border": null,
            "bottom": null,
            "display": null,
            "flex": null,
            "flex_flow": null,
            "grid_area": null,
            "grid_auto_columns": null,
            "grid_auto_flow": null,
            "grid_auto_rows": null,
            "grid_column": null,
            "grid_gap": null,
            "grid_row": null,
            "grid_template_areas": null,
            "grid_template_columns": null,
            "grid_template_rows": null,
            "height": null,
            "justify_content": null,
            "justify_items": null,
            "left": null,
            "margin": null,
            "max_height": null,
            "max_width": null,
            "min_height": null,
            "min_width": null,
            "object_fit": null,
            "object_position": null,
            "order": null,
            "overflow": null,
            "overflow_x": null,
            "overflow_y": null,
            "padding": null,
            "right": null,
            "top": null,
            "visibility": null,
            "width": null
          }
        },
        "68cfe6afec104ef7acba29dd6a5a9cd7": {
          "model_module": "@jupyter-widgets/controls",
          "model_name": "DescriptionStyleModel",
          "model_module_version": "1.5.0",
          "state": {
            "_model_module": "@jupyter-widgets/controls",
            "_model_module_version": "1.5.0",
            "_model_name": "DescriptionStyleModel",
            "_view_count": null,
            "_view_module": "@jupyter-widgets/base",
            "_view_module_version": "1.2.0",
            "_view_name": "StyleView",
            "description_width": ""
          }
        },
        "5eb1347a35f44abf992dae1218334fc4": {
          "model_module": "@jupyter-widgets/controls",
          "model_name": "HBoxModel",
          "model_module_version": "1.5.0",
          "state": {
            "_dom_classes": [],
            "_model_module": "@jupyter-widgets/controls",
            "_model_module_version": "1.5.0",
            "_model_name": "HBoxModel",
            "_view_count": null,
            "_view_module": "@jupyter-widgets/controls",
            "_view_module_version": "1.5.0",
            "_view_name": "HBoxView",
            "box_style": "",
            "children": [
              "IPY_MODEL_6f8727edcdec41f2be4f282b1a01cc64",
              "IPY_MODEL_4085d952bb424c55a8dd558b0d28ee29",
              "IPY_MODEL_86e343107b504038b6d913b71295f9be"
            ],
            "layout": "IPY_MODEL_97859ec8dd4e43b68119de1c88509db5"
          }
        },
        "6f8727edcdec41f2be4f282b1a01cc64": {
          "model_module": "@jupyter-widgets/controls",
          "model_name": "HTMLModel",
          "model_module_version": "1.5.0",
          "state": {
            "_dom_classes": [],
            "_model_module": "@jupyter-widgets/controls",
            "_model_module_version": "1.5.0",
            "_model_name": "HTMLModel",
            "_view_count": null,
            "_view_module": "@jupyter-widgets/controls",
            "_view_module_version": "1.5.0",
            "_view_name": "HTMLView",
            "description": "",
            "description_tooltip": null,
            "layout": "IPY_MODEL_878b27e819334a619ec91f782381c191",
            "placeholder": "​",
            "style": "IPY_MODEL_a374fe80b7e4499eb64fa8ae25a0b097",
            "value": "Generate report structure: 100%"
          }
        },
        "4085d952bb424c55a8dd558b0d28ee29": {
          "model_module": "@jupyter-widgets/controls",
          "model_name": "FloatProgressModel",
          "model_module_version": "1.5.0",
          "state": {
            "_dom_classes": [],
            "_model_module": "@jupyter-widgets/controls",
            "_model_module_version": "1.5.0",
            "_model_name": "FloatProgressModel",
            "_view_count": null,
            "_view_module": "@jupyter-widgets/controls",
            "_view_module_version": "1.5.0",
            "_view_name": "ProgressView",
            "bar_style": "success",
            "description": "",
            "description_tooltip": null,
            "layout": "IPY_MODEL_52e0719bb1c14c4b8bdca1f9a67b24b3",
            "max": 1,
            "min": 0,
            "orientation": "horizontal",
            "style": "IPY_MODEL_a20182e5054f4ef894038d247fec4fc2",
            "value": 1
          }
        },
        "86e343107b504038b6d913b71295f9be": {
          "model_module": "@jupyter-widgets/controls",
          "model_name": "HTMLModel",
          "model_module_version": "1.5.0",
          "state": {
            "_dom_classes": [],
            "_model_module": "@jupyter-widgets/controls",
            "_model_module_version": "1.5.0",
            "_model_name": "HTMLModel",
            "_view_count": null,
            "_view_module": "@jupyter-widgets/controls",
            "_view_module_version": "1.5.0",
            "_view_name": "HTMLView",
            "description": "",
            "description_tooltip": null,
            "layout": "IPY_MODEL_0c23db3a46444140bb942785bf8ade19",
            "placeholder": "​",
            "style": "IPY_MODEL_8f940ef4f20340f3aabf5e2019b01e21",
            "value": " 1/1 [00:05&lt;00:00,  5.33s/it]"
          }
        },
        "97859ec8dd4e43b68119de1c88509db5": {
          "model_module": "@jupyter-widgets/base",
          "model_name": "LayoutModel",
          "model_module_version": "1.2.0",
          "state": {
            "_model_module": "@jupyter-widgets/base",
            "_model_module_version": "1.2.0",
            "_model_name": "LayoutModel",
            "_view_count": null,
            "_view_module": "@jupyter-widgets/base",
            "_view_module_version": "1.2.0",
            "_view_name": "LayoutView",
            "align_content": null,
            "align_items": null,
            "align_self": null,
            "border": null,
            "bottom": null,
            "display": null,
            "flex": null,
            "flex_flow": null,
            "grid_area": null,
            "grid_auto_columns": null,
            "grid_auto_flow": null,
            "grid_auto_rows": null,
            "grid_column": null,
            "grid_gap": null,
            "grid_row": null,
            "grid_template_areas": null,
            "grid_template_columns": null,
            "grid_template_rows": null,
            "height": null,
            "justify_content": null,
            "justify_items": null,
            "left": null,
            "margin": null,
            "max_height": null,
            "max_width": null,
            "min_height": null,
            "min_width": null,
            "object_fit": null,
            "object_position": null,
            "order": null,
            "overflow": null,
            "overflow_x": null,
            "overflow_y": null,
            "padding": null,
            "right": null,
            "top": null,
            "visibility": null,
            "width": null
          }
        },
        "878b27e819334a619ec91f782381c191": {
          "model_module": "@jupyter-widgets/base",
          "model_name": "LayoutModel",
          "model_module_version": "1.2.0",
          "state": {
            "_model_module": "@jupyter-widgets/base",
            "_model_module_version": "1.2.0",
            "_model_name": "LayoutModel",
            "_view_count": null,
            "_view_module": "@jupyter-widgets/base",
            "_view_module_version": "1.2.0",
            "_view_name": "LayoutView",
            "align_content": null,
            "align_items": null,
            "align_self": null,
            "border": null,
            "bottom": null,
            "display": null,
            "flex": null,
            "flex_flow": null,
            "grid_area": null,
            "grid_auto_columns": null,
            "grid_auto_flow": null,
            "grid_auto_rows": null,
            "grid_column": null,
            "grid_gap": null,
            "grid_row": null,
            "grid_template_areas": null,
            "grid_template_columns": null,
            "grid_template_rows": null,
            "height": null,
            "justify_content": null,
            "justify_items": null,
            "left": null,
            "margin": null,
            "max_height": null,
            "max_width": null,
            "min_height": null,
            "min_width": null,
            "object_fit": null,
            "object_position": null,
            "order": null,
            "overflow": null,
            "overflow_x": null,
            "overflow_y": null,
            "padding": null,
            "right": null,
            "top": null,
            "visibility": null,
            "width": null
          }
        },
        "a374fe80b7e4499eb64fa8ae25a0b097": {
          "model_module": "@jupyter-widgets/controls",
          "model_name": "DescriptionStyleModel",
          "model_module_version": "1.5.0",
          "state": {
            "_model_module": "@jupyter-widgets/controls",
            "_model_module_version": "1.5.0",
            "_model_name": "DescriptionStyleModel",
            "_view_count": null,
            "_view_module": "@jupyter-widgets/base",
            "_view_module_version": "1.2.0",
            "_view_name": "StyleView",
            "description_width": ""
          }
        },
        "52e0719bb1c14c4b8bdca1f9a67b24b3": {
          "model_module": "@jupyter-widgets/base",
          "model_name": "LayoutModel",
          "model_module_version": "1.2.0",
          "state": {
            "_model_module": "@jupyter-widgets/base",
            "_model_module_version": "1.2.0",
            "_model_name": "LayoutModel",
            "_view_count": null,
            "_view_module": "@jupyter-widgets/base",
            "_view_module_version": "1.2.0",
            "_view_name": "LayoutView",
            "align_content": null,
            "align_items": null,
            "align_self": null,
            "border": null,
            "bottom": null,
            "display": null,
            "flex": null,
            "flex_flow": null,
            "grid_area": null,
            "grid_auto_columns": null,
            "grid_auto_flow": null,
            "grid_auto_rows": null,
            "grid_column": null,
            "grid_gap": null,
            "grid_row": null,
            "grid_template_areas": null,
            "grid_template_columns": null,
            "grid_template_rows": null,
            "height": null,
            "justify_content": null,
            "justify_items": null,
            "left": null,
            "margin": null,
            "max_height": null,
            "max_width": null,
            "min_height": null,
            "min_width": null,
            "object_fit": null,
            "object_position": null,
            "order": null,
            "overflow": null,
            "overflow_x": null,
            "overflow_y": null,
            "padding": null,
            "right": null,
            "top": null,
            "visibility": null,
            "width": null
          }
        },
        "a20182e5054f4ef894038d247fec4fc2": {
          "model_module": "@jupyter-widgets/controls",
          "model_name": "ProgressStyleModel",
          "model_module_version": "1.5.0",
          "state": {
            "_model_module": "@jupyter-widgets/controls",
            "_model_module_version": "1.5.0",
            "_model_name": "ProgressStyleModel",
            "_view_count": null,
            "_view_module": "@jupyter-widgets/base",
            "_view_module_version": "1.2.0",
            "_view_name": "StyleView",
            "bar_color": null,
            "description_width": ""
          }
        },
        "0c23db3a46444140bb942785bf8ade19": {
          "model_module": "@jupyter-widgets/base",
          "model_name": "LayoutModel",
          "model_module_version": "1.2.0",
          "state": {
            "_model_module": "@jupyter-widgets/base",
            "_model_module_version": "1.2.0",
            "_model_name": "LayoutModel",
            "_view_count": null,
            "_view_module": "@jupyter-widgets/base",
            "_view_module_version": "1.2.0",
            "_view_name": "LayoutView",
            "align_content": null,
            "align_items": null,
            "align_self": null,
            "border": null,
            "bottom": null,
            "display": null,
            "flex": null,
            "flex_flow": null,
            "grid_area": null,
            "grid_auto_columns": null,
            "grid_auto_flow": null,
            "grid_auto_rows": null,
            "grid_column": null,
            "grid_gap": null,
            "grid_row": null,
            "grid_template_areas": null,
            "grid_template_columns": null,
            "grid_template_rows": null,
            "height": null,
            "justify_content": null,
            "justify_items": null,
            "left": null,
            "margin": null,
            "max_height": null,
            "max_width": null,
            "min_height": null,
            "min_width": null,
            "object_fit": null,
            "object_position": null,
            "order": null,
            "overflow": null,
            "overflow_x": null,
            "overflow_y": null,
            "padding": null,
            "right": null,
            "top": null,
            "visibility": null,
            "width": null
          }
        },
        "8f940ef4f20340f3aabf5e2019b01e21": {
          "model_module": "@jupyter-widgets/controls",
          "model_name": "DescriptionStyleModel",
          "model_module_version": "1.5.0",
          "state": {
            "_model_module": "@jupyter-widgets/controls",
            "_model_module_version": "1.5.0",
            "_model_name": "DescriptionStyleModel",
            "_view_count": null,
            "_view_module": "@jupyter-widgets/base",
            "_view_module_version": "1.2.0",
            "_view_name": "StyleView",
            "description_width": ""
          }
        },
        "7fb324f4696846d4b0e9fe9aa607b627": {
          "model_module": "@jupyter-widgets/controls",
          "model_name": "HBoxModel",
          "model_module_version": "1.5.0",
          "state": {
            "_dom_classes": [],
            "_model_module": "@jupyter-widgets/controls",
            "_model_module_version": "1.5.0",
            "_model_name": "HBoxModel",
            "_view_count": null,
            "_view_module": "@jupyter-widgets/controls",
            "_view_module_version": "1.5.0",
            "_view_name": "HBoxView",
            "box_style": "",
            "children": [
              "IPY_MODEL_dee18b6bd1234bb791cc5bd83ee5c61e",
              "IPY_MODEL_52c99f3066a749e584837b85a75324c9",
              "IPY_MODEL_e2e62c0d014347ae802e4f0179acf06a"
            ],
            "layout": "IPY_MODEL_73a13433fafa42de80b16cbf21269fe0"
          }
        },
        "dee18b6bd1234bb791cc5bd83ee5c61e": {
          "model_module": "@jupyter-widgets/controls",
          "model_name": "HTMLModel",
          "model_module_version": "1.5.0",
          "state": {
            "_dom_classes": [],
            "_model_module": "@jupyter-widgets/controls",
            "_model_module_version": "1.5.0",
            "_model_name": "HTMLModel",
            "_view_count": null,
            "_view_module": "@jupyter-widgets/controls",
            "_view_module_version": "1.5.0",
            "_view_name": "HTMLView",
            "description": "",
            "description_tooltip": null,
            "layout": "IPY_MODEL_839906acc54944b28eb684353cadcb8b",
            "placeholder": "​",
            "style": "IPY_MODEL_d7bfb50a4b0947f099122ab87196e14c",
            "value": "Render HTML: 100%"
          }
        },
        "52c99f3066a749e584837b85a75324c9": {
          "model_module": "@jupyter-widgets/controls",
          "model_name": "FloatProgressModel",
          "model_module_version": "1.5.0",
          "state": {
            "_dom_classes": [],
            "_model_module": "@jupyter-widgets/controls",
            "_model_module_version": "1.5.0",
            "_model_name": "FloatProgressModel",
            "_view_count": null,
            "_view_module": "@jupyter-widgets/controls",
            "_view_module_version": "1.5.0",
            "_view_name": "ProgressView",
            "bar_style": "success",
            "description": "",
            "description_tooltip": null,
            "layout": "IPY_MODEL_ef7f86331b874cb9b5114bbf7727cdfe",
            "max": 1,
            "min": 0,
            "orientation": "horizontal",
            "style": "IPY_MODEL_3c700c7ef97747f4a3643e21b0d10ee4",
            "value": 1
          }
        },
        "e2e62c0d014347ae802e4f0179acf06a": {
          "model_module": "@jupyter-widgets/controls",
          "model_name": "HTMLModel",
          "model_module_version": "1.5.0",
          "state": {
            "_dom_classes": [],
            "_model_module": "@jupyter-widgets/controls",
            "_model_module_version": "1.5.0",
            "_model_name": "HTMLModel",
            "_view_count": null,
            "_view_module": "@jupyter-widgets/controls",
            "_view_module_version": "1.5.0",
            "_view_name": "HTMLView",
            "description": "",
            "description_tooltip": null,
            "layout": "IPY_MODEL_08f5e7006c7f4ef6b1574b778c6d71eb",
            "placeholder": "​",
            "style": "IPY_MODEL_d0e7eebc316b4d99bfb078dbb0d508e8",
            "value": " 1/1 [00:01&lt;00:00,  1.60s/it]"
          }
        },
        "73a13433fafa42de80b16cbf21269fe0": {
          "model_module": "@jupyter-widgets/base",
          "model_name": "LayoutModel",
          "model_module_version": "1.2.0",
          "state": {
            "_model_module": "@jupyter-widgets/base",
            "_model_module_version": "1.2.0",
            "_model_name": "LayoutModel",
            "_view_count": null,
            "_view_module": "@jupyter-widgets/base",
            "_view_module_version": "1.2.0",
            "_view_name": "LayoutView",
            "align_content": null,
            "align_items": null,
            "align_self": null,
            "border": null,
            "bottom": null,
            "display": null,
            "flex": null,
            "flex_flow": null,
            "grid_area": null,
            "grid_auto_columns": null,
            "grid_auto_flow": null,
            "grid_auto_rows": null,
            "grid_column": null,
            "grid_gap": null,
            "grid_row": null,
            "grid_template_areas": null,
            "grid_template_columns": null,
            "grid_template_rows": null,
            "height": null,
            "justify_content": null,
            "justify_items": null,
            "left": null,
            "margin": null,
            "max_height": null,
            "max_width": null,
            "min_height": null,
            "min_width": null,
            "object_fit": null,
            "object_position": null,
            "order": null,
            "overflow": null,
            "overflow_x": null,
            "overflow_y": null,
            "padding": null,
            "right": null,
            "top": null,
            "visibility": null,
            "width": null
          }
        },
        "839906acc54944b28eb684353cadcb8b": {
          "model_module": "@jupyter-widgets/base",
          "model_name": "LayoutModel",
          "model_module_version": "1.2.0",
          "state": {
            "_model_module": "@jupyter-widgets/base",
            "_model_module_version": "1.2.0",
            "_model_name": "LayoutModel",
            "_view_count": null,
            "_view_module": "@jupyter-widgets/base",
            "_view_module_version": "1.2.0",
            "_view_name": "LayoutView",
            "align_content": null,
            "align_items": null,
            "align_self": null,
            "border": null,
            "bottom": null,
            "display": null,
            "flex": null,
            "flex_flow": null,
            "grid_area": null,
            "grid_auto_columns": null,
            "grid_auto_flow": null,
            "grid_auto_rows": null,
            "grid_column": null,
            "grid_gap": null,
            "grid_row": null,
            "grid_template_areas": null,
            "grid_template_columns": null,
            "grid_template_rows": null,
            "height": null,
            "justify_content": null,
            "justify_items": null,
            "left": null,
            "margin": null,
            "max_height": null,
            "max_width": null,
            "min_height": null,
            "min_width": null,
            "object_fit": null,
            "object_position": null,
            "order": null,
            "overflow": null,
            "overflow_x": null,
            "overflow_y": null,
            "padding": null,
            "right": null,
            "top": null,
            "visibility": null,
            "width": null
          }
        },
        "d7bfb50a4b0947f099122ab87196e14c": {
          "model_module": "@jupyter-widgets/controls",
          "model_name": "DescriptionStyleModel",
          "model_module_version": "1.5.0",
          "state": {
            "_model_module": "@jupyter-widgets/controls",
            "_model_module_version": "1.5.0",
            "_model_name": "DescriptionStyleModel",
            "_view_count": null,
            "_view_module": "@jupyter-widgets/base",
            "_view_module_version": "1.2.0",
            "_view_name": "StyleView",
            "description_width": ""
          }
        },
        "ef7f86331b874cb9b5114bbf7727cdfe": {
          "model_module": "@jupyter-widgets/base",
          "model_name": "LayoutModel",
          "model_module_version": "1.2.0",
          "state": {
            "_model_module": "@jupyter-widgets/base",
            "_model_module_version": "1.2.0",
            "_model_name": "LayoutModel",
            "_view_count": null,
            "_view_module": "@jupyter-widgets/base",
            "_view_module_version": "1.2.0",
            "_view_name": "LayoutView",
            "align_content": null,
            "align_items": null,
            "align_self": null,
            "border": null,
            "bottom": null,
            "display": null,
            "flex": null,
            "flex_flow": null,
            "grid_area": null,
            "grid_auto_columns": null,
            "grid_auto_flow": null,
            "grid_auto_rows": null,
            "grid_column": null,
            "grid_gap": null,
            "grid_row": null,
            "grid_template_areas": null,
            "grid_template_columns": null,
            "grid_template_rows": null,
            "height": null,
            "justify_content": null,
            "justify_items": null,
            "left": null,
            "margin": null,
            "max_height": null,
            "max_width": null,
            "min_height": null,
            "min_width": null,
            "object_fit": null,
            "object_position": null,
            "order": null,
            "overflow": null,
            "overflow_x": null,
            "overflow_y": null,
            "padding": null,
            "right": null,
            "top": null,
            "visibility": null,
            "width": null
          }
        },
        "3c700c7ef97747f4a3643e21b0d10ee4": {
          "model_module": "@jupyter-widgets/controls",
          "model_name": "ProgressStyleModel",
          "model_module_version": "1.5.0",
          "state": {
            "_model_module": "@jupyter-widgets/controls",
            "_model_module_version": "1.5.0",
            "_model_name": "ProgressStyleModel",
            "_view_count": null,
            "_view_module": "@jupyter-widgets/base",
            "_view_module_version": "1.2.0",
            "_view_name": "StyleView",
            "bar_color": null,
            "description_width": ""
          }
        },
        "08f5e7006c7f4ef6b1574b778c6d71eb": {
          "model_module": "@jupyter-widgets/base",
          "model_name": "LayoutModel",
          "model_module_version": "1.2.0",
          "state": {
            "_model_module": "@jupyter-widgets/base",
            "_model_module_version": "1.2.0",
            "_model_name": "LayoutModel",
            "_view_count": null,
            "_view_module": "@jupyter-widgets/base",
            "_view_module_version": "1.2.0",
            "_view_name": "LayoutView",
            "align_content": null,
            "align_items": null,
            "align_self": null,
            "border": null,
            "bottom": null,
            "display": null,
            "flex": null,
            "flex_flow": null,
            "grid_area": null,
            "grid_auto_columns": null,
            "grid_auto_flow": null,
            "grid_auto_rows": null,
            "grid_column": null,
            "grid_gap": null,
            "grid_row": null,
            "grid_template_areas": null,
            "grid_template_columns": null,
            "grid_template_rows": null,
            "height": null,
            "justify_content": null,
            "justify_items": null,
            "left": null,
            "margin": null,
            "max_height": null,
            "max_width": null,
            "min_height": null,
            "min_width": null,
            "object_fit": null,
            "object_position": null,
            "order": null,
            "overflow": null,
            "overflow_x": null,
            "overflow_y": null,
            "padding": null,
            "right": null,
            "top": null,
            "visibility": null,
            "width": null
          }
        },
        "d0e7eebc316b4d99bfb078dbb0d508e8": {
          "model_module": "@jupyter-widgets/controls",
          "model_name": "DescriptionStyleModel",
          "model_module_version": "1.5.0",
          "state": {
            "_model_module": "@jupyter-widgets/controls",
            "_model_module_version": "1.5.0",
            "_model_name": "DescriptionStyleModel",
            "_view_count": null,
            "_view_module": "@jupyter-widgets/base",
            "_view_module_version": "1.2.0",
            "_view_name": "StyleView",
            "description_width": ""
          }
        },
        "98f010b4084445989ecea7f36ebeb321": {
          "model_module": "@jupyter-widgets/controls",
          "model_name": "HBoxModel",
          "model_module_version": "1.5.0",
          "state": {
            "_dom_classes": [],
            "_model_module": "@jupyter-widgets/controls",
            "_model_module_version": "1.5.0",
            "_model_name": "HBoxModel",
            "_view_count": null,
            "_view_module": "@jupyter-widgets/controls",
            "_view_module_version": "1.5.0",
            "_view_name": "HBoxView",
            "box_style": "",
            "children": [
              "IPY_MODEL_ef26d11cca864b139e2ec4a86750d224",
              "IPY_MODEL_771c11c89b484efcbfe139efb310b042",
              "IPY_MODEL_0b3016873982465c8db830bee9cca1e5"
            ],
            "layout": "IPY_MODEL_f043fa08598b4d0fb0c89b7c76f425cd"
          }
        },
        "ef26d11cca864b139e2ec4a86750d224": {
          "model_module": "@jupyter-widgets/controls",
          "model_name": "HTMLModel",
          "model_module_version": "1.5.0",
          "state": {
            "_dom_classes": [],
            "_model_module": "@jupyter-widgets/controls",
            "_model_module_version": "1.5.0",
            "_model_name": "HTMLModel",
            "_view_count": null,
            "_view_module": "@jupyter-widgets/controls",
            "_view_module_version": "1.5.0",
            "_view_name": "HTMLView",
            "description": "",
            "description_tooltip": null,
            "layout": "IPY_MODEL_892b198c48274576b9606c42f6a9baa1",
            "placeholder": "​",
            "style": "IPY_MODEL_73a021171cab455faf83a9e60fa387d1",
            "value": "Export report to file: 100%"
          }
        },
        "771c11c89b484efcbfe139efb310b042": {
          "model_module": "@jupyter-widgets/controls",
          "model_name": "FloatProgressModel",
          "model_module_version": "1.5.0",
          "state": {
            "_dom_classes": [],
            "_model_module": "@jupyter-widgets/controls",
            "_model_module_version": "1.5.0",
            "_model_name": "FloatProgressModel",
            "_view_count": null,
            "_view_module": "@jupyter-widgets/controls",
            "_view_module_version": "1.5.0",
            "_view_name": "ProgressView",
            "bar_style": "success",
            "description": "",
            "description_tooltip": null,
            "layout": "IPY_MODEL_792f5f5d39264fc1b956685f5641349d",
            "max": 1,
            "min": 0,
            "orientation": "horizontal",
            "style": "IPY_MODEL_93f4b67abeae456289956fb2d568ab60",
            "value": 1
          }
        },
        "0b3016873982465c8db830bee9cca1e5": {
          "model_module": "@jupyter-widgets/controls",
          "model_name": "HTMLModel",
          "model_module_version": "1.5.0",
          "state": {
            "_dom_classes": [],
            "_model_module": "@jupyter-widgets/controls",
            "_model_module_version": "1.5.0",
            "_model_name": "HTMLModel",
            "_view_count": null,
            "_view_module": "@jupyter-widgets/controls",
            "_view_module_version": "1.5.0",
            "_view_name": "HTMLView",
            "description": "",
            "description_tooltip": null,
            "layout": "IPY_MODEL_2208d6e08bd141339a2b9e582f25c600",
            "placeholder": "​",
            "style": "IPY_MODEL_004402fdeede468189b91e73da302c6f",
            "value": " 1/1 [00:00&lt;00:00, 17.00it/s]"
          }
        },
        "f043fa08598b4d0fb0c89b7c76f425cd": {
          "model_module": "@jupyter-widgets/base",
          "model_name": "LayoutModel",
          "model_module_version": "1.2.0",
          "state": {
            "_model_module": "@jupyter-widgets/base",
            "_model_module_version": "1.2.0",
            "_model_name": "LayoutModel",
            "_view_count": null,
            "_view_module": "@jupyter-widgets/base",
            "_view_module_version": "1.2.0",
            "_view_name": "LayoutView",
            "align_content": null,
            "align_items": null,
            "align_self": null,
            "border": null,
            "bottom": null,
            "display": null,
            "flex": null,
            "flex_flow": null,
            "grid_area": null,
            "grid_auto_columns": null,
            "grid_auto_flow": null,
            "grid_auto_rows": null,
            "grid_column": null,
            "grid_gap": null,
            "grid_row": null,
            "grid_template_areas": null,
            "grid_template_columns": null,
            "grid_template_rows": null,
            "height": null,
            "justify_content": null,
            "justify_items": null,
            "left": null,
            "margin": null,
            "max_height": null,
            "max_width": null,
            "min_height": null,
            "min_width": null,
            "object_fit": null,
            "object_position": null,
            "order": null,
            "overflow": null,
            "overflow_x": null,
            "overflow_y": null,
            "padding": null,
            "right": null,
            "top": null,
            "visibility": null,
            "width": null
          }
        },
        "892b198c48274576b9606c42f6a9baa1": {
          "model_module": "@jupyter-widgets/base",
          "model_name": "LayoutModel",
          "model_module_version": "1.2.0",
          "state": {
            "_model_module": "@jupyter-widgets/base",
            "_model_module_version": "1.2.0",
            "_model_name": "LayoutModel",
            "_view_count": null,
            "_view_module": "@jupyter-widgets/base",
            "_view_module_version": "1.2.0",
            "_view_name": "LayoutView",
            "align_content": null,
            "align_items": null,
            "align_self": null,
            "border": null,
            "bottom": null,
            "display": null,
            "flex": null,
            "flex_flow": null,
            "grid_area": null,
            "grid_auto_columns": null,
            "grid_auto_flow": null,
            "grid_auto_rows": null,
            "grid_column": null,
            "grid_gap": null,
            "grid_row": null,
            "grid_template_areas": null,
            "grid_template_columns": null,
            "grid_template_rows": null,
            "height": null,
            "justify_content": null,
            "justify_items": null,
            "left": null,
            "margin": null,
            "max_height": null,
            "max_width": null,
            "min_height": null,
            "min_width": null,
            "object_fit": null,
            "object_position": null,
            "order": null,
            "overflow": null,
            "overflow_x": null,
            "overflow_y": null,
            "padding": null,
            "right": null,
            "top": null,
            "visibility": null,
            "width": null
          }
        },
        "73a021171cab455faf83a9e60fa387d1": {
          "model_module": "@jupyter-widgets/controls",
          "model_name": "DescriptionStyleModel",
          "model_module_version": "1.5.0",
          "state": {
            "_model_module": "@jupyter-widgets/controls",
            "_model_module_version": "1.5.0",
            "_model_name": "DescriptionStyleModel",
            "_view_count": null,
            "_view_module": "@jupyter-widgets/base",
            "_view_module_version": "1.2.0",
            "_view_name": "StyleView",
            "description_width": ""
          }
        },
        "792f5f5d39264fc1b956685f5641349d": {
          "model_module": "@jupyter-widgets/base",
          "model_name": "LayoutModel",
          "model_module_version": "1.2.0",
          "state": {
            "_model_module": "@jupyter-widgets/base",
            "_model_module_version": "1.2.0",
            "_model_name": "LayoutModel",
            "_view_count": null,
            "_view_module": "@jupyter-widgets/base",
            "_view_module_version": "1.2.0",
            "_view_name": "LayoutView",
            "align_content": null,
            "align_items": null,
            "align_self": null,
            "border": null,
            "bottom": null,
            "display": null,
            "flex": null,
            "flex_flow": null,
            "grid_area": null,
            "grid_auto_columns": null,
            "grid_auto_flow": null,
            "grid_auto_rows": null,
            "grid_column": null,
            "grid_gap": null,
            "grid_row": null,
            "grid_template_areas": null,
            "grid_template_columns": null,
            "grid_template_rows": null,
            "height": null,
            "justify_content": null,
            "justify_items": null,
            "left": null,
            "margin": null,
            "max_height": null,
            "max_width": null,
            "min_height": null,
            "min_width": null,
            "object_fit": null,
            "object_position": null,
            "order": null,
            "overflow": null,
            "overflow_x": null,
            "overflow_y": null,
            "padding": null,
            "right": null,
            "top": null,
            "visibility": null,
            "width": null
          }
        },
        "93f4b67abeae456289956fb2d568ab60": {
          "model_module": "@jupyter-widgets/controls",
          "model_name": "ProgressStyleModel",
          "model_module_version": "1.5.0",
          "state": {
            "_model_module": "@jupyter-widgets/controls",
            "_model_module_version": "1.5.0",
            "_model_name": "ProgressStyleModel",
            "_view_count": null,
            "_view_module": "@jupyter-widgets/base",
            "_view_module_version": "1.2.0",
            "_view_name": "StyleView",
            "bar_color": null,
            "description_width": ""
          }
        },
        "2208d6e08bd141339a2b9e582f25c600": {
          "model_module": "@jupyter-widgets/base",
          "model_name": "LayoutModel",
          "model_module_version": "1.2.0",
          "state": {
            "_model_module": "@jupyter-widgets/base",
            "_model_module_version": "1.2.0",
            "_model_name": "LayoutModel",
            "_view_count": null,
            "_view_module": "@jupyter-widgets/base",
            "_view_module_version": "1.2.0",
            "_view_name": "LayoutView",
            "align_content": null,
            "align_items": null,
            "align_self": null,
            "border": null,
            "bottom": null,
            "display": null,
            "flex": null,
            "flex_flow": null,
            "grid_area": null,
            "grid_auto_columns": null,
            "grid_auto_flow": null,
            "grid_auto_rows": null,
            "grid_column": null,
            "grid_gap": null,
            "grid_row": null,
            "grid_template_areas": null,
            "grid_template_columns": null,
            "grid_template_rows": null,
            "height": null,
            "justify_content": null,
            "justify_items": null,
            "left": null,
            "margin": null,
            "max_height": null,
            "max_width": null,
            "min_height": null,
            "min_width": null,
            "object_fit": null,
            "object_position": null,
            "order": null,
            "overflow": null,
            "overflow_x": null,
            "overflow_y": null,
            "padding": null,
            "right": null,
            "top": null,
            "visibility": null,
            "width": null
          }
        },
        "004402fdeede468189b91e73da302c6f": {
          "model_module": "@jupyter-widgets/controls",
          "model_name": "DescriptionStyleModel",
          "model_module_version": "1.5.0",
          "state": {
            "_model_module": "@jupyter-widgets/controls",
            "_model_module_version": "1.5.0",
            "_model_name": "DescriptionStyleModel",
            "_view_count": null,
            "_view_module": "@jupyter-widgets/base",
            "_view_module_version": "1.2.0",
            "_view_name": "StyleView",
            "description_width": ""
          }
        },
        "35da579a978c4c0c9ca623e5bedd6fef": {
          "model_module": "@jupyter-widgets/controls",
          "model_name": "HBoxModel",
          "model_module_version": "1.5.0",
          "state": {
            "_dom_classes": [],
            "_model_module": "@jupyter-widgets/controls",
            "_model_module_version": "1.5.0",
            "_model_name": "HBoxModel",
            "_view_count": null,
            "_view_module": "@jupyter-widgets/controls",
            "_view_module_version": "1.5.0",
            "_view_name": "HBoxView",
            "box_style": "",
            "children": [
              "IPY_MODEL_14f8f8d78d384eeca0bada1aea0fc20c",
              "IPY_MODEL_38e45b4cb1fc4c2789e52347811c5dc7",
              "IPY_MODEL_3f7468193efb43bb9f678b9d8c02d5fe"
            ],
            "layout": "IPY_MODEL_77083038290e4723812f6e122e734d39"
          }
        },
        "14f8f8d78d384eeca0bada1aea0fc20c": {
          "model_module": "@jupyter-widgets/controls",
          "model_name": "HTMLModel",
          "model_module_version": "1.5.0",
          "state": {
            "_dom_classes": [],
            "_model_module": "@jupyter-widgets/controls",
            "_model_module_version": "1.5.0",
            "_model_name": "HTMLModel",
            "_view_count": null,
            "_view_module": "@jupyter-widgets/controls",
            "_view_module_version": "1.5.0",
            "_view_name": "HTMLView",
            "description": "",
            "description_tooltip": null,
            "layout": "IPY_MODEL_7705fbdc6f9845bcb0a0122077c4993c",
            "placeholder": "​",
            "style": "IPY_MODEL_a3d91b77e5ac441ca001f5e08f622a00",
            "value": "Summarize dataset: 100%"
          }
        },
        "38e45b4cb1fc4c2789e52347811c5dc7": {
          "model_module": "@jupyter-widgets/controls",
          "model_name": "FloatProgressModel",
          "model_module_version": "1.5.0",
          "state": {
            "_dom_classes": [],
            "_model_module": "@jupyter-widgets/controls",
            "_model_module_version": "1.5.0",
            "_model_name": "FloatProgressModel",
            "_view_count": null,
            "_view_module": "@jupyter-widgets/controls",
            "_view_module_version": "1.5.0",
            "_view_name": "ProgressView",
            "bar_style": "success",
            "description": "",
            "description_tooltip": null,
            "layout": "IPY_MODEL_bc31ad6fc58b460eb69c8dbb5370b9ec",
            "max": 5,
            "min": 0,
            "orientation": "horizontal",
            "style": "IPY_MODEL_5f2fef02e94242e1af3ca1b8da05166a",
            "value": 5
          }
        },
        "3f7468193efb43bb9f678b9d8c02d5fe": {
          "model_module": "@jupyter-widgets/controls",
          "model_name": "HTMLModel",
          "model_module_version": "1.5.0",
          "state": {
            "_dom_classes": [],
            "_model_module": "@jupyter-widgets/controls",
            "_model_module_version": "1.5.0",
            "_model_name": "HTMLModel",
            "_view_count": null,
            "_view_module": "@jupyter-widgets/controls",
            "_view_module_version": "1.5.0",
            "_view_name": "HTMLView",
            "description": "",
            "description_tooltip": null,
            "layout": "IPY_MODEL_95e9aee5d31c44888ef21c75b1bdef36",
            "placeholder": "​",
            "style": "IPY_MODEL_b85449301ab74f058c7f7f9fe1314041",
            "value": " 31/31 [00:10&lt;00:00,  1.86it/s, Completed]"
          }
        },
        "77083038290e4723812f6e122e734d39": {
          "model_module": "@jupyter-widgets/base",
          "model_name": "LayoutModel",
          "model_module_version": "1.2.0",
          "state": {
            "_model_module": "@jupyter-widgets/base",
            "_model_module_version": "1.2.0",
            "_model_name": "LayoutModel",
            "_view_count": null,
            "_view_module": "@jupyter-widgets/base",
            "_view_module_version": "1.2.0",
            "_view_name": "LayoutView",
            "align_content": null,
            "align_items": null,
            "align_self": null,
            "border": null,
            "bottom": null,
            "display": null,
            "flex": null,
            "flex_flow": null,
            "grid_area": null,
            "grid_auto_columns": null,
            "grid_auto_flow": null,
            "grid_auto_rows": null,
            "grid_column": null,
            "grid_gap": null,
            "grid_row": null,
            "grid_template_areas": null,
            "grid_template_columns": null,
            "grid_template_rows": null,
            "height": null,
            "justify_content": null,
            "justify_items": null,
            "left": null,
            "margin": null,
            "max_height": null,
            "max_width": null,
            "min_height": null,
            "min_width": null,
            "object_fit": null,
            "object_position": null,
            "order": null,
            "overflow": null,
            "overflow_x": null,
            "overflow_y": null,
            "padding": null,
            "right": null,
            "top": null,
            "visibility": null,
            "width": null
          }
        },
        "7705fbdc6f9845bcb0a0122077c4993c": {
          "model_module": "@jupyter-widgets/base",
          "model_name": "LayoutModel",
          "model_module_version": "1.2.0",
          "state": {
            "_model_module": "@jupyter-widgets/base",
            "_model_module_version": "1.2.0",
            "_model_name": "LayoutModel",
            "_view_count": null,
            "_view_module": "@jupyter-widgets/base",
            "_view_module_version": "1.2.0",
            "_view_name": "LayoutView",
            "align_content": null,
            "align_items": null,
            "align_self": null,
            "border": null,
            "bottom": null,
            "display": null,
            "flex": null,
            "flex_flow": null,
            "grid_area": null,
            "grid_auto_columns": null,
            "grid_auto_flow": null,
            "grid_auto_rows": null,
            "grid_column": null,
            "grid_gap": null,
            "grid_row": null,
            "grid_template_areas": null,
            "grid_template_columns": null,
            "grid_template_rows": null,
            "height": null,
            "justify_content": null,
            "justify_items": null,
            "left": null,
            "margin": null,
            "max_height": null,
            "max_width": null,
            "min_height": null,
            "min_width": null,
            "object_fit": null,
            "object_position": null,
            "order": null,
            "overflow": null,
            "overflow_x": null,
            "overflow_y": null,
            "padding": null,
            "right": null,
            "top": null,
            "visibility": null,
            "width": null
          }
        },
        "a3d91b77e5ac441ca001f5e08f622a00": {
          "model_module": "@jupyter-widgets/controls",
          "model_name": "DescriptionStyleModel",
          "model_module_version": "1.5.0",
          "state": {
            "_model_module": "@jupyter-widgets/controls",
            "_model_module_version": "1.5.0",
            "_model_name": "DescriptionStyleModel",
            "_view_count": null,
            "_view_module": "@jupyter-widgets/base",
            "_view_module_version": "1.2.0",
            "_view_name": "StyleView",
            "description_width": ""
          }
        },
        "bc31ad6fc58b460eb69c8dbb5370b9ec": {
          "model_module": "@jupyter-widgets/base",
          "model_name": "LayoutModel",
          "model_module_version": "1.2.0",
          "state": {
            "_model_module": "@jupyter-widgets/base",
            "_model_module_version": "1.2.0",
            "_model_name": "LayoutModel",
            "_view_count": null,
            "_view_module": "@jupyter-widgets/base",
            "_view_module_version": "1.2.0",
            "_view_name": "LayoutView",
            "align_content": null,
            "align_items": null,
            "align_self": null,
            "border": null,
            "bottom": null,
            "display": null,
            "flex": null,
            "flex_flow": null,
            "grid_area": null,
            "grid_auto_columns": null,
            "grid_auto_flow": null,
            "grid_auto_rows": null,
            "grid_column": null,
            "grid_gap": null,
            "grid_row": null,
            "grid_template_areas": null,
            "grid_template_columns": null,
            "grid_template_rows": null,
            "height": null,
            "justify_content": null,
            "justify_items": null,
            "left": null,
            "margin": null,
            "max_height": null,
            "max_width": null,
            "min_height": null,
            "min_width": null,
            "object_fit": null,
            "object_position": null,
            "order": null,
            "overflow": null,
            "overflow_x": null,
            "overflow_y": null,
            "padding": null,
            "right": null,
            "top": null,
            "visibility": null,
            "width": null
          }
        },
        "5f2fef02e94242e1af3ca1b8da05166a": {
          "model_module": "@jupyter-widgets/controls",
          "model_name": "ProgressStyleModel",
          "model_module_version": "1.5.0",
          "state": {
            "_model_module": "@jupyter-widgets/controls",
            "_model_module_version": "1.5.0",
            "_model_name": "ProgressStyleModel",
            "_view_count": null,
            "_view_module": "@jupyter-widgets/base",
            "_view_module_version": "1.2.0",
            "_view_name": "StyleView",
            "bar_color": null,
            "description_width": ""
          }
        },
        "95e9aee5d31c44888ef21c75b1bdef36": {
          "model_module": "@jupyter-widgets/base",
          "model_name": "LayoutModel",
          "model_module_version": "1.2.0",
          "state": {
            "_model_module": "@jupyter-widgets/base",
            "_model_module_version": "1.2.0",
            "_model_name": "LayoutModel",
            "_view_count": null,
            "_view_module": "@jupyter-widgets/base",
            "_view_module_version": "1.2.0",
            "_view_name": "LayoutView",
            "align_content": null,
            "align_items": null,
            "align_self": null,
            "border": null,
            "bottom": null,
            "display": null,
            "flex": null,
            "flex_flow": null,
            "grid_area": null,
            "grid_auto_columns": null,
            "grid_auto_flow": null,
            "grid_auto_rows": null,
            "grid_column": null,
            "grid_gap": null,
            "grid_row": null,
            "grid_template_areas": null,
            "grid_template_columns": null,
            "grid_template_rows": null,
            "height": null,
            "justify_content": null,
            "justify_items": null,
            "left": null,
            "margin": null,
            "max_height": null,
            "max_width": null,
            "min_height": null,
            "min_width": null,
            "object_fit": null,
            "object_position": null,
            "order": null,
            "overflow": null,
            "overflow_x": null,
            "overflow_y": null,
            "padding": null,
            "right": null,
            "top": null,
            "visibility": null,
            "width": null
          }
        },
        "b85449301ab74f058c7f7f9fe1314041": {
          "model_module": "@jupyter-widgets/controls",
          "model_name": "DescriptionStyleModel",
          "model_module_version": "1.5.0",
          "state": {
            "_model_module": "@jupyter-widgets/controls",
            "_model_module_version": "1.5.0",
            "_model_name": "DescriptionStyleModel",
            "_view_count": null,
            "_view_module": "@jupyter-widgets/base",
            "_view_module_version": "1.2.0",
            "_view_name": "StyleView",
            "description_width": ""
          }
        },
        "9b1d79b247cf487996084868ec73f368": {
          "model_module": "@jupyter-widgets/controls",
          "model_name": "HBoxModel",
          "model_module_version": "1.5.0",
          "state": {
            "_dom_classes": [],
            "_model_module": "@jupyter-widgets/controls",
            "_model_module_version": "1.5.0",
            "_model_name": "HBoxModel",
            "_view_count": null,
            "_view_module": "@jupyter-widgets/controls",
            "_view_module_version": "1.5.0",
            "_view_name": "HBoxView",
            "box_style": "",
            "children": [
              "IPY_MODEL_dcf303d3c7ae4590ab22e7dee703c00d",
              "IPY_MODEL_a0eaea825b394d309f05bf4514d223b0",
              "IPY_MODEL_1e36ff7ae6684b5a9586a271751115e8"
            ],
            "layout": "IPY_MODEL_9a1c5454786f4528899f04a5860c425c"
          }
        },
        "dcf303d3c7ae4590ab22e7dee703c00d": {
          "model_module": "@jupyter-widgets/controls",
          "model_name": "HTMLModel",
          "model_module_version": "1.5.0",
          "state": {
            "_dom_classes": [],
            "_model_module": "@jupyter-widgets/controls",
            "_model_module_version": "1.5.0",
            "_model_name": "HTMLModel",
            "_view_count": null,
            "_view_module": "@jupyter-widgets/controls",
            "_view_module_version": "1.5.0",
            "_view_name": "HTMLView",
            "description": "",
            "description_tooltip": null,
            "layout": "IPY_MODEL_c4a7b2c9ab744e9591e51b3178a86ef3",
            "placeholder": "​",
            "style": "IPY_MODEL_a996a5074f3344d683469f2f46a13e0c",
            "value": "Generate report structure: 100%"
          }
        },
        "a0eaea825b394d309f05bf4514d223b0": {
          "model_module": "@jupyter-widgets/controls",
          "model_name": "FloatProgressModel",
          "model_module_version": "1.5.0",
          "state": {
            "_dom_classes": [],
            "_model_module": "@jupyter-widgets/controls",
            "_model_module_version": "1.5.0",
            "_model_name": "FloatProgressModel",
            "_view_count": null,
            "_view_module": "@jupyter-widgets/controls",
            "_view_module_version": "1.5.0",
            "_view_name": "ProgressView",
            "bar_style": "success",
            "description": "",
            "description_tooltip": null,
            "layout": "IPY_MODEL_14215ba14ffd432cad703dc988993337",
            "max": 1,
            "min": 0,
            "orientation": "horizontal",
            "style": "IPY_MODEL_92e3b9defa064796961eb7252c12e434",
            "value": 1
          }
        },
        "1e36ff7ae6684b5a9586a271751115e8": {
          "model_module": "@jupyter-widgets/controls",
          "model_name": "HTMLModel",
          "model_module_version": "1.5.0",
          "state": {
            "_dom_classes": [],
            "_model_module": "@jupyter-widgets/controls",
            "_model_module_version": "1.5.0",
            "_model_name": "HTMLModel",
            "_view_count": null,
            "_view_module": "@jupyter-widgets/controls",
            "_view_module_version": "1.5.0",
            "_view_name": "HTMLView",
            "description": "",
            "description_tooltip": null,
            "layout": "IPY_MODEL_ae0b2f61d7124167998d3060ed6b9250",
            "placeholder": "​",
            "style": "IPY_MODEL_f49515e29e034ef3bbe9e682c1b19147",
            "value": " 1/1 [00:04&lt;00:00,  4.55s/it]"
          }
        },
        "9a1c5454786f4528899f04a5860c425c": {
          "model_module": "@jupyter-widgets/base",
          "model_name": "LayoutModel",
          "model_module_version": "1.2.0",
          "state": {
            "_model_module": "@jupyter-widgets/base",
            "_model_module_version": "1.2.0",
            "_model_name": "LayoutModel",
            "_view_count": null,
            "_view_module": "@jupyter-widgets/base",
            "_view_module_version": "1.2.0",
            "_view_name": "LayoutView",
            "align_content": null,
            "align_items": null,
            "align_self": null,
            "border": null,
            "bottom": null,
            "display": null,
            "flex": null,
            "flex_flow": null,
            "grid_area": null,
            "grid_auto_columns": null,
            "grid_auto_flow": null,
            "grid_auto_rows": null,
            "grid_column": null,
            "grid_gap": null,
            "grid_row": null,
            "grid_template_areas": null,
            "grid_template_columns": null,
            "grid_template_rows": null,
            "height": null,
            "justify_content": null,
            "justify_items": null,
            "left": null,
            "margin": null,
            "max_height": null,
            "max_width": null,
            "min_height": null,
            "min_width": null,
            "object_fit": null,
            "object_position": null,
            "order": null,
            "overflow": null,
            "overflow_x": null,
            "overflow_y": null,
            "padding": null,
            "right": null,
            "top": null,
            "visibility": null,
            "width": null
          }
        },
        "c4a7b2c9ab744e9591e51b3178a86ef3": {
          "model_module": "@jupyter-widgets/base",
          "model_name": "LayoutModel",
          "model_module_version": "1.2.0",
          "state": {
            "_model_module": "@jupyter-widgets/base",
            "_model_module_version": "1.2.0",
            "_model_name": "LayoutModel",
            "_view_count": null,
            "_view_module": "@jupyter-widgets/base",
            "_view_module_version": "1.2.0",
            "_view_name": "LayoutView",
            "align_content": null,
            "align_items": null,
            "align_self": null,
            "border": null,
            "bottom": null,
            "display": null,
            "flex": null,
            "flex_flow": null,
            "grid_area": null,
            "grid_auto_columns": null,
            "grid_auto_flow": null,
            "grid_auto_rows": null,
            "grid_column": null,
            "grid_gap": null,
            "grid_row": null,
            "grid_template_areas": null,
            "grid_template_columns": null,
            "grid_template_rows": null,
            "height": null,
            "justify_content": null,
            "justify_items": null,
            "left": null,
            "margin": null,
            "max_height": null,
            "max_width": null,
            "min_height": null,
            "min_width": null,
            "object_fit": null,
            "object_position": null,
            "order": null,
            "overflow": null,
            "overflow_x": null,
            "overflow_y": null,
            "padding": null,
            "right": null,
            "top": null,
            "visibility": null,
            "width": null
          }
        },
        "a996a5074f3344d683469f2f46a13e0c": {
          "model_module": "@jupyter-widgets/controls",
          "model_name": "DescriptionStyleModel",
          "model_module_version": "1.5.0",
          "state": {
            "_model_module": "@jupyter-widgets/controls",
            "_model_module_version": "1.5.0",
            "_model_name": "DescriptionStyleModel",
            "_view_count": null,
            "_view_module": "@jupyter-widgets/base",
            "_view_module_version": "1.2.0",
            "_view_name": "StyleView",
            "description_width": ""
          }
        },
        "14215ba14ffd432cad703dc988993337": {
          "model_module": "@jupyter-widgets/base",
          "model_name": "LayoutModel",
          "model_module_version": "1.2.0",
          "state": {
            "_model_module": "@jupyter-widgets/base",
            "_model_module_version": "1.2.0",
            "_model_name": "LayoutModel",
            "_view_count": null,
            "_view_module": "@jupyter-widgets/base",
            "_view_module_version": "1.2.0",
            "_view_name": "LayoutView",
            "align_content": null,
            "align_items": null,
            "align_self": null,
            "border": null,
            "bottom": null,
            "display": null,
            "flex": null,
            "flex_flow": null,
            "grid_area": null,
            "grid_auto_columns": null,
            "grid_auto_flow": null,
            "grid_auto_rows": null,
            "grid_column": null,
            "grid_gap": null,
            "grid_row": null,
            "grid_template_areas": null,
            "grid_template_columns": null,
            "grid_template_rows": null,
            "height": null,
            "justify_content": null,
            "justify_items": null,
            "left": null,
            "margin": null,
            "max_height": null,
            "max_width": null,
            "min_height": null,
            "min_width": null,
            "object_fit": null,
            "object_position": null,
            "order": null,
            "overflow": null,
            "overflow_x": null,
            "overflow_y": null,
            "padding": null,
            "right": null,
            "top": null,
            "visibility": null,
            "width": null
          }
        },
        "92e3b9defa064796961eb7252c12e434": {
          "model_module": "@jupyter-widgets/controls",
          "model_name": "ProgressStyleModel",
          "model_module_version": "1.5.0",
          "state": {
            "_model_module": "@jupyter-widgets/controls",
            "_model_module_version": "1.5.0",
            "_model_name": "ProgressStyleModel",
            "_view_count": null,
            "_view_module": "@jupyter-widgets/base",
            "_view_module_version": "1.2.0",
            "_view_name": "StyleView",
            "bar_color": null,
            "description_width": ""
          }
        },
        "ae0b2f61d7124167998d3060ed6b9250": {
          "model_module": "@jupyter-widgets/base",
          "model_name": "LayoutModel",
          "model_module_version": "1.2.0",
          "state": {
            "_model_module": "@jupyter-widgets/base",
            "_model_module_version": "1.2.0",
            "_model_name": "LayoutModel",
            "_view_count": null,
            "_view_module": "@jupyter-widgets/base",
            "_view_module_version": "1.2.0",
            "_view_name": "LayoutView",
            "align_content": null,
            "align_items": null,
            "align_self": null,
            "border": null,
            "bottom": null,
            "display": null,
            "flex": null,
            "flex_flow": null,
            "grid_area": null,
            "grid_auto_columns": null,
            "grid_auto_flow": null,
            "grid_auto_rows": null,
            "grid_column": null,
            "grid_gap": null,
            "grid_row": null,
            "grid_template_areas": null,
            "grid_template_columns": null,
            "grid_template_rows": null,
            "height": null,
            "justify_content": null,
            "justify_items": null,
            "left": null,
            "margin": null,
            "max_height": null,
            "max_width": null,
            "min_height": null,
            "min_width": null,
            "object_fit": null,
            "object_position": null,
            "order": null,
            "overflow": null,
            "overflow_x": null,
            "overflow_y": null,
            "padding": null,
            "right": null,
            "top": null,
            "visibility": null,
            "width": null
          }
        },
        "f49515e29e034ef3bbe9e682c1b19147": {
          "model_module": "@jupyter-widgets/controls",
          "model_name": "DescriptionStyleModel",
          "model_module_version": "1.5.0",
          "state": {
            "_model_module": "@jupyter-widgets/controls",
            "_model_module_version": "1.5.0",
            "_model_name": "DescriptionStyleModel",
            "_view_count": null,
            "_view_module": "@jupyter-widgets/base",
            "_view_module_version": "1.2.0",
            "_view_name": "StyleView",
            "description_width": ""
          }
        },
        "2ab538e08db34716982ec1532694c9f7": {
          "model_module": "@jupyter-widgets/controls",
          "model_name": "HBoxModel",
          "model_module_version": "1.5.0",
          "state": {
            "_dom_classes": [],
            "_model_module": "@jupyter-widgets/controls",
            "_model_module_version": "1.5.0",
            "_model_name": "HBoxModel",
            "_view_count": null,
            "_view_module": "@jupyter-widgets/controls",
            "_view_module_version": "1.5.0",
            "_view_name": "HBoxView",
            "box_style": "",
            "children": [
              "IPY_MODEL_a859d61fb18f4fd3ad059e8cd73379ef",
              "IPY_MODEL_2d33803df1a84543a57ec29b69458822",
              "IPY_MODEL_c0e01e3149b74f85babf3ef1c0e1620f"
            ],
            "layout": "IPY_MODEL_f40049dcbfe240d9b49fd5d72b3a426d"
          }
        },
        "a859d61fb18f4fd3ad059e8cd73379ef": {
          "model_module": "@jupyter-widgets/controls",
          "model_name": "HTMLModel",
          "model_module_version": "1.5.0",
          "state": {
            "_dom_classes": [],
            "_model_module": "@jupyter-widgets/controls",
            "_model_module_version": "1.5.0",
            "_model_name": "HTMLModel",
            "_view_count": null,
            "_view_module": "@jupyter-widgets/controls",
            "_view_module_version": "1.5.0",
            "_view_name": "HTMLView",
            "description": "",
            "description_tooltip": null,
            "layout": "IPY_MODEL_4f89f9dc19464981939ca2dc1fd05e8c",
            "placeholder": "​",
            "style": "IPY_MODEL_558fc4fcc74e435ab37091fb07f24ba5",
            "value": "Render HTML: 100%"
          }
        },
        "2d33803df1a84543a57ec29b69458822": {
          "model_module": "@jupyter-widgets/controls",
          "model_name": "FloatProgressModel",
          "model_module_version": "1.5.0",
          "state": {
            "_dom_classes": [],
            "_model_module": "@jupyter-widgets/controls",
            "_model_module_version": "1.5.0",
            "_model_name": "FloatProgressModel",
            "_view_count": null,
            "_view_module": "@jupyter-widgets/controls",
            "_view_module_version": "1.5.0",
            "_view_name": "ProgressView",
            "bar_style": "success",
            "description": "",
            "description_tooltip": null,
            "layout": "IPY_MODEL_ac193de4de304696a91918e238e88af7",
            "max": 1,
            "min": 0,
            "orientation": "horizontal",
            "style": "IPY_MODEL_2e72f7ac60234caa8f034b4e5c0d95a4",
            "value": 1
          }
        },
        "c0e01e3149b74f85babf3ef1c0e1620f": {
          "model_module": "@jupyter-widgets/controls",
          "model_name": "HTMLModel",
          "model_module_version": "1.5.0",
          "state": {
            "_dom_classes": [],
            "_model_module": "@jupyter-widgets/controls",
            "_model_module_version": "1.5.0",
            "_model_name": "HTMLModel",
            "_view_count": null,
            "_view_module": "@jupyter-widgets/controls",
            "_view_module_version": "1.5.0",
            "_view_name": "HTMLView",
            "description": "",
            "description_tooltip": null,
            "layout": "IPY_MODEL_c4a2a105553448ae90d8cc8c1f65de04",
            "placeholder": "​",
            "style": "IPY_MODEL_cfb7628446914536b7556f28fe3bfc07",
            "value": " 1/1 [00:00&lt;00:00,  1.27it/s]"
          }
        },
        "f40049dcbfe240d9b49fd5d72b3a426d": {
          "model_module": "@jupyter-widgets/base",
          "model_name": "LayoutModel",
          "model_module_version": "1.2.0",
          "state": {
            "_model_module": "@jupyter-widgets/base",
            "_model_module_version": "1.2.0",
            "_model_name": "LayoutModel",
            "_view_count": null,
            "_view_module": "@jupyter-widgets/base",
            "_view_module_version": "1.2.0",
            "_view_name": "LayoutView",
            "align_content": null,
            "align_items": null,
            "align_self": null,
            "border": null,
            "bottom": null,
            "display": null,
            "flex": null,
            "flex_flow": null,
            "grid_area": null,
            "grid_auto_columns": null,
            "grid_auto_flow": null,
            "grid_auto_rows": null,
            "grid_column": null,
            "grid_gap": null,
            "grid_row": null,
            "grid_template_areas": null,
            "grid_template_columns": null,
            "grid_template_rows": null,
            "height": null,
            "justify_content": null,
            "justify_items": null,
            "left": null,
            "margin": null,
            "max_height": null,
            "max_width": null,
            "min_height": null,
            "min_width": null,
            "object_fit": null,
            "object_position": null,
            "order": null,
            "overflow": null,
            "overflow_x": null,
            "overflow_y": null,
            "padding": null,
            "right": null,
            "top": null,
            "visibility": null,
            "width": null
          }
        },
        "4f89f9dc19464981939ca2dc1fd05e8c": {
          "model_module": "@jupyter-widgets/base",
          "model_name": "LayoutModel",
          "model_module_version": "1.2.0",
          "state": {
            "_model_module": "@jupyter-widgets/base",
            "_model_module_version": "1.2.0",
            "_model_name": "LayoutModel",
            "_view_count": null,
            "_view_module": "@jupyter-widgets/base",
            "_view_module_version": "1.2.0",
            "_view_name": "LayoutView",
            "align_content": null,
            "align_items": null,
            "align_self": null,
            "border": null,
            "bottom": null,
            "display": null,
            "flex": null,
            "flex_flow": null,
            "grid_area": null,
            "grid_auto_columns": null,
            "grid_auto_flow": null,
            "grid_auto_rows": null,
            "grid_column": null,
            "grid_gap": null,
            "grid_row": null,
            "grid_template_areas": null,
            "grid_template_columns": null,
            "grid_template_rows": null,
            "height": null,
            "justify_content": null,
            "justify_items": null,
            "left": null,
            "margin": null,
            "max_height": null,
            "max_width": null,
            "min_height": null,
            "min_width": null,
            "object_fit": null,
            "object_position": null,
            "order": null,
            "overflow": null,
            "overflow_x": null,
            "overflow_y": null,
            "padding": null,
            "right": null,
            "top": null,
            "visibility": null,
            "width": null
          }
        },
        "558fc4fcc74e435ab37091fb07f24ba5": {
          "model_module": "@jupyter-widgets/controls",
          "model_name": "DescriptionStyleModel",
          "model_module_version": "1.5.0",
          "state": {
            "_model_module": "@jupyter-widgets/controls",
            "_model_module_version": "1.5.0",
            "_model_name": "DescriptionStyleModel",
            "_view_count": null,
            "_view_module": "@jupyter-widgets/base",
            "_view_module_version": "1.2.0",
            "_view_name": "StyleView",
            "description_width": ""
          }
        },
        "ac193de4de304696a91918e238e88af7": {
          "model_module": "@jupyter-widgets/base",
          "model_name": "LayoutModel",
          "model_module_version": "1.2.0",
          "state": {
            "_model_module": "@jupyter-widgets/base",
            "_model_module_version": "1.2.0",
            "_model_name": "LayoutModel",
            "_view_count": null,
            "_view_module": "@jupyter-widgets/base",
            "_view_module_version": "1.2.0",
            "_view_name": "LayoutView",
            "align_content": null,
            "align_items": null,
            "align_self": null,
            "border": null,
            "bottom": null,
            "display": null,
            "flex": null,
            "flex_flow": null,
            "grid_area": null,
            "grid_auto_columns": null,
            "grid_auto_flow": null,
            "grid_auto_rows": null,
            "grid_column": null,
            "grid_gap": null,
            "grid_row": null,
            "grid_template_areas": null,
            "grid_template_columns": null,
            "grid_template_rows": null,
            "height": null,
            "justify_content": null,
            "justify_items": null,
            "left": null,
            "margin": null,
            "max_height": null,
            "max_width": null,
            "min_height": null,
            "min_width": null,
            "object_fit": null,
            "object_position": null,
            "order": null,
            "overflow": null,
            "overflow_x": null,
            "overflow_y": null,
            "padding": null,
            "right": null,
            "top": null,
            "visibility": null,
            "width": null
          }
        },
        "2e72f7ac60234caa8f034b4e5c0d95a4": {
          "model_module": "@jupyter-widgets/controls",
          "model_name": "ProgressStyleModel",
          "model_module_version": "1.5.0",
          "state": {
            "_model_module": "@jupyter-widgets/controls",
            "_model_module_version": "1.5.0",
            "_model_name": "ProgressStyleModel",
            "_view_count": null,
            "_view_module": "@jupyter-widgets/base",
            "_view_module_version": "1.2.0",
            "_view_name": "StyleView",
            "bar_color": null,
            "description_width": ""
          }
        },
        "c4a2a105553448ae90d8cc8c1f65de04": {
          "model_module": "@jupyter-widgets/base",
          "model_name": "LayoutModel",
          "model_module_version": "1.2.0",
          "state": {
            "_model_module": "@jupyter-widgets/base",
            "_model_module_version": "1.2.0",
            "_model_name": "LayoutModel",
            "_view_count": null,
            "_view_module": "@jupyter-widgets/base",
            "_view_module_version": "1.2.0",
            "_view_name": "LayoutView",
            "align_content": null,
            "align_items": null,
            "align_self": null,
            "border": null,
            "bottom": null,
            "display": null,
            "flex": null,
            "flex_flow": null,
            "grid_area": null,
            "grid_auto_columns": null,
            "grid_auto_flow": null,
            "grid_auto_rows": null,
            "grid_column": null,
            "grid_gap": null,
            "grid_row": null,
            "grid_template_areas": null,
            "grid_template_columns": null,
            "grid_template_rows": null,
            "height": null,
            "justify_content": null,
            "justify_items": null,
            "left": null,
            "margin": null,
            "max_height": null,
            "max_width": null,
            "min_height": null,
            "min_width": null,
            "object_fit": null,
            "object_position": null,
            "order": null,
            "overflow": null,
            "overflow_x": null,
            "overflow_y": null,
            "padding": null,
            "right": null,
            "top": null,
            "visibility": null,
            "width": null
          }
        },
        "cfb7628446914536b7556f28fe3bfc07": {
          "model_module": "@jupyter-widgets/controls",
          "model_name": "DescriptionStyleModel",
          "model_module_version": "1.5.0",
          "state": {
            "_model_module": "@jupyter-widgets/controls",
            "_model_module_version": "1.5.0",
            "_model_name": "DescriptionStyleModel",
            "_view_count": null,
            "_view_module": "@jupyter-widgets/base",
            "_view_module_version": "1.2.0",
            "_view_name": "StyleView",
            "description_width": ""
          }
        },
        "91a7d1ba25644f8dbbbb7790a7043a34": {
          "model_module": "@jupyter-widgets/controls",
          "model_name": "HBoxModel",
          "model_module_version": "1.5.0",
          "state": {
            "_dom_classes": [],
            "_model_module": "@jupyter-widgets/controls",
            "_model_module_version": "1.5.0",
            "_model_name": "HBoxModel",
            "_view_count": null,
            "_view_module": "@jupyter-widgets/controls",
            "_view_module_version": "1.5.0",
            "_view_name": "HBoxView",
            "box_style": "",
            "children": [
              "IPY_MODEL_8a6d52d51f9648fe84b3637e8e688b51",
              "IPY_MODEL_12769144d7254fb2a17a77f46ebd852c",
              "IPY_MODEL_3b338157fedb48339bea93760994137f"
            ],
            "layout": "IPY_MODEL_b1e278ecbb264fc494c69afdb454e80c"
          }
        },
        "8a6d52d51f9648fe84b3637e8e688b51": {
          "model_module": "@jupyter-widgets/controls",
          "model_name": "HTMLModel",
          "model_module_version": "1.5.0",
          "state": {
            "_dom_classes": [],
            "_model_module": "@jupyter-widgets/controls",
            "_model_module_version": "1.5.0",
            "_model_name": "HTMLModel",
            "_view_count": null,
            "_view_module": "@jupyter-widgets/controls",
            "_view_module_version": "1.5.0",
            "_view_name": "HTMLView",
            "description": "",
            "description_tooltip": null,
            "layout": "IPY_MODEL_a2e6df982a7f4dc79177d42fd1874462",
            "placeholder": "​",
            "style": "IPY_MODEL_020df035e1e745e083c6587c0bc715ca",
            "value": "Export report to file: 100%"
          }
        },
        "12769144d7254fb2a17a77f46ebd852c": {
          "model_module": "@jupyter-widgets/controls",
          "model_name": "FloatProgressModel",
          "model_module_version": "1.5.0",
          "state": {
            "_dom_classes": [],
            "_model_module": "@jupyter-widgets/controls",
            "_model_module_version": "1.5.0",
            "_model_name": "FloatProgressModel",
            "_view_count": null,
            "_view_module": "@jupyter-widgets/controls",
            "_view_module_version": "1.5.0",
            "_view_name": "ProgressView",
            "bar_style": "success",
            "description": "",
            "description_tooltip": null,
            "layout": "IPY_MODEL_c24bf5a57c1f4fa1b63927ec1bfd09e6",
            "max": 1,
            "min": 0,
            "orientation": "horizontal",
            "style": "IPY_MODEL_08a47cf38e554f2ca457a3a9cff7c422",
            "value": 1
          }
        },
        "3b338157fedb48339bea93760994137f": {
          "model_module": "@jupyter-widgets/controls",
          "model_name": "HTMLModel",
          "model_module_version": "1.5.0",
          "state": {
            "_dom_classes": [],
            "_model_module": "@jupyter-widgets/controls",
            "_model_module_version": "1.5.0",
            "_model_name": "HTMLModel",
            "_view_count": null,
            "_view_module": "@jupyter-widgets/controls",
            "_view_module_version": "1.5.0",
            "_view_name": "HTMLView",
            "description": "",
            "description_tooltip": null,
            "layout": "IPY_MODEL_9c9a9556de424dd994999f6a68ef2e8c",
            "placeholder": "​",
            "style": "IPY_MODEL_77647ce6559c47a4a04f87139d73ee1a",
            "value": " 1/1 [00:00&lt;00:00, 42.49it/s]"
          }
        },
        "b1e278ecbb264fc494c69afdb454e80c": {
          "model_module": "@jupyter-widgets/base",
          "model_name": "LayoutModel",
          "model_module_version": "1.2.0",
          "state": {
            "_model_module": "@jupyter-widgets/base",
            "_model_module_version": "1.2.0",
            "_model_name": "LayoutModel",
            "_view_count": null,
            "_view_module": "@jupyter-widgets/base",
            "_view_module_version": "1.2.0",
            "_view_name": "LayoutView",
            "align_content": null,
            "align_items": null,
            "align_self": null,
            "border": null,
            "bottom": null,
            "display": null,
            "flex": null,
            "flex_flow": null,
            "grid_area": null,
            "grid_auto_columns": null,
            "grid_auto_flow": null,
            "grid_auto_rows": null,
            "grid_column": null,
            "grid_gap": null,
            "grid_row": null,
            "grid_template_areas": null,
            "grid_template_columns": null,
            "grid_template_rows": null,
            "height": null,
            "justify_content": null,
            "justify_items": null,
            "left": null,
            "margin": null,
            "max_height": null,
            "max_width": null,
            "min_height": null,
            "min_width": null,
            "object_fit": null,
            "object_position": null,
            "order": null,
            "overflow": null,
            "overflow_x": null,
            "overflow_y": null,
            "padding": null,
            "right": null,
            "top": null,
            "visibility": null,
            "width": null
          }
        },
        "a2e6df982a7f4dc79177d42fd1874462": {
          "model_module": "@jupyter-widgets/base",
          "model_name": "LayoutModel",
          "model_module_version": "1.2.0",
          "state": {
            "_model_module": "@jupyter-widgets/base",
            "_model_module_version": "1.2.0",
            "_model_name": "LayoutModel",
            "_view_count": null,
            "_view_module": "@jupyter-widgets/base",
            "_view_module_version": "1.2.0",
            "_view_name": "LayoutView",
            "align_content": null,
            "align_items": null,
            "align_self": null,
            "border": null,
            "bottom": null,
            "display": null,
            "flex": null,
            "flex_flow": null,
            "grid_area": null,
            "grid_auto_columns": null,
            "grid_auto_flow": null,
            "grid_auto_rows": null,
            "grid_column": null,
            "grid_gap": null,
            "grid_row": null,
            "grid_template_areas": null,
            "grid_template_columns": null,
            "grid_template_rows": null,
            "height": null,
            "justify_content": null,
            "justify_items": null,
            "left": null,
            "margin": null,
            "max_height": null,
            "max_width": null,
            "min_height": null,
            "min_width": null,
            "object_fit": null,
            "object_position": null,
            "order": null,
            "overflow": null,
            "overflow_x": null,
            "overflow_y": null,
            "padding": null,
            "right": null,
            "top": null,
            "visibility": null,
            "width": null
          }
        },
        "020df035e1e745e083c6587c0bc715ca": {
          "model_module": "@jupyter-widgets/controls",
          "model_name": "DescriptionStyleModel",
          "model_module_version": "1.5.0",
          "state": {
            "_model_module": "@jupyter-widgets/controls",
            "_model_module_version": "1.5.0",
            "_model_name": "DescriptionStyleModel",
            "_view_count": null,
            "_view_module": "@jupyter-widgets/base",
            "_view_module_version": "1.2.0",
            "_view_name": "StyleView",
            "description_width": ""
          }
        },
        "c24bf5a57c1f4fa1b63927ec1bfd09e6": {
          "model_module": "@jupyter-widgets/base",
          "model_name": "LayoutModel",
          "model_module_version": "1.2.0",
          "state": {
            "_model_module": "@jupyter-widgets/base",
            "_model_module_version": "1.2.0",
            "_model_name": "LayoutModel",
            "_view_count": null,
            "_view_module": "@jupyter-widgets/base",
            "_view_module_version": "1.2.0",
            "_view_name": "LayoutView",
            "align_content": null,
            "align_items": null,
            "align_self": null,
            "border": null,
            "bottom": null,
            "display": null,
            "flex": null,
            "flex_flow": null,
            "grid_area": null,
            "grid_auto_columns": null,
            "grid_auto_flow": null,
            "grid_auto_rows": null,
            "grid_column": null,
            "grid_gap": null,
            "grid_row": null,
            "grid_template_areas": null,
            "grid_template_columns": null,
            "grid_template_rows": null,
            "height": null,
            "justify_content": null,
            "justify_items": null,
            "left": null,
            "margin": null,
            "max_height": null,
            "max_width": null,
            "min_height": null,
            "min_width": null,
            "object_fit": null,
            "object_position": null,
            "order": null,
            "overflow": null,
            "overflow_x": null,
            "overflow_y": null,
            "padding": null,
            "right": null,
            "top": null,
            "visibility": null,
            "width": null
          }
        },
        "08a47cf38e554f2ca457a3a9cff7c422": {
          "model_module": "@jupyter-widgets/controls",
          "model_name": "ProgressStyleModel",
          "model_module_version": "1.5.0",
          "state": {
            "_model_module": "@jupyter-widgets/controls",
            "_model_module_version": "1.5.0",
            "_model_name": "ProgressStyleModel",
            "_view_count": null,
            "_view_module": "@jupyter-widgets/base",
            "_view_module_version": "1.2.0",
            "_view_name": "StyleView",
            "bar_color": null,
            "description_width": ""
          }
        },
        "9c9a9556de424dd994999f6a68ef2e8c": {
          "model_module": "@jupyter-widgets/base",
          "model_name": "LayoutModel",
          "model_module_version": "1.2.0",
          "state": {
            "_model_module": "@jupyter-widgets/base",
            "_model_module_version": "1.2.0",
            "_model_name": "LayoutModel",
            "_view_count": null,
            "_view_module": "@jupyter-widgets/base",
            "_view_module_version": "1.2.0",
            "_view_name": "LayoutView",
            "align_content": null,
            "align_items": null,
            "align_self": null,
            "border": null,
            "bottom": null,
            "display": null,
            "flex": null,
            "flex_flow": null,
            "grid_area": null,
            "grid_auto_columns": null,
            "grid_auto_flow": null,
            "grid_auto_rows": null,
            "grid_column": null,
            "grid_gap": null,
            "grid_row": null,
            "grid_template_areas": null,
            "grid_template_columns": null,
            "grid_template_rows": null,
            "height": null,
            "justify_content": null,
            "justify_items": null,
            "left": null,
            "margin": null,
            "max_height": null,
            "max_width": null,
            "min_height": null,
            "min_width": null,
            "object_fit": null,
            "object_position": null,
            "order": null,
            "overflow": null,
            "overflow_x": null,
            "overflow_y": null,
            "padding": null,
            "right": null,
            "top": null,
            "visibility": null,
            "width": null
          }
        },
        "77647ce6559c47a4a04f87139d73ee1a": {
          "model_module": "@jupyter-widgets/controls",
          "model_name": "DescriptionStyleModel",
          "model_module_version": "1.5.0",
          "state": {
            "_model_module": "@jupyter-widgets/controls",
            "_model_module_version": "1.5.0",
            "_model_name": "DescriptionStyleModel",
            "_view_count": null,
            "_view_module": "@jupyter-widgets/base",
            "_view_module_version": "1.2.0",
            "_view_name": "StyleView",
            "description_width": ""
          }
        }
      }
    }
  },
  "nbformat": 4,
  "nbformat_minor": 0
}